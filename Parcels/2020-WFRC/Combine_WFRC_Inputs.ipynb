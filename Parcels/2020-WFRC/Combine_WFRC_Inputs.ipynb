{
 "cells": [
  {
   "cell_type": "code",
   "execution_count": 1,
   "metadata": {},
   "outputs": [],
   "source": [
    "import arcpy\n",
    "import os\n",
    "import pandas as pd\n",
    "from arcgis import GIS\n",
    "import numpy as np\n",
    "from arcgis.features import GeoAccessor, GeoSeriesAccessor\n",
    "arcpy.env.overwriteOutput = True\n",
    "\n",
    "# show all columns\n",
    "pd.options.display.max_columns = None\n",
    "\n",
    "# pathoutput folder\n",
    "outputs = '.\\\\Outputs'\n",
    "\n",
    "# pd.DataFrame.spatial.from_featureclass(???)\n",
    "# df.spatial.to_featureclass(location=???,sanitize_columns=False)"
   ]
  },
  {
   "cell_type": "markdown",
   "metadata": {},
   "source": [
    "## Stack Buildings"
   ]
  },
  {
   "cell_type": "code",
   "execution_count": 2,
   "metadata": {},
   "outputs": [],
   "source": [
    "db = pd.read_csv(r'..\\2020-Davis\\Outputs\\davis_buildings.csv')\n",
    "sb = pd.read_csv(r'..\\2020-SaltLake\\Outputs\\salt_lake_buildings.csv')\n",
    "wb = pd.read_csv(r'..\\2020-Weber\\Outputs\\weber_buildings.csv')"
   ]
  },
  {
   "cell_type": "code",
   "execution_count": 3,
   "metadata": {},
   "outputs": [],
   "source": [
    "# stack em\n",
    "wfrc_buildings = pd.concat([db,wb,sb])\n",
    "\n",
    "# generate unique building id\n",
    "wfrc_buildings['building_id'] = wfrc_buildings.index + 1\n",
    "\n",
    "# export\n",
    "wfrc_buildings.to_csv(os.path.join(outputs, 'buildings.csv'), index=False)"
   ]
  },
  {
   "cell_type": "markdown",
   "metadata": {},
   "source": [
    "## Stack Parcels (No Shape)"
   ]
  },
  {
   "cell_type": "code",
   "execution_count": 4,
   "metadata": {},
   "outputs": [
    {
     "name": "stderr",
     "output_type": "stream",
     "text": [
      "C:\\Users\\jreynolds\\AppData\\Local\\ESRI\\conda\\envs\\arcgispro-py3-clone\\lib\\site-packages\\IPython\\core\\interactiveshell.py:3146: DtypeWarning: Columns (0,21) have mixed types.Specify dtype option on import or set low_memory=False.\n",
      "  interactivity=interactivity, compiler=compiler, result=result)\n",
      "C:\\Users\\jreynolds\\AppData\\Local\\ESRI\\conda\\envs\\arcgispro-py3-clone\\lib\\site-packages\\IPython\\core\\interactiveshell.py:3146: DtypeWarning: Columns (1,2) have mixed types.Specify dtype option on import or set low_memory=False.\n",
      "  interactivity=interactivity, compiler=compiler, result=result)\n"
     ]
    }
   ],
   "source": [
    "dp = pd.read_csv(r'..\\2020-Davis\\Outputs\\davis_parcels.csv')\n",
    "sp = pd.read_csv(r'..\\2020-SaltLake\\Outputs\\salt_lake_parcels.csv')\n",
    "wp = pd.read_csv(r'..\\2020-Weber\\Outputs\\weber_parcels.csv')"
   ]
  },
  {
   "cell_type": "code",
   "execution_count": 5,
   "metadata": {},
   "outputs": [],
   "source": [
    "# stack em\n",
    "wfrc_parcels = pd.concat([dp,wp,sp])\n",
    "\n",
    "# generate unique building id\n",
    "wfrc_parcels['parcel_id_remm'] = wfrc_parcels.index + 1\n",
    "\n",
    "# Export\n",
    "wfrc_parcels.to_csv(os.path.join(outputs, 'parcels.csv'), index=False)"
   ]
  },
  {
   "cell_type": "markdown",
   "metadata": {},
   "source": [
    "## Stack Parcels  (w/ Shape)"
   ]
  },
  {
   "cell_type": "code",
   "execution_count": 6,
   "metadata": {},
   "outputs": [],
   "source": [
    "dps = pd.DataFrame.spatial.from_featureclass(r'..\\2020-Davis\\Outputs\\davis.gdb\\davis_parcels')\n",
    "sps = pd.DataFrame.spatial.from_featureclass(r'..\\2020-SaltLake\\Outputs\\salt_lake.gdb\\salt_lake_parcels')\n",
    "wps = pd.DataFrame.spatial.from_featureclass(r'..\\2020-Weber\\Outputs\\weber.gdb\\weber_parcels')"
   ]
  },
  {
   "cell_type": "code",
   "execution_count": 7,
   "metadata": {},
   "outputs": [
    {
     "data": {
      "text/plain": [
       "'E:\\\\Projects\\\\REMM-Input-Data-Prep-2019\\\\Parcels\\\\2020-WFRC\\\\Outputs\\\\remm_base_year_2020.gdb\\\\parcels'"
      ]
     },
     "execution_count": 7,
     "metadata": {},
     "output_type": "execute_result"
    }
   ],
   "source": [
    "# stack em\n",
    "wfrc_parcels_shape = pd.concat([dps,wps,sps])\n",
    "\n",
    "# generate unique building id\n",
    "wfrc_parcels['parcel_id_remm'] = wfrc_parcels.index + 1\n",
    "\n",
    "# create output gdb\n",
    "gdb = os.path.join(outputs, \"remm_base_year_2020.gdb\")\n",
    "if not arcpy.Exists(gdb):\n",
    "    arcpy.CreateFileGDB_management(outputs, \"remm_base_year_2020.gdb\")\n",
    "\n",
    "wfrc_parcels_shape.spatial.to_featureclass(location=os.path.join(gdb, 'parcels'),sanitize_columns=False)"
   ]
  }
 ],
 "metadata": {
  "kernelspec": {
   "display_name": "Python 3",
   "language": "python",
   "name": "python3"
  },
  "language_info": {
   "codemirror_mode": {
    "name": "ipython",
    "version": 3
   },
   "file_extension": ".py",
   "mimetype": "text/x-python",
   "name": "python",
   "nbconvert_exporter": "python",
   "pygments_lexer": "ipython3",
   "version": "3.7.9"
  },
  "varInspector": {
   "cols": {
    "lenName": 16,
    "lenType": 16,
    "lenVar": 40
   },
   "kernels_config": {
    "python": {
     "delete_cmd_postfix": "",
     "delete_cmd_prefix": "del ",
     "library": "var_list.py",
     "varRefreshCmd": "print(var_dic_list())"
    },
    "r": {
     "delete_cmd_postfix": ") ",
     "delete_cmd_prefix": "rm(",
     "library": "var_list.r",
     "varRefreshCmd": "cat(var_dic_list()) "
    }
   },
   "types_to_exclude": [
    "module",
    "function",
    "builtin_function_or_method",
    "instance",
    "_Feature"
   ],
   "window_display": false
  }
 },
 "nbformat": 4,
 "nbformat_minor": 4
}
