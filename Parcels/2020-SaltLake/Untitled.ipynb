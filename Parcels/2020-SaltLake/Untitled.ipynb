{
 "cells": [
  {
   "cell_type": "markdown",
   "metadata": {},
   "source": [
    "### Inputs\n",
    "- DWS jobs 2019\n",
    "    - geocoded\n",
    "    - non-geocoded\n",
    "- TAZ Polygons\n",
    "- Parcels\n",
    "    - square footage non res\n",
    "    - building type\n",
    "- county controls\n",
    "    - job count by sector for the base year\n",
    "- REMM Job Sector-Building Type Lookup Table"
   ]
  },
  {
   "cell_type": "markdown",
   "metadata": {},
   "source": [
    "0) Join DWS Geocoded points to the original dataset to gather NAICS and translate NAICS to REMM sector"
   ]
  },
  {
   "cell_type": "markdown",
   "metadata": {},
   "source": [
    "1) Generate TAZ-Level employment-related summaries\n",
    "- For each TAZ, summarize DWS Geocoded Points, for each REMM sector to compare with job spaces\n",
    "- Summarize the Sq Feet for each REMM building type across all the parcels in each TAZ\n",
    "- Calculate the Average Job Density for each job sector at the taz level (Square Feet Per Job)\n"
   ]
  },
  {
   "cell_type": "markdown",
   "metadata": {},
   "source": [
    "2) Assign DWS employment points to each intersecting parcel."
   ]
  },
  {
   "cell_type": "markdown",
   "metadata": {},
   "source": [
    "3) Create a new Buildings array, and for each parcel,  create a corresponding building object in the buildings array with sector, sq feet, and DWS job count (by sector)"
   ]
  },
  {
   "cell_type": "markdown",
   "metadata": {},
   "source": [
    "4) Calculate the Average Job Density for each building (Square Feet Per Job) \n",
    "- (2015 DWS) building_sqft_per_job:\n",
    "  - 1: 200\n",
    "  - 2: 200\n",
    "  - 3: 975\n",
    "  - 4: 374\n",
    "  - 5: 633\n",
    "  - 6: 350\n",
    "  - 7: 537\n",
    "  - 8: 300\n",
    "\n",
    "- Calculate number of job spaces per parcel/building, using an accepted average or as needed adjusting upward within reason"
   ]
  },
  {
   "cell_type": "markdown",
   "metadata": {},
   "source": [
    "5) assert manual job space corrections from point feature class "
   ]
  },
  {
   "cell_type": "markdown",
   "metadata": {},
   "source": [
    "6) identify outliers where average job density is too small/big for the sector"
   ]
  },
  {
   "cell_type": "markdown",
   "metadata": {},
   "source": [
    "7) if assigned DWS job density in a building is extremely HIGH then relocate using 1) relocation within TAZ OR 2) remove  for REMM to relocate at county level"
   ]
  },
  {
   "cell_type": "markdown",
   "metadata": {},
   "source": [
    "8) Optional process for redistributing excess jobs from a building to nearby buildings within TAZ (gravity model?)\n",
    "\n",
    "- Perhaps check to see if existing sector specific job densities are too high in TAZ already\n",
    "- For buildings tha have an excessively high job density...transfer extra jobs to low job density buildings for the same sector, within the TAZ (how? probability based on job density? gravity model)"
   ]
  },
  {
   "cell_type": "markdown",
   "metadata": {},
   "source": [
    "9) run REMM through base year to reach control totals"
   ]
  }
 ],
 "metadata": {
  "kernelspec": {
   "display_name": "joshPy3",
   "language": "python",
   "name": "joshpy3"
  },
  "language_info": {
   "codemirror_mode": {
    "name": "ipython",
    "version": 3
   },
   "file_extension": ".py",
   "mimetype": "text/x-python",
   "name": "python",
   "nbconvert_exporter": "python",
   "pygments_lexer": "ipython3",
   "version": "3.6.10"
  }
 },
 "nbformat": 4,
 "nbformat_minor": 4
}
