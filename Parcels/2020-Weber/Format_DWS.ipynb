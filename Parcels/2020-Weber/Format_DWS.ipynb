{
 "cells": [
  {
   "cell_type": "code",
   "execution_count": 1,
   "metadata": {},
   "outputs": [],
   "source": [
    "import arcpy\n",
    "import os\n",
    "import pandas as pd\n",
    "from arcgis import GIS\n",
    "import numpy as np\n",
    "from arcgis.features import GeoAccessor, GeoSeriesAccessor\n",
    "arcpy.env.overwriteOutput = True\n",
    "\n",
    "# show all columns\n",
    "pd.options.display.max_columns = None"
   ]
  },
  {
   "cell_type": "code",
   "execution_count": 2,
   "metadata": {},
   "outputs": [],
   "source": [
    "dws = r'E:\\REMM\\REMM_2020_Data_Inputs\\DWSEmployment2019.gdb\\DWSEmployment2019_located'\n",
    "dws_sdf = pd.DataFrame.spatial.from_featureclass(dws)"
   ]
  },
  {
   "cell_type": "code",
   "execution_count": 3,
   "metadata": {},
   "outputs": [
    {
     "name": "stdout",
     "output_type": "stream",
     "text": [
      "office        17238\n",
      "retail        11106\n",
      "healthcare     4653\n",
      "commercial     3528\n",
      "industrial     2083\n",
      "               1566\n",
      "education      1117\n",
      "Name: Tag, dtype: int64\n"
     ]
    }
   ],
   "source": [
    "# Recode dws data\n",
    "dws_sdf['Tag'] = \"\"\n",
    "dws_sdf['NAICS']= dws_sdf['NAICS'].astype(str) \n",
    "\n",
    "# industry?\n",
    "dws_sdf.loc[dws_sdf['NAICS'].str.startswith('3', na=False), 'Tag'] = \"industrial\"\n",
    "dws_sdf.loc[dws_sdf['NAICS'].str.startswith('562', na=False), 'Tag'] = \"industrial\"\n",
    "\n",
    "# wholesale?\n",
    "dws_sdf.loc[dws_sdf['NAICS'].str.startswith('48', na=False), 'Tag'] = \"commercial\"\n",
    "dws_sdf.loc[dws_sdf['NAICS'].str.startswith('49', na=False), 'Tag'] = \"commercial\"\n",
    "dws_sdf.loc[dws_sdf['NAICS'].str.startswith('423', na=False), 'Tag'] = \"commercial\"\n",
    "dws_sdf.loc[dws_sdf['NAICS'].str.startswith('424', na=False), 'Tag'] = \"commercial\"\n",
    "dws_sdf.loc[dws_sdf['NAICS'].str.startswith('425', na=False), 'Tag'] = \"commercial\"\n",
    "dws_sdf.loc[dws_sdf['NAICS'].str.startswith('423', na=False), 'Tag'] = \"commercial\"\n",
    "dws_sdf.loc[dws_sdf['NAICS'].str.startswith('424', na=False), 'Tag'] = \"commercial\"\n",
    "dws_sdf.loc[dws_sdf['NAICS'].str.startswith('425', na=False), 'Tag'] = \"commercial\"\n",
    "\n",
    "dws_sdf.loc[dws_sdf['NAICS'].str.startswith('51', na=False), 'Tag'] = \"office\"\n",
    "dws_sdf.loc[dws_sdf['NAICS'].str.startswith('52', na=False), 'Tag'] = \"office\"\n",
    "dws_sdf.loc[dws_sdf['NAICS'].str.startswith('53', na=False), 'Tag'] = \"office\"\n",
    "dws_sdf.loc[dws_sdf['NAICS'].str.startswith('54', na=False), 'Tag'] = \"office\"\n",
    "dws_sdf.loc[dws_sdf['NAICS'].str.startswith('55', na=False), 'Tag'] = \"office\"\n",
    "dws_sdf.loc[dws_sdf['NAICS'].str.startswith('561', na=False), 'Tag'] = \"office\"\n",
    "dws_sdf.loc[dws_sdf['NAICS'].str.startswith('81', na=False), 'Tag'] = \"office\"\n",
    "dws_sdf.loc[dws_sdf['NAICS'].str.startswith('92', na=False), 'Tag'] = \"office\"\n",
    "\n",
    "dws_sdf.loc[dws_sdf['NAICS'].str.startswith('61', na=False), 'Tag'] = \"education\"\n",
    "\n",
    "dws_sdf.loc[dws_sdf['NAICS'].str.startswith('62', na=False), 'Tag'] = \"healthcare\"\n",
    "\n",
    "dws_sdf.loc[dws_sdf['NAICS'].str.startswith('71', na=False), 'Tag'] = \"retail\"\n",
    "dws_sdf.loc[dws_sdf['NAICS'].str.startswith('111', na=False), 'Tag'] = \"retail\"\n",
    "dws_sdf.loc[dws_sdf['NAICS'].str.startswith('238', na=False), 'Tag'] = \"retail\"\n",
    "dws_sdf.loc[dws_sdf['NAICS'].str.startswith('441', na=False), 'Tag'] = \"retail\"\n",
    "dws_sdf.loc[dws_sdf['NAICS'].str.startswith('442', na=False), 'Tag'] = \"retail\"\n",
    "dws_sdf.loc[dws_sdf['NAICS'].str.startswith('443', na=False), 'Tag'] = \"retail\"\n",
    "dws_sdf.loc[dws_sdf['NAICS'].str.startswith('444', na=False), 'Tag'] = \"retail\"\n",
    "dws_sdf.loc[dws_sdf['NAICS'].str.startswith('445', na=False), 'Tag'] = \"retail\"\n",
    "dws_sdf.loc[dws_sdf['NAICS'].str.startswith('446', na=False), 'Tag'] = \"retail\"\n",
    "dws_sdf.loc[dws_sdf['NAICS'].str.startswith('447', na=False), 'Tag'] = \"retail\"\n",
    "dws_sdf.loc[dws_sdf['NAICS'].str.startswith('448', na=False), 'Tag'] = \"retail\"\n",
    "dws_sdf.loc[dws_sdf['NAICS'].str.startswith('451', na=False), 'Tag'] = \"retail\"\n",
    "dws_sdf.loc[dws_sdf['NAICS'].str.startswith('452', na=False), 'Tag'] = \"retail\"\n",
    "dws_sdf.loc[dws_sdf['NAICS'].str.startswith('453', na=False), 'Tag'] = \"retail\"\n",
    "dws_sdf.loc[dws_sdf['NAICS'].str.startswith('454', na=False), 'Tag'] = \"retail\"\n",
    "dws_sdf.loc[dws_sdf['NAICS'].str.startswith('721', na=False), 'Tag'] = \"retail\"\n",
    "dws_sdf.loc[dws_sdf['NAICS'].str.startswith('722', na=False), 'Tag'] = \"retail\"\n",
    "\n",
    "# # check result\n",
    "# dws_sdf[dws_sdf['Tag'] == 'IndustryDWS']\n",
    "print(dws_sdf['Tag'].value_counts())"
   ]
  },
  {
   "cell_type": "code",
   "execution_count": 4,
   "metadata": {},
   "outputs": [
    {
     "data": {
      "text/plain": [
       "Index(['OBJECTID', 'primary_key', 'input_street', 'input_zone', 'x', 'y',\n",
       "       'score', 'locator', 'matchAddress', 'standardizedAddress',\n",
       "       'addressGrid', 'message', 'YRQTR', 'Legal_Name', 'DBA', 'PHYSSADD',\n",
       "       'PHYSSADD2', 'PHYS_CITY', 'PHYS_ST', 'PHYS_ZIP', 'NAICS', 'OWN',\n",
       "       'COUNTY', 'July', 'LAT', 'LONG', 'MPO_ID', 'REMMSectorID', 'Located',\n",
       "       'Method', 'PHYSSADD_corrected', 'PHYS_ZIP_corrected', 'SHAPE', 'Tag'],\n",
       "      dtype='object')"
      ]
     },
     "execution_count": 4,
     "metadata": {},
     "output_type": "execute_result"
    }
   ],
   "source": [
    "dws_sdf.columns"
   ]
  },
  {
   "cell_type": "code",
   "execution_count": 5,
   "metadata": {
    "scrolled": true
   },
   "outputs": [
    {
     "data": {
      "text/plain": [
       "'E:\\\\REMM\\\\REMM_2020_Data_Inputs\\\\dws_2019_with_industry_tag.shp'"
      ]
     },
     "execution_count": 5,
     "metadata": {},
     "output_type": "execute_result"
    }
   ],
   "source": [
    "# export\n",
    "dws_sdf = dws_sdf[['primary_key','Legal_Name','x','y','PHYS_CITY', 'NAICS','July', 'Tag', 'SHAPE']].copy()\n",
    "dws_sdf.columns = ['unique_id','Legal_Name','x','y','PHYS_CITY', 'NAICS','July', 'Tag', 'SHAPE']\n",
    "dws_new = r'E:\\REMM\\REMM_2020_Data_Inputs\\dws_2019_with_industry_tag'\n",
    "dws_sdf.spatial.to_featureclass(location=dws_new)"
   ]
  },
  {
   "cell_type": "code",
   "execution_count": null,
   "metadata": {},
   "outputs": [],
   "source": []
  },
  {
   "cell_type": "code",
   "execution_count": null,
   "metadata": {},
   "outputs": [],
   "source": []
  },
  {
   "cell_type": "code",
   "execution_count": null,
   "metadata": {},
   "outputs": [],
   "source": []
  }
 ],
 "metadata": {
  "kernelspec": {
   "display_name": "joshPy3",
   "language": "python",
   "name": "joshpy3"
  },
  "language_info": {
   "codemirror_mode": {
    "name": "ipython",
    "version": 3
   },
   "file_extension": ".py",
   "mimetype": "text/x-python",
   "name": "python",
   "nbconvert_exporter": "python",
   "pygments_lexer": "ipython3",
   "version": "3.7.9"
  }
 },
 "nbformat": 4,
 "nbformat_minor": 4
}
