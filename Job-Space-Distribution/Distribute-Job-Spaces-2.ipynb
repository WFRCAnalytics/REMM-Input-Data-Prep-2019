{
 "cells": [
  {
   "cell_type": "code",
   "execution_count": 40,
   "metadata": {},
   "outputs": [],
   "source": [
    "import arcpy\n",
    "from arcpy import env\n",
    "import os\n",
    "from arcgis import GIS\n",
    "from arcgis.features import GeoAccessor\n",
    "import pandas as pd\n",
    "import numpy as np\n",
    "\n",
    "arcpy.env.overwriteOutput = True\n",
    "arcpy.env.parallelProcessingFactor = \"80%\"\n",
    "\n",
    "# show all columns\n",
    "pd.options.display.max_columns = None\n",
    "\n",
    "# pd.DataFrame.spatial.from_featureclass(???)\n",
    "# df.spatial.to_featureclass(location=???,sanitize_columns=False)"
   ]
  },
  {
   "cell_type": "code",
   "execution_count": 41,
   "metadata": {},
   "outputs": [],
   "source": [
    "if not os.path.exists('Outputs'):\n",
    "    os.makedirs('Outputs')\n",
    "    \n",
    "outputs = ['.\\\\Outputs', \"job_spaces_2019.gdb\"]\n",
    "gdb = os.path.join(outputs[0], outputs[1])\n",
    "\n",
    "if not arcpy.Exists(gdb):\n",
    "    arcpy.CreateFileGDB_management(outputs[0], outputs[1])"
   ]
  },
  {
   "cell_type": "code",
   "execution_count": 42,
   "metadata": {},
   "outputs": [],
   "source": [
    "parcels = r\"E:\\Projects\\REMM-Input-Data-Prep-2019\\Parcels\\2020-WFRC\\Outputs\\recompile3.gdb\\parcels_2019\"\n",
    "dws_pts = r'E:\\Projects\\REMM-Input-Data-Prep-2019\\Job-Space-Distribution\\Inputs\\RegionDWS_REMM.gdb\\RegionDWS_Employment'\n",
    "taz = r'E:\\Data\\Boundaries\\TAZ 2021-06-12\\USTM TAZ - 2021-06-12.shp' # filter REMM == 1\n",
    "taz_lyr = arcpy.MakeFeatureLayer_management(taz, 'taz_pts', '''SUBAREAID = 1''')"
   ]
  },
  {
   "cell_type": "code",
   "execution_count": 43,
   "metadata": {},
   "outputs": [],
   "source": [
    "# # spatial join\n",
    "# target_features = parcels\n",
    "# join_features = dws_pts\n",
    "# output_features = os.path.join(gdb, \"parcel_dws_sj\")\n",
    "\n",
    "# fieldmappings = arcpy.FieldMappings()\n",
    "# fieldmappings.addTable(target_features)\n",
    "# fieldmappings.addTable(join_features)\n",
    "\n",
    "# # total market value\n",
    "# fieldindex = fieldmappings.findFieldMapIndex('Emp2019')\n",
    "# fieldmap = fieldmappings.getFieldMap(fieldindex)\n",
    "# fieldmap.mergeRule = 'Sum'\n",
    "# fieldmappings.replaceFieldMap(fieldindex, fieldmap)\n",
    "\n",
    "# # run the spatial join, use 'Join_Count' for number of units\n",
    "# sj = arcpy.SpatialJoin_analysis(target_features, join_features, output_features,'JOIN_ONE_TO_ONE', \"KEEP_ALL\", fieldmappings, \"INTERSECT\")"
   ]
  },
  {
   "cell_type": "code",
   "execution_count": 44,
   "metadata": {},
   "outputs": [],
   "source": [
    "# # spatial join\n",
    "# target_features = sj\n",
    "# join_features = taz_lyr\n",
    "# output_features = os.path.join(gdb, \"parcel_dws_taz_sj\")\n",
    "\n",
    "# fieldmappings = arcpy.FieldMappings()\n",
    "# fieldmappings.addTable(target_features)\n",
    "# fieldmappings.addTable(join_features)\n",
    "\n",
    "# # run the spatial join, use 'Join_Count' for number of units\n",
    "# sj2 = arcpy.SpatialJoin_analysis(target_features, join_features, output_features,'JOIN_ONE_TO_ONE', \"KEEP_ALL\", fieldmappings, \"HAVE_THEIR_CENTER_IN\")\n",
    "# parcels_sdf = pd.DataFrame.spatial.from_featureclass(sj2[0])"
   ]
  },
  {
   "cell_type": "code",
   "execution_count": 45,
   "metadata": {},
   "outputs": [],
   "source": [
    "# print(list(parcels_sdf.columns))"
   ]
  },
  {
   "cell_type": "code",
   "execution_count": 46,
   "metadata": {},
   "outputs": [],
   "source": [
    "# # remove extra fields and export feature class\n",
    "# parcels_sdf = parcels_sdf[['CO_NAME', 'COUNTY_ID', 'PARCEL_ID', 'TOTAL_MKT_VALUE', 'land_value', 'residential_units', 'building_sqft', 'FLOORS_CNT', 'year_built', \n",
    "#                           'IS_OUG', 'max_dua', 'max_far', 'max_height', 'type1', 'type2', 'type3', 'type4', 'type5', 'type6', 'type7', 'type8', 'agriculture', 'basebldg', \n",
    "#                           'NoBuild', 'redev_friction', 'building_type_id', 'x', 'y', 'parcel_id_REMM', 'parcel_acres', 'Split', 'Split_Factor', 'TYPE','Emp2019', 'TAZID', \n",
    "                        #   'SA_TAZID', 'CO_TAZID','SHAPE']].copy()\n",
    "\n",
    "# parcels_sdf.spatial.to_featureclass(location=os.path.join(gdb, \"_00_base_year_parcels_with_total_jobs\"),sanitize_columns=False)"
   ]
  },
  {
   "cell_type": "code",
   "execution_count": 47,
   "metadata": {},
   "outputs": [],
   "source": [
    "# # export to csv for pivoting\n",
    "# filtered_parcels = parcels_sdf[(parcels_sdf['building_sqft'] > 100) & (parcels_sdf['Emp2019'] > 0)].copy()\n",
    "# del filtered_parcels['SHAPE']\n",
    "# filtered_parcels.to_csv(os.path.join(outputs[0], 'base_year_parcels_with_total_jobs.csv'), index=False)"
   ]
  },
  {
   "cell_type": "code",
   "execution_count": 48,
   "metadata": {},
   "outputs": [],
   "source": [
    "# # subset parcels by county, then filter for those that have jobs and square footage\n",
    "# d = parcels_sdf[(parcels_sdf['COUNTY_ID']== '11') & (parcels_sdf['building_sqft'] > 100) & (parcels_sdf['Emp2019'] > 0)].copy()\n",
    "# w = parcels_sdf[(parcels_sdf['COUNTY_ID']== '57') & (parcels_sdf['building_sqft'] > 100) & (parcels_sdf['Emp2019'] > 0)].copy()\n",
    "# sl = parcels_sdf[(parcels_sdf['COUNTY_ID']== '35') & (parcels_sdf['building_sqft'] > 100) & (parcels_sdf['Emp2019'] > 0)].copy()"
   ]
  },
  {
   "cell_type": "markdown",
   "metadata": {},
   "source": [
    "## Davis County\n"
   ]
  },
  {
   "cell_type": "code",
   "execution_count": 49,
   "metadata": {},
   "outputs": [],
   "source": [
    "# print('--FREQ--')\n",
    "# print(d['TYPE'].value_counts())"
   ]
  },
  {
   "cell_type": "code",
   "execution_count": 50,
   "metadata": {},
   "outputs": [],
   "source": [
    "# print('--MIN--')\n",
    "# print(d.groupby('TYPE')['building_sqft'].min())"
   ]
  },
  {
   "cell_type": "code",
   "execution_count": 51,
   "metadata": {},
   "outputs": [],
   "source": [
    "# print('--MAX--')\n",
    "# print(d.groupby('TYPE')['building_sqft'].max())"
   ]
  },
  {
   "cell_type": "markdown",
   "metadata": {},
   "source": [
    "## Weber County"
   ]
  },
  {
   "cell_type": "code",
   "execution_count": 52,
   "metadata": {},
   "outputs": [],
   "source": [
    "# print('--FREQ--')\n",
    "# print(w['TYPE'].value_counts())"
   ]
  },
  {
   "cell_type": "code",
   "execution_count": 53,
   "metadata": {},
   "outputs": [],
   "source": [
    "# print('--MIN--')\n",
    "# print(w.groupby('TYPE')['building_sqft'].min())"
   ]
  },
  {
   "cell_type": "code",
   "execution_count": 54,
   "metadata": {},
   "outputs": [],
   "source": [
    "# print('--MAX--')\n",
    "# print(w.groupby('TYPE')['building_sqft'].max())"
   ]
  },
  {
   "cell_type": "markdown",
   "metadata": {},
   "source": [
    "## Salt Lake County"
   ]
  },
  {
   "cell_type": "code",
   "execution_count": 55,
   "metadata": {},
   "outputs": [],
   "source": [
    "# print('--FREQ--')\n",
    "# print(sl['TYPE'].value_counts())"
   ]
  },
  {
   "cell_type": "code",
   "execution_count": 56,
   "metadata": {},
   "outputs": [],
   "source": [
    "# print('--MIN--')\n",
    "# print(sl.groupby('TYPE')['building_sqft'].min())"
   ]
  },
  {
   "cell_type": "code",
   "execution_count": 57,
   "metadata": {},
   "outputs": [],
   "source": [
    "# print('--MAX--')\n",
    "# print(sl.groupby('TYPE')['building_sqft'].max())"
   ]
  },
  {
   "cell_type": "markdown",
   "metadata": {},
   "source": [
    "# Sum Jobs by TAZ"
   ]
  },
  {
   "cell_type": "code",
   "execution_count": 58,
   "metadata": {},
   "outputs": [
    {
     "data": {
      "text/plain": [
       "'e:\\\\Projects\\\\REMM-Input-Data-Prep-2019\\\\Job-Space-Distribution\\\\Outputs\\\\job_spaces_2019.gdb\\\\_01_non_industrial_job_pts'"
      ]
     },
     "execution_count": 58,
     "metadata": {},
     "output_type": "execute_result"
    }
   ],
   "source": [
    "dws_pts_sdf = pd.DataFrame.spatial.from_featureclass(dws_pts)\n",
    "ind_job_pts = dws_pts_sdf[(dws_pts_sdf['REMMSectorID'].isin([5,10]))].copy()\n",
    "ind_job_pts.spatial.to_featureclass(location=os.path.join(gdb, \"_01_industrial_job_pts\"),sanitize_columns=False)\n",
    "non_ind_job_pts = dws_pts_sdf[~(dws_pts_sdf['REMMSectorID'].isin([5,10]))].copy()\n",
    "non_ind_job_pts.spatial.to_featureclass(location=os.path.join(gdb, \"_01_non_industrial_job_pts\"),sanitize_columns=False)"
   ]
  },
  {
   "cell_type": "code",
   "execution_count": 59,
   "metadata": {},
   "outputs": [],
   "source": [
    "# spatial join\n",
    "target_features = taz_lyr\n",
    "join_features = os.path.join(gdb, \"_01_industrial_job_pts\")\n",
    "output_features = os.path.join(gdb, \"_01_taz_ind_jobs_sj\")\n",
    "\n",
    "fieldmappings = arcpy.FieldMappings()\n",
    "fieldmappings.addTable(target_features)\n",
    "fieldmappings.addTable(join_features)\n",
    "\n",
    "# total market value\n",
    "fieldindex = fieldmappings.findFieldMapIndex('Emp2019')\n",
    "fieldmap = fieldmappings.getFieldMap(fieldindex)\n",
    "fieldmap.mergeRule = 'Sum'\n",
    "fieldmappings.replaceFieldMap(fieldindex, fieldmap)\n",
    "\n",
    "# run the spatial join, use 'Join_Count' for number of units\n",
    "sj = arcpy.SpatialJoin_analysis(target_features, join_features, output_features,'JOIN_ONE_TO_ONE', \"KEEP_ALL\", fieldmappings, \"INTERSECT\")"
   ]
  },
  {
   "cell_type": "code",
   "execution_count": 60,
   "metadata": {},
   "outputs": [],
   "source": [
    "# spatial join\n",
    "target_features = taz_lyr\n",
    "join_features = os.path.join(gdb, \"_01_non_industrial_job_pts\")\n",
    "output_features = os.path.join(gdb, \"_01_taz_non_ind_jobs_sj\")\n",
    "\n",
    "fieldmappings = arcpy.FieldMappings()\n",
    "fieldmappings.addTable(target_features)\n",
    "fieldmappings.addTable(join_features)\n",
    "\n",
    "# total market value\n",
    "fieldindex = fieldmappings.findFieldMapIndex('Emp2019')\n",
    "fieldmap = fieldmappings.getFieldMap(fieldindex)\n",
    "fieldmap.mergeRule = 'Sum'\n",
    "fieldmappings.replaceFieldMap(fieldindex, fieldmap)\n",
    "\n",
    "# run the spatial join, use 'Join_Count' for number of units\n",
    "sj2 = arcpy.SpatialJoin_analysis(target_features, join_features, output_features,'JOIN_ONE_TO_ONE', \"KEEP_ALL\", fieldmappings, \"INTERSECT\")"
   ]
  },
  {
   "cell_type": "markdown",
   "metadata": {},
   "source": [
    "# Sum Building Square Footage by TAZ"
   ]
  },
  {
   "cell_type": "code",
   "execution_count": 61,
   "metadata": {},
   "outputs": [
    {
     "data": {
      "text/plain": [
       "'e:\\\\Projects\\\\REMM-Input-Data-Prep-2019\\\\Job-Space-Distribution\\\\Outputs\\\\job_spaces_2019.gdb\\\\_02_non_industrial_parcels'"
      ]
     },
     "execution_count": 61,
     "metadata": {},
     "output_type": "execute_result"
    }
   ],
   "source": [
    "# convert to pts\n",
    "parcels_pts = arcpy.FeatureToPoint_management(parcels, os.path.join(gdb, \"_02_parcels_pts\"), \"INSIDE\")\n",
    "parcels_pts_sdf = pd.DataFrame.spatial.from_featureclass(parcels_pts[0])\n",
    "\n",
    "# split into industrial and > 100 sqft\n",
    "industrial = parcels_pts_sdf[(parcels_pts_sdf['building_type_id']==3) & (parcels_pts_sdf['building_sqft'] > 100)].copy()\n",
    "industrial.spatial.to_featureclass(location=os.path.join(gdb, \"_02_industrial_parcels\"),sanitize_columns=False)\n",
    "\n",
    "# get non-industrial and > 100 sqft\n",
    "non_industrial = parcels_pts_sdf[(parcels_pts_sdf['building_type_id'].isin([4,5,6,7,9,13])) & (parcels_pts_sdf['building_sqft'] > 100)].copy()\n",
    "non_industrial.spatial.to_featureclass(location=os.path.join(gdb, \"_02_non_industrial_parcels\"),sanitize_columns=False)"
   ]
  },
  {
   "cell_type": "code",
   "execution_count": 62,
   "metadata": {},
   "outputs": [],
   "source": [
    "# spatial join -industrial\n",
    "target_features = taz_lyr\n",
    "join_features = os.path.join(gdb, \"_02_industrial_parcels\")\n",
    "output_features = os.path.join(gdb, \"_02_taz_ind_sj_sum\")\n",
    "\n",
    "fieldmappings = arcpy.FieldMappings()\n",
    "fieldmappings.addTable(target_features)\n",
    "fieldmappings.addTable(join_features)\n",
    "\n",
    "# total market value\n",
    "fieldindex = fieldmappings.findFieldMapIndex('building_sqft')\n",
    "fieldmap = fieldmappings.getFieldMap(fieldindex)\n",
    "fieldmap.mergeRule = 'Sum'\n",
    "fieldmappings.replaceFieldMap(fieldindex, fieldmap)\n",
    "\n",
    "# run the spatial join, use 'Join_Count' for number of units\n",
    "sj3 = arcpy.SpatialJoin_analysis(target_features, join_features, output_features,'JOIN_ONE_TO_ONE', \"KEEP_ALL\", fieldmappings, \"INTERSECT\")"
   ]
  },
  {
   "cell_type": "code",
   "execution_count": 63,
   "metadata": {},
   "outputs": [],
   "source": [
    "# spatial join - non industrial\n",
    "target_features = taz_lyr\n",
    "join_features = os.path.join(gdb, \"_02_non_industrial_parcels\")\n",
    "output_features = os.path.join(gdb, \"_02_taz_nonind_sj_sum\")\n",
    "\n",
    "fieldmappings = arcpy.FieldMappings()\n",
    "fieldmappings.addTable(target_features)\n",
    "fieldmappings.addTable(join_features)\n",
    "\n",
    "# total market value\n",
    "fieldindex = fieldmappings.findFieldMapIndex('building_sqft')\n",
    "fieldmap = fieldmappings.getFieldMap(fieldindex)\n",
    "fieldmap.mergeRule = 'Sum'\n",
    "fieldmappings.replaceFieldMap(fieldindex, fieldmap)\n",
    "\n",
    "# run the spatial join, use 'Join_Count' for number of units\n",
    "sj4 = arcpy.SpatialJoin_analysis(target_features, join_features, output_features,'JOIN_ONE_TO_ONE', \"KEEP_ALL\", fieldmappings, \"INTERSECT\")"
   ]
  },
  {
   "cell_type": "markdown",
   "metadata": {},
   "source": [
    "# Combine into one table"
   ]
  },
  {
   "cell_type": "code",
   "execution_count": 64,
   "metadata": {},
   "outputs": [],
   "source": [
    "# industrial\n",
    "sj_industrial_jobs_sum = pd.DataFrame.spatial.from_featureclass(sj[0])[['CO_TAZID','Emp2019']]\n",
    "sj_industrial_jobs_sum.columns = ['CO_TAZID', 'IND_JOBS_SUM']\n",
    "\n",
    "sj_industrial_sqft_sum = pd.DataFrame.spatial.from_featureclass(sj3[0])[['CO_TAZID','building_sqft']]\n",
    "sj_industrial_sqft_sum.columns = ['CO_TAZID', 'IND_SQFT_SUM']\n",
    "\n",
    "# non industrial\n",
    "sj_non_industrial_jobs_sum = pd.DataFrame.spatial.from_featureclass(sj2[0])[['CO_TAZID','Emp2019']]\n",
    "sj_non_industrial_jobs_sum.columns =  ['CO_TAZID', 'NON_IND_JOBS_SUM']\n",
    "\n",
    "sj_non_industrial_sqft_sum = pd.DataFrame.spatial.from_featureclass(sj4[0])[['CO_TAZID','building_sqft']]\n",
    "sj_non_industrial_sqft_sum.columns =  ['CO_TAZID', 'NON_IND_SQFT_SUM']"
   ]
  },
  {
   "cell_type": "code",
   "execution_count": 65,
   "metadata": {},
   "outputs": [],
   "source": [
    "# load taz\n",
    "taz_sdf = pd.DataFrame.spatial.from_featureclass(taz)\n",
    "taz_sdf = taz_sdf[taz_sdf['SUBAREAID'] == 1].copy()\n",
    "taz_sdf = taz_sdf[['TAZID',\t'SA_TAZID', 'CO_TAZID', 'CO_FIPS', 'SHAPE']].copy()\n",
    "\n",
    "# join tables\n",
    "taz_merge = taz_sdf.merge(sj_industrial_jobs_sum, left_on='CO_TAZID', right_on='CO_TAZID',how ='left')\n",
    "taz_merge = taz_merge.merge(sj_industrial_sqft_sum, left_on='CO_TAZID', right_on='CO_TAZID',how ='left')\n",
    "taz_merge = taz_merge.merge(sj_non_industrial_jobs_sum, left_on='CO_TAZID', right_on='CO_TAZID',how ='left')\n",
    "taz_merge = taz_merge.merge(sj_non_industrial_sqft_sum, left_on='CO_TAZID', right_on='CO_TAZID',how ='left')"
   ]
  },
  {
   "cell_type": "markdown",
   "metadata": {},
   "source": [
    "# Further Calculations & Export"
   ]
  },
  {
   "cell_type": "code",
   "execution_count": 66,
   "metadata": {},
   "outputs": [],
   "source": [
    "# sqft per job assumptions\n",
    "industrial_min_max = [500,1500] #400?\n",
    "retail_min_max = [200,500]\n",
    "office_min_max = [300,800]\n",
    "gov_edu_min_max = [200,500]\n",
    "mixed_min_max = [300,800]\n",
    "other_min_max = [200,800]\n",
    "non_industrial_min_max = [200,800] # took min of mins, and max of maxs\n",
    "\n",
    "# calc min and max job spaces allowed\n",
    "taz_merge['IND_MIN_JOB_SPACES'] = taz_merge['IND_SQFT_SUM'] / industrial_min_max[0]\n",
    "taz_merge['IND_MAX_JOB_SPACES'] = taz_merge['IND_SQFT_SUM'] / industrial_min_max[1]\n",
    "\n",
    "taz_merge['NON_IND_MIN_JOB_SPACES'] = taz_merge['NON_IND_SQFT_SUM'] / non_industrial_min_max[0]\n",
    "taz_merge['NON_IND_MAX_JOB_SPACES'] = taz_merge['NON_IND_SQFT_SUM'] / non_industrial_min_max[1]\n",
    "\n",
    "# calc job-job spaces difference\n",
    "taz_merge['IND_MIN_SPACES_MINUS_JOBS'] =  taz_merge['IND_MIN_JOB_SPACES'] - taz_merge['IND_JOBS_SUM']\n",
    "taz_merge['IND_MAX_SPACES_MINUS_JOBS'] =  taz_merge['IND_MAX_JOB_SPACES'] - taz_merge['IND_JOBS_SUM']\n",
    "\n",
    "taz_merge['NON_IND_MIN_SPACES_MINUS_JOBS'] =   taz_merge['NON_IND_MIN_JOB_SPACES'] - taz_merge['NON_IND_JOBS_SUM']\n",
    "taz_merge['NON_IND_MAX_SPACES_MINUS_JOBS'] = taz_merge['NON_IND_MAX_JOB_SPACES'] - taz_merge['NON_IND_JOBS_SUM']  "
   ]
  },
  {
   "cell_type": "code",
   "execution_count": 67,
   "metadata": {},
   "outputs": [
    {
     "data": {
      "text/plain": [
       "'e:\\\\Projects\\\\REMM-Input-Data-Prep-2019\\\\Job-Space-Distribution\\\\Outputs\\\\job_spaces_2019.gdb\\\\_03_taz_job_spaces_summary'"
      ]
     },
     "execution_count": 67,
     "metadata": {},
     "output_type": "execute_result"
    }
   ],
   "source": [
    "# export\n",
    "taz_merge.spatial.to_featureclass(location=os.path.join(gdb, \"_03_taz_job_spaces_summary\"),sanitize_columns=False)"
   ]
  },
  {
   "cell_type": "code",
   "execution_count": 68,
   "metadata": {},
   "outputs": [],
   "source": [
    "# # load the taz\n",
    "# SUBAREAID = 1\n",
    "# taz_sdf = pd.DataFrame.spatial.from_featureclass(taz)\n",
    "# taz_sdf = taz_sdf[taz_sdf['SUBAREAID'] == 1]\n",
    "# taz_sdf = taz_sdf[['TAZID',\t'SA_TAZID', 'CO_TAZID', 'CO_FIPS', 'SHAPE']].copy()"
   ]
  },
  {
   "cell_type": "code",
   "execution_count": 69,
   "metadata": {},
   "outputs": [],
   "source": [
    "# # pivot the parcel np.min, np.max, np.mean\n",
    "# pivot = filtered_parcels.pivot_table(index='CO_TAZID',columns='TYPE',values='BLDG_SQFT', aggfunc=np.min, fill_value=0).reset_index()\n",
    "# pivot = pivot.astype(int)"
   ]
  },
  {
   "cell_type": "code",
   "execution_count": 70,
   "metadata": {},
   "outputs": [],
   "source": [
    "# # merge the tables together\n",
    "# taz_summary = taz_sdf.merge(pivot, left_on='CO_TAZID',right_on='CO_TAZID', how='left')\n",
    "# taz_summary.head()"
   ]
  },
  {
   "cell_type": "code",
   "execution_count": 71,
   "metadata": {},
   "outputs": [],
   "source": [
    "# parcels_df = pd.DataFrame.spatial.from_featureclass(parcels)\n",
    "# parcels.columns"
   ]
  },
  {
   "cell_type": "code",
   "execution_count": 72,
   "metadata": {},
   "outputs": [],
   "source": [
    "# d_parcels = parcels_df[(parcels_df['COUNTY_ID']== '11') & (parcels_df['BLDG_SQFT'] > 0)].copy()\n",
    "# sl_parcels = parcels_df[(parcels_df['COUNTY_ID']== '35') & (parcels_df['BLDG_SQFT'] > 0)].copy()\n",
    "# w_parcels = parcels_df[(parcels_df['COUNTY_ID']== '57') & (parcels_df['BLDG_SQFT'] > 0)].copy()\n",
    "# parcels_gt = parcels_df[parcels_df['BLDG_SQFT'] > 0].copy()"
   ]
  },
  {
   "cell_type": "code",
   "execution_count": 73,
   "metadata": {},
   "outputs": [],
   "source": [
    "# d_sqft_max = d_parcels.groupby('TYPE')['BLDG_SQFT'].max()\n",
    "# sl_sqft_max = sl_parcels.groupby('TYPE')['BLDG_SQFT'].max()\n",
    "# w_sqft_max = w_parcels.groupby('TYPE')['BLDG_SQFT'].max()\n",
    "\n",
    "# d_sqft_min = d_parcels.groupby('TYPE')['BLDG_SQFT'].min()\n",
    "# sl_sqft_min = sl_parcels.groupby('TYPE')['BLDG_SQFT'].min()\n",
    "# w_sqft_min = w_parcels.groupby('TYPE')['BLDG_SQFT'].min()\n",
    "\n",
    "# d_sqft_mean = d_parcels.groupby('TYPE')['BLDG_SQFT'].mean()\n",
    "# sl_sqft_mean = sl_parcels.groupby('TYPE')['BLDG_SQFT'].mean()\n",
    "# w_sqft_mean = w_parcels.groupby('TYPE')['BLDG_SQFT'].mean()\n",
    "\n",
    "# d_sqft_sum = d_parcels.groupby('TYPE')['BLDG_SQFT'].sum()\n",
    "# sl_sqft_sum = sl_parcels.groupby('TYPE')['BLDG_SQFT'].sum()\n",
    "# w_sqft_sum = w_parcels.groupby('TYPE')['BLDG_SQFT'].sum()"
   ]
  },
  {
   "cell_type": "code",
   "execution_count": 74,
   "metadata": {},
   "outputs": [],
   "source": [
    "# dws_pts_df = pd.DataFrame.spatial.from_featureclass(dws_pts)\n",
    "# dws_pts_df.columns"
   ]
  },
  {
   "cell_type": "code",
   "execution_count": 75,
   "metadata": {},
   "outputs": [],
   "source": [
    "# # split jobs into industrial and non-industrial\n",
    "# ind_pts = dws_pts_df[dws_pts_df['REMMSectorID'].isin([5, 10])].copy()\n",
    "# non_ind_pts = dws_pts_df[~(dws_pts_df['REMMSectorID'].isin([5, 10]))].copy()\n",
    "\n",
    "# ind_pts.spatial.to_featureclass(location=os.path.join(gdb, 'dws_2019_industrial'),sanitize_columns=False)\n",
    "# non_ind_pts.spatial.to_featureclass(location=os.path.join(gdb, 'dws_2019_nonindustrial'),sanitize_columns=False)"
   ]
  },
  {
   "cell_type": "code",
   "execution_count": 76,
   "metadata": {},
   "outputs": [],
   "source": [
    "# # get pts that do not overlap with a remm parcel\n",
    "# ind_pts_lyr = arcpy.MakeFeatureLayer_management(os.path.join(gdb, 'dws_2019_industrial'), 'ind_pts')\n",
    "# non_ind_pts_lyr = arcpy.MakeFeatureLayer_management(os.path.join(gdb, 'dws_2019_nonindustrial'), 'non_ind_pts')  \n",
    "\n",
    "\n",
    "# arcpy.SelectLayerByLocation_management(in_layer=ind_pts_lyr, overlap_type=\"INTERSECT\",\n",
    "#                                        select_features=parcels,\n",
    "#                                        selection_type='NEW_SELECTION',\n",
    "#                                        invert_spatial_relationship='INVERT')\n",
    "\n",
    "# ind_pts_no_parcel = arcpy.conversion.FeatureClassToFeatureClass(in_features=ind_pts_lyr, \n",
    "#                                                                out_path=gdb, \n",
    "#                                                                out_name=\"ind_pts_no_parcel\")\n",
    "\n",
    "# arcpy.SelectLayerByLocation_management(in_layer=non_ind_pts_lyr, overlap_type=\"INTERSECT\",\n",
    "#                                        select_features=parcels,\n",
    "#                                        selection_type='NEW_SELECTION',\n",
    "#                                        invert_spatial_relationship='INVERT')\n",
    "\n",
    "\n",
    "# non_ind_pts_no_parcel = arcpy.conversion.FeatureClassToFeatureClass(in_features=non_ind_pts_lyr, \n",
    "#                                                                out_path=gdb, \n",
    "#                                                                out_name=\"non_ind_pts_no_parcel\")                                                                                     \n"
   ]
  },
  {
   "cell_type": "code",
   "execution_count": 77,
   "metadata": {},
   "outputs": [],
   "source": [
    "# # use spatial join to summarize TOTAL_MKT_VALUE, LAND_MKT_VALUE, BLDG_SQFT\n",
    "# target_features = parcels\n",
    "# join_features = os.path.join(gdb, 'dws_2019_industrial')\n",
    "# output_features = os.path.join(gdb, \"parcel_dws_ind_sj\")\n",
    "\n",
    "# fieldmappings = arcpy.FieldMappings()\n",
    "# fieldmappings.addTable(target_features)\n",
    "# fieldmappings.addTable(join_features)\n",
    "\n",
    "# # total market value\n",
    "# fieldindex = fieldmappings.findFieldMapIndex('Emp2019')\n",
    "# fieldmap = fieldmappings.getFieldMap(fieldindex)\n",
    "# fieldmap.mergeRule = 'Sum'\n",
    "# fieldmappings.replaceFieldMap(fieldindex, fieldmap)\n",
    "\n",
    "# # run the spatial join, use 'Join_Count' for number of units\n",
    "# sj = arcpy.SpatialJoin_analysis(target_features, join_features, output_features,'JOIN_ONE_TO_ONE', \"KEEP_ALL\", fieldmappings, \"INTERSECT\")"
   ]
  },
  {
   "cell_type": "code",
   "execution_count": 78,
   "metadata": {},
   "outputs": [],
   "source": [
    "# # use spatial join to summarize TOTAL_MKT_VALUE, LAND_MKT_VALUE, BLDG_SQFT\n",
    "# target_features = parcels\n",
    "# join_features = os.path.join(gdb, 'dws_2019_nonindustrial')\n",
    "# output_features = os.path.join(gdb, \"parcel_dws_non_ind_sj\")\n",
    "\n",
    "# fieldmappings = arcpy.FieldMappings()\n",
    "# fieldmappings.addTable(target_features)\n",
    "# fieldmappings.addTable(join_features)\n",
    "\n",
    "# # total market value\n",
    "# fieldindex = fieldmappings.findFieldMapIndex('Emp2019')\n",
    "# fieldmap = fieldmappings.getFieldMap(fieldindex)\n",
    "# fieldmap.mergeRule = 'Sum'\n",
    "# fieldmappings.replaceFieldMap(fieldindex, fieldmap)\n",
    "\n",
    "# # run the spatial join, use 'Join_Count' for number of units\n",
    "# sj = arcpy.SpatialJoin_analysis(target_features, join_features, output_features,'JOIN_ONE_TO_ONE', \"KEEP_ALL\", fieldmappings, \"INTERSECT\")"
   ]
  }
 ],
 "metadata": {
  "kernelspec": {
   "display_name": "joshPy3",
   "language": "python",
   "name": "joshpy3"
  },
  "language_info": {
   "codemirror_mode": {
    "name": "ipython",
    "version": 3
   },
   "file_extension": ".py",
   "mimetype": "text/x-python",
   "name": "python",
   "nbconvert_exporter": "python",
   "pygments_lexer": "ipython3",
   "version": "3.7.11"
  }
 },
 "nbformat": 4,
 "nbformat_minor": 4
}
