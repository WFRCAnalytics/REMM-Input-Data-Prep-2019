{
 "cells": [
  {
   "cell_type": "code",
   "execution_count": 45,
   "metadata": {},
   "outputs": [],
   "source": [
    "import arcpy\n",
    "from arcpy import env\n",
    "import os\n",
    "from arcgis import GIS\n",
    "from arcgis.features import GeoAccessor\n",
    "import pandas as pd\n",
    "\n",
    "arcpy.env.overwriteOutput = True\n",
    "arcpy.env.parallelProcessingFactor = \"90%\"\n",
    "\n",
    "# show all columns\n",
    "pd.options.display.max_columns = None\n",
    "\n",
    "# pd.DataFrame.spatial.from_featureclass(???)\n",
    "# df.spatial.to_featureclass(location=???,sanitize_columns=False)"
   ]
  },
  {
   "cell_type": "code",
   "execution_count": 46,
   "metadata": {},
   "outputs": [],
   "source": [
    "if not os.path.exists('Outputs'):\n",
    "    os.makedirs('Outputs')\n",
    "    \n",
    "outputs = ['.\\\\Outputs', \"scratch.gdb\", 'results.gdb']\n",
    "gdb = os.path.join(outputs[0], outputs[1])\n",
    "gdb2 = os.path.join(outputs[0], outputs[2])\n",
    "\n",
    "if not arcpy.Exists(gdb):\n",
    "    arcpy.CreateFileGDB_management(outputs[0], outputs[1])\n",
    "\n",
    "if not arcpy.Exists(gdb2):\n",
    "    arcpy.CreateFileGDB_management(outputs[0], outputs[2])"
   ]
  },
  {
   "cell_type": "code",
   "execution_count": 47,
   "metadata": {},
   "outputs": [],
   "source": [
    "# read in data\n",
    "parcels = pd.DataFrame.spatial.from_featureclass(r'E:\\REMM\\Helper Datasets\\Base_Year_2015.gdb\\Base_Parcels_2015')\n",
    "policy_override = pd.read_csv(r\".\\2015\\zoning_parcels_p.csv\")"
   ]
  },
  {
   "cell_type": "code",
   "execution_count": 48,
   "metadata": {},
   "outputs": [],
   "source": [
    "# filter columns\n",
    "parcels = parcels[['parcel_id_REMM', 'parcel_acre','county_name','SHAPE']].copy()\n",
    "\n",
    "# exclude utah county\n",
    "parcels = parcels[parcels['county_name'] != 'UTAH'].copy()"
   ]
  },
  {
   "cell_type": "code",
   "execution_count": 49,
   "metadata": {},
   "outputs": [
    {
     "name": "stdout",
     "output_type": "stream",
     "text": [
      "parcels:  (595009, 4)\n",
      "override:  (121203, 14)\n"
     ]
    }
   ],
   "source": [
    "# check tables shape\n",
    "print('parcels: ',parcels.shape)\n",
    "print('override: ', policy_override.shape)"
   ]
  },
  {
   "cell_type": "code",
   "execution_count": 50,
   "metadata": {},
   "outputs": [
    {
     "name": "stdout",
     "output_type": "stream",
     "text": [
      "(80046, 18)\n"
     ]
    }
   ],
   "source": [
    "# join tables, duplicate polygons are expected\n",
    "joined = parcels.merge(policy_override, left_on='parcel_id_REMM', right_on='parcel_id', how='inner')\n",
    "print(joined.shape)"
   ]
  },
  {
   "cell_type": "code",
   "execution_count": 51,
   "metadata": {},
   "outputs": [],
   "source": [
    "# fix weird precision issues\n",
    "joined['max_dua'] = joined['max_dua'].round(1)\n",
    "joined['max_far'] = joined['max_far'].round(1)"
   ]
  },
  {
   "cell_type": "code",
   "execution_count": 52,
   "metadata": {},
   "outputs": [
    {
     "data": {
      "text/plain": [
       "'e:\\\\Projects\\\\REMM-Input-Data-Prep-2019\\\\Policy-Layer\\\\Outputs\\\\scratch.gdb\\\\_00_parcels_with_policy'"
      ]
     },
     "execution_count": 52,
     "metadata": {},
     "output_type": "execute_result"
    }
   ],
   "source": [
    "# export to fc\n",
    "joined.spatial.to_featureclass(location=os.path.join(gdb,'_00_parcels_with_policy'),sanitize_columns=False)"
   ]
  },
  {
   "cell_type": "code",
   "execution_count": null,
   "metadata": {},
   "outputs": [],
   "source": [
    "# dissolve on \"year\", \"max_dua\",\"max_far\", \"locnote\"\n",
    "dissolve = arcpy.Dissolve_management(os.path.join(gdb,'_00_parcels_with_policy'), os.path.join(gdb,'_01_dissolved_parcels'),\n",
    "                          [\"year\", \"max_dua\",\"max_far\", 'type1','type2','type3','type4','type5','type6','type7','type8', \"locnote\"], \"\", \"MULTI_PART\")"
   ]
  },
  {
   "cell_type": "code",
   "execution_count": null,
   "metadata": {},
   "outputs": [],
   "source": [
    "# show how many years of staging each grouping has\n",
    "\n",
    "# copy features and delete identical geometries\n",
    "dissolve_copy = arcpy.FeatureClassToFeatureClass_conversion(dissolve, gdb, \"_02_dissolve_copy\")\n",
    "arcpy.DeleteIdentical_management(dissolve_copy, 'SHAPE', xy_tolerance=\"1 Meters\")\n",
    "\n",
    "# spatial join the copy dissolved layer to the original dissolved polygons\n",
    "target_features = dissolve_copy\n",
    "join_features = dissolve\n",
    "output_features = os.path.join(gdb, \"_03_policy_2015_sj\")\n",
    "\n",
    "# run the spatial join\n",
    "sj = arcpy.SpatialJoin_analysis(target_features, join_features, output_features,'JOIN_ONE_TO_ONE', \"KEEP_ALL\", match_option=\"WITHIN\")"
   ]
  }
 ],
 "metadata": {
  "interpreter": {
   "hash": "d657bb250ec970b20532561b3a87d14bbf82ce653c71023131e868b5848d28d1"
  },
  "kernelspec": {
   "display_name": "Python 3.7.11",
   "language": "python",
   "name": "python3"
  },
  "language_info": {
   "name": "python",
   "version": "3.7.11"
  },
  "orig_nbformat": 4
 },
 "nbformat": 4,
 "nbformat_minor": 2
}
