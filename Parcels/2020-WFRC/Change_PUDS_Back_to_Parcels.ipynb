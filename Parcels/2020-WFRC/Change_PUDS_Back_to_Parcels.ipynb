{
 "cells": [
  {
   "cell_type": "code",
   "execution_count": 3,
   "metadata": {},
   "outputs": [],
   "source": [
    "import arcpy\n",
    "from arcpy import env\n",
    "import os\n",
    "from arcgis import GIS\n",
    "from arcgis.features import GeoAccessor\n",
    "import pandas as pd\n",
    "\n",
    "arcpy.env.overwriteOutput = True\n",
    "arcpy.env.parallelProcessingFactor = \"90%\"\n",
    "\n",
    "# show all columns\n",
    "pd.options.display.max_columns = None\n",
    "\n",
    "# pd.DataFrame.spatial.from_featureclass(???)\n",
    "# df.spatial.to_featureclass(location=???,sanitize_columns=False)"
   ]
  },
  {
   "cell_type": "code",
   "execution_count": 4,
   "metadata": {},
   "outputs": [],
   "source": [
    "# Inputs\n",
    "parcels = r\".\\Inputs\\WFRC_Non_Residential_Parcels.gdb\\Non_Residential_Parcels\"\n",
    "hui = r\"E:\\Projects\\Housing-Unit-Inventory\\Current_Version\\wfrc_hui_20220106.gdb\\wfrc_housing_unit_inventory_20220106\"\n",
    "mag_parcels = r'.\\Inputs\\MAG_REMM_Parcels_for_Splitting.gdb\\MAG_REMM_Parcels_for_splitting'\n",
    "raw_parcel_pts = r'.\\Inputs\\parcel_centroids.gdb\\wfrc_centroids'\n",
    "addr_pts = r'.\\Inputs\\addr_pts.gdb\\addr_pts_wfrc_mag'\n",
    "new_taz = r\".\\Inputs\\New_TAZ.shp\""
   ]
  },
  {
   "cell_type": "code",
   "execution_count": 5,
   "metadata": {},
   "outputs": [],
   "source": [
    "if not os.path.exists('Outputs'):\n",
    "    os.makedirs('Outputs')\n",
    "    \n",
    "outputs = ['.\\\\Outputs', \"new_sf_parcels.gdb\", 'scratch.gdb']\n",
    "gdb = os.path.join(outputs[0], outputs[1])\n",
    "gdb2 = os.path.join(outputs[0], outputs[2])\n",
    "\n",
    "if not arcpy.Exists(gdb):\n",
    "    arcpy.CreateFileGDB_management(outputs[0], outputs[1])\n",
    "\n",
    "if not arcpy.Exists(gdb2):\n",
    "    arcpy.CreateFileGDB_management(outputs[0], outputs[2])"
   ]
  },
  {
   "cell_type": "code",
   "execution_count": null,
   "metadata": {},
   "outputs": [],
   "source": [
    "## GAME PLAN\n",
    "\n",
    "# load HUI\n",
    "\n",
    "# load parcels\n",
    "\n",
    "# filter HUI to single_family and units > 10\n",
    "\n",
    "# store IDs\n",
    "\n",
    "# Select 119 parcels within hui selection\n",
    "\n",
    "# adjust attributes\n",
    "\n",
    "# review\n",
    "\n",
    "# use ids to remove no longer needed hui parcels"
   ]
  }
 ],
 "metadata": {
  "kernelspec": {
   "display_name": "Clone",
   "language": "python",
   "name": "clone"
  },
  "varInspector": {
   "cols": {
    "lenName": 16,
    "lenType": 16,
    "lenVar": 40
   },
   "kernels_config": {
    "python": {
     "delete_cmd_postfix": "",
     "delete_cmd_prefix": "del ",
     "library": "var_list.py",
     "varRefreshCmd": "print(var_dic_list())"
    },
    "r": {
     "delete_cmd_postfix": ") ",
     "delete_cmd_prefix": "rm(",
     "library": "var_list.r",
     "varRefreshCmd": "cat(var_dic_list()) "
    }
   },
   "types_to_exclude": [
    "module",
    "function",
    "builtin_function_or_method",
    "instance",
    "_Feature"
   ],
   "window_display": false
  }
 },
 "nbformat": 4,
 "nbformat_minor": 4
}
