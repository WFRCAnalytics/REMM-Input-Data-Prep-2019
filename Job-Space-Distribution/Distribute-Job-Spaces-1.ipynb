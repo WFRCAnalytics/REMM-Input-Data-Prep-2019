{
 "cells": [
  {
   "cell_type": "code",
   "execution_count": 1,
   "metadata": {},
   "outputs": [],
   "source": [
    "import arcpy\n",
    "from arcpy import env\n",
    "import os\n",
    "from arcgis import GIS\n",
    "from arcgis.features import GeoAccessor\n",
    "import pandas as pd\n",
    "import numpy as np\n",
    "\n",
    "arcpy.env.overwriteOutput = True\n",
    "arcpy.env.parallelProcessingFactor = \"80%\"\n",
    "\n",
    "# show all columns\n",
    "pd.options.display.max_columns = None\n",
    "\n",
    "# pd.DataFrame.spatial.from_featureclass(???)\n",
    "# df.spatial.to_featureclass(location=???,sanitize_columns=False)"
   ]
  },
  {
   "cell_type": "markdown",
   "metadata": {},
   "source": [
    "Ex. IJ = industrial jobs in control total, SF = total square footage for that sector, Average Job space size is IJ/SF, job space threshold needs to no more than = 0.9 * IJ/SF to get to desired 10% vacancy rate in base year – but it could be smaller, maybe 0.65 * IJ/SF is low range (high density) for determining when we need to redistribute some portion of the jobs. But the remaining space not filled by the threshold adjusted DWS jobs would need to be adjusted to perhaps  1.15 * IJ/SF to make remaining job spaces to be filled by location choice consume more space per job (less dense jobs)"
   ]
  },
  {
   "cell_type": "code",
   "execution_count": 2,
   "metadata": {},
   "outputs": [],
   "source": [
    "if not os.path.exists('Outputs'):\n",
    "    os.makedirs('Outputs')\n",
    "    \n",
    "outputs = ['.\\\\Outputs', \"results.gdb\"]\n",
    "gdb = os.path.join(outputs[0], outputs[1])\n",
    "\n",
    "if not arcpy.Exists(gdb):\n",
    "    arcpy.CreateFileGDB_management(outputs[0], outputs[1])"
   ]
  },
  {
   "cell_type": "code",
   "execution_count": 3,
   "metadata": {},
   "outputs": [],
   "source": [
    "parcels =r\"E:\\Projects\\REMM-Input-Data-Prep-2019\\Parcels\\2020-WFRC\\Outputs\\recompile3.gdb\\_22_parcels_split_FINAL\"\n",
    "dws_pts = r'E:\\Projects\\REMM-Input-Data-Prep-2019\\Job-Space-Distribution\\Inputs\\RegionDWS_REMM.gdb\\RegionDWS_Employment'"
   ]
  },
  {
   "cell_type": "code",
   "execution_count": null,
   "metadata": {},
   "outputs": [],
   "source": [
    "parcels_df = pd.DataFrame.spatial.from_featureclass(parcels)\n",
    "parcels.columns"
   ]
  },
  {
   "cell_type": "code",
   "execution_count": null,
   "metadata": {},
   "outputs": [],
   "source": [
    "d_parcels = parcels_df[(parcels_df['COUNTY_ID']== '11') & (parcels_df['BLDG_SQFT'] > 0)].copy()\n",
    "sl_parcels = parcels_df[(parcels_df['COUNTY_ID']== '35') & (parcels_df['BLDG_SQFT'] > 0)].copy()\n",
    "w_parcels = parcels_df[(parcels_df['COUNTY_ID']== '57') & (parcels_df['BLDG_SQFT'] > 0)].copy()\n",
    "parcels_gt = parcels_df[parcels_df['BLDG_SQFT'] > 0].copy()"
   ]
  },
  {
   "cell_type": "code",
   "execution_count": null,
   "metadata": {},
   "outputs": [],
   "source": [
    "d_sqft_max = d_parcels.groupby('TYPE')['BLDG_SQFT'].max()\n",
    "sl_sqft_max = sl_parcels.groupby('TYPE')['BLDG_SQFT'].max()\n",
    "w_sqft_max = w_parcels.groupby('TYPE')['BLDG_SQFT'].max()\n",
    "\n",
    "d_sqft_min = d_parcels.groupby('TYPE')['BLDG_SQFT'].min()\n",
    "sl_sqft_min = sl_parcels.groupby('TYPE')['BLDG_SQFT'].min()\n",
    "w_sqft_min = w_parcels.groupby('TYPE')['BLDG_SQFT'].min()\n",
    "\n",
    "d_sqft_mean = d_parcels.groupby('TYPE')['BLDG_SQFT'].mean()\n",
    "sl_sqft_mean = sl_parcels.groupby('TYPE')['BLDG_SQFT'].mean()\n",
    "w_sqft_mean = w_parcels.groupby('TYPE')['BLDG_SQFT'].mean()\n",
    "\n",
    "d_sqft_sum = d_parcels.groupby('TYPE')['BLDG_SQFT'].sum()\n",
    "sl_sqft_sum = sl_parcels.groupby('TYPE')['BLDG_SQFT'].sum()\n",
    "w_sqft_sum = w_parcels.groupby('TYPE')['BLDG_SQFT'].sum()"
   ]
  },
  {
   "cell_type": "code",
   "execution_count": 4,
   "metadata": {},
   "outputs": [
    {
     "data": {
      "text/plain": [
       "Index(['OBJECTID', 'Join_Count', 'TARGET_FID', 'Join_Count_1', 'TARGET_FID_1',\n",
       "       'primary_key', 'input_street', 'input_zone', 'x', 'y', 'score',\n",
       "       'locator', 'matchAddress', 'standardizedAddress', 'addressGrid',\n",
       "       'message', 'YRQTR', 'Legal_Name', 'DBA', 'PHYSSADD', 'PHYSSADD2',\n",
       "       'PHYS_CITY', 'PHYS_ST', 'PHYS_ZIP', 'NAICS', 'OWN', 'COUNTY', 'July',\n",
       "       'LAT', 'LONG', 'MPO_ID', 'REMMSectorID', 'Located', 'Method',\n",
       "       'PHYSSADD_corrected', 'PHYS_ZIP_corrected', 'Duplicate', 'REMMSector',\n",
       "       'Emp2019', 'CO_NAME', 'CITY_NAME', 'DISTSUPER', 'DSUP_NAME', 'DISTLRG',\n",
       "       'DLRG_NAME', 'DISTMED', 'DMED_NAME', 'TAZID_v9', 'TAZID_v832', 'SHAPE'],\n",
       "      dtype='object')"
      ]
     },
     "execution_count": 4,
     "metadata": {},
     "output_type": "execute_result"
    }
   ],
   "source": [
    "dws_pts_df = pd.DataFrame.spatial.from_featureclass(dws_pts)\n",
    "dws_pts_df.columns\n"
   ]
  },
  {
   "cell_type": "code",
   "execution_count": 8,
   "metadata": {},
   "outputs": [
    {
     "data": {
      "text/plain": [
       "'e:\\\\Projects\\\\REMM-Input-Data-Prep-2019\\\\Job-Space-Distribution\\\\Outputs\\\\results.gdb\\\\dws_2019_nonindustrial'"
      ]
     },
     "execution_count": 8,
     "metadata": {},
     "output_type": "execute_result"
    }
   ],
   "source": [
    "# split jobs into industrial and non-industrial\n",
    "ind_pts = dws_pts_df[dws_pts_df['REMMSectorID'].isin([5, 10])].copy()\n",
    "non_ind_pts = dws_pts_df[~(dws_pts_df['REMMSectorID'].isin([5, 10]))].copy()\n",
    "\n",
    "ind_pts.spatial.to_featureclass(location=os.path.join(gdb, 'dws_2019_industrial'),sanitize_columns=False)\n",
    "non_ind_pts.spatial.to_featureclass(location=os.path.join(gdb, 'dws_2019_nonindustrial'),sanitize_columns=False)"
   ]
  },
  {
   "cell_type": "code",
   "execution_count": 9,
   "metadata": {},
   "outputs": [],
   "source": [
    "# get pts that do not overlap with a remm parcel\n",
    "ind_pts_lyr = arcpy.MakeFeatureLayer_management(os.path.join(gdb, 'dws_2019_industrial'), 'ind_pts')\n",
    "non_ind_pts_lyr = arcpy.MakeFeatureLayer_management(os.path.join(gdb, 'dws_2019_nonindustrial'), 'non_ind_pts')  \n",
    "\n",
    "\n",
    "arcpy.SelectLayerByLocation_management(in_layer=ind_pts_lyr, overlap_type=\"INTERSECT\",\n",
    "                                       select_features=parcels,\n",
    "                                       selection_type='NEW_SELECTION',\n",
    "                                       invert_spatial_relationship='INVERT')\n",
    "\n",
    "ind_pts_no_parcel = arcpy.conversion.FeatureClassToFeatureClass(in_features=ind_pts_lyr, \n",
    "                                                               out_path=gdb, \n",
    "                                                               out_name=\"ind_pts_no_parcel\")\n",
    "\n",
    "arcpy.SelectLayerByLocation_management(in_layer=non_ind_pts_lyr, overlap_type=\"INTERSECT\",\n",
    "                                       select_features=parcels,\n",
    "                                       selection_type='NEW_SELECTION',\n",
    "                                       invert_spatial_relationship='INVERT')\n",
    "\n",
    "\n",
    "non_ind_pts_no_parcel = arcpy.conversion.FeatureClassToFeatureClass(in_features=non_ind_pts_lyr, \n",
    "                                                               out_path=gdb, \n",
    "                                                               out_name=\"non_ind_pts_no_parcel\")                                                                                     \n"
   ]
  },
  {
   "cell_type": "code",
   "execution_count": 10,
   "metadata": {},
   "outputs": [],
   "source": [
    "# use spatial join to summarize TOTAL_MKT_VALUE, LAND_MKT_VALUE, BLDG_SQFT\n",
    "target_features = parcels\n",
    "join_features = os.path.join(gdb, 'dws_2019_industrial')\n",
    "output_features = os.path.join(gdb, \"parcel_dws_ind_sj\")\n",
    "\n",
    "fieldmappings = arcpy.FieldMappings()\n",
    "fieldmappings.addTable(target_features)\n",
    "fieldmappings.addTable(join_features)\n",
    "\n",
    "# total market value\n",
    "fieldindex = fieldmappings.findFieldMapIndex('July')\n",
    "fieldmap = fieldmappings.getFieldMap(fieldindex)\n",
    "fieldmap.mergeRule = 'Sum'\n",
    "fieldmappings.replaceFieldMap(fieldindex, fieldmap)\n",
    "\n",
    "# run the spatial join, use 'Join_Count' for number of units\n",
    "sj = arcpy.SpatialJoin_analysis(target_features, join_features, output_features,'JOIN_ONE_TO_ONE', \"KEEP_ALL\", fieldmappings, \"INTERSECT\")"
   ]
  },
  {
   "cell_type": "code",
   "execution_count": 11,
   "metadata": {},
   "outputs": [],
   "source": [
    "# use spatial join to summarize TOTAL_MKT_VALUE, LAND_MKT_VALUE, BLDG_SQFT\n",
    "target_features = parcels\n",
    "join_features = os.path.join(gdb, 'dws_2019_nonindustrial')\n",
    "output_features = os.path.join(gdb, \"parcel_dws_non_ind_sj\")\n",
    "\n",
    "fieldmappings = arcpy.FieldMappings()\n",
    "fieldmappings.addTable(target_features)\n",
    "fieldmappings.addTable(join_features)\n",
    "\n",
    "# total market value\n",
    "fieldindex = fieldmappings.findFieldMapIndex('July')\n",
    "fieldmap = fieldmappings.getFieldMap(fieldindex)\n",
    "fieldmap.mergeRule = 'Sum'\n",
    "fieldmappings.replaceFieldMap(fieldindex, fieldmap)\n",
    "\n",
    "# run the spatial join, use 'Join_Count' for number of units\n",
    "sj = arcpy.SpatialJoin_analysis(target_features, join_features, output_features,'JOIN_ONE_TO_ONE', \"KEEP_ALL\", fieldmappings, \"INTERSECT\")"
   ]
  }
 ],
 "metadata": {
  "kernelspec": {
   "display_name": "joshPy3",
   "language": "python",
   "name": "joshpy3"
  },
  "language_info": {
   "codemirror_mode": {
    "name": "ipython",
    "version": 3
   },
   "file_extension": ".py",
   "mimetype": "text/x-python",
   "name": "python",
   "nbconvert_exporter": "python",
   "pygments_lexer": "ipython3",
   "version": "3.7.11"
  }
 },
 "nbformat": 4,
 "nbformat_minor": 4
}
