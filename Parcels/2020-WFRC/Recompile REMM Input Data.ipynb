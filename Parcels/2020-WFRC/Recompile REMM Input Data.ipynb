{
 "cells": [
  {
   "cell_type": "code",
   "execution_count": 3,
   "metadata": {},
   "outputs": [],
   "source": [
    "import arcpy\n",
    "from arcpy import env\n",
    "import os\n",
    "from arcgis import GIS\n",
    "from arcgis.features import GeoAccessor\n",
    "import pandas as pd\n",
    "\n",
    "arcpy.env.overwriteOutput = True\n",
    "arcpy.env.parallelProcessingFactor = \"90%\"\n",
    "\n",
    "# show all columns\n",
    "pd.options.display.max_columns = None\n",
    "\n",
    "# pd.DataFrame.spatial.from_featureclass(???)\n",
    "# df.spatial.to_featureclass(location=???,sanitize_columns=False)"
   ]
  },
  {
   "cell_type": "code",
   "execution_count": 4,
   "metadata": {},
   "outputs": [],
   "source": [
    "# Inputs\n",
    "parcels = r\".\\Inputs\\WFRC_Non_Residential_Parcels.gdb\\Non_Residential_Parcels\"\n",
    "hui = r\"E:\\Projects\\Housing-Unit-Inventory\\Current_Version\\wfrc_hui_20220106.gdb\\wfrc_housing_unit_inventory_20220106\"\n",
    "mag_parcels = r'.\\Inputs\\MAG_REMM_Parcels_for_Splitting.gdb\\MAG_REMM_Parcels_for_splitting'\n",
    "raw_parcel_pts = r'.\\Inputs\\parcel_centroids.gdb\\wfrc_centroids'\n",
    "addr_pts = r'.\\Inputs\\addr_pts.gdb\\addr_pts_wfrc_mag'\n",
    "new_taz = r\".\\Inputs\\New_TAZ.shp\""
   ]
  },
  {
   "cell_type": "code",
   "execution_count": 5,
   "metadata": {},
   "outputs": [],
   "source": [
    "if not os.path.exists('Outputs'):\n",
    "    os.makedirs('Outputs')\n",
    "    \n",
    "outputs = ['.\\\\Outputs', \"recompile3.gdb\", 'remm_base_year_2019.gdb']\n",
    "gdb = os.path.join(outputs[0], outputs[1])\n",
    "gdb2 = os.path.join(outputs[0], outputs[2])\n",
    "\n",
    "if not arcpy.Exists(gdb):\n",
    "    arcpy.CreateFileGDB_management(outputs[0], outputs[1])\n",
    "\n",
    "if not arcpy.Exists(gdb2):\n",
    "    arcpy.CreateFileGDB_management(outputs[0], outputs[2])"
   ]
  },
  {
   "cell_type": "code",
   "execution_count": 6,
   "metadata": {},
   "outputs": [
    {
     "data": {
      "text/plain": [
       "'e:\\\\Projects\\\\REMM-Input-Data-Prep-2019\\\\Parcels\\\\2020-WFRC\\\\Outputs\\\\recompile3.gdb\\\\_00_hui_copy'"
      ]
     },
     "execution_count": 6,
     "metadata": {},
     "output_type": "execute_result"
    }
   ],
   "source": [
    "hui_sdf = pd.DataFrame.spatial.from_featureclass(hui)\n",
    "hui_sdf = hui_sdf[['TYPE', 'IS_OUG', 'COUNTY', 'UNIT_COUNT', 'DUA', 'APX_HGHT','ACRES', 'TOT_BD_FT2', 'TOT_VALUE', 'APX_BLT_YR', 'UNIT_ID', 'SHAPE']].copy()\n",
    "hui_sdf.columns = ['TYPE', 'IS_OUG', 'COUNTY_NAME', 'UNIT_COUNT', 'DUA', 'FLOORS_CNT','PARCEL_ACRES', 'BLDG_SQFT', 'TOT_MKT_VALUE', 'BUILT_YR','UNIT_ID', 'SHAPE']\n",
    "hui_copy =  os.path.join(gdb, '_00_hui_copy')\n",
    "hui_sdf.spatial.to_featureclass(location=hui_copy,sanitize_columns=False)"
   ]
  },
  {
   "cell_type": "code",
   "execution_count": 7,
   "metadata": {},
   "outputs": [],
   "source": [
    "# copy hui\n",
    "# hui_copy = arcpy.FeatureClassToFeatureClass_conversion(hui, gdb, '_00_hui_copy')\n",
    "arcpy.CalculateField_management(hui_copy, \"TOTAL_MKT_VALUE\", \"\"\"0\"\"\", \"PYTHON3\")\n",
    "\n",
    "# use spatial join to summarize TOTAL_MKT_VALUE, LAND_MKT_VALUE, BLDG_SQFT\n",
    "target_features = hui\n",
    "join_features = raw_parcel_pts\n",
    "output_features = os.path.join(gdb, \"_00_hui_pc_sj\")\n",
    "\n",
    "fieldmappings = arcpy.FieldMappings()\n",
    "fieldmappings.addTable(target_features)\n",
    "fieldmappings.addTable(join_features)\n",
    "\n",
    "# total market value\n",
    "fieldindex = fieldmappings.findFieldMapIndex('TOTAL_MKT_VALUE')\n",
    "fieldmap = fieldmappings.getFieldMap(fieldindex)\n",
    "fieldmap.mergeRule = 'Sum'\n",
    "fieldmappings.replaceFieldMap(fieldindex, fieldmap)\n",
    "\n",
    "# total land value\n",
    "fieldindex = fieldmappings.findFieldMapIndex('LAND_MKT_VALUE')\n",
    "fieldmap = fieldmappings.getFieldMap(fieldindex)\n",
    "fieldmap.mergeRule = 'Sum'\n",
    "fieldmappings.replaceFieldMap(fieldindex, fieldmap)\n",
    "\n",
    "# building square feet\n",
    "fieldindex = fieldmappings.findFieldMapIndex('BLDG_SQFT')\n",
    "fieldmap = fieldmappings.getFieldMap(fieldindex)\n",
    "fieldmap.mergeRule = 'Sum'\n",
    "fieldmappings.replaceFieldMap(fieldindex, fieldmap)\n",
    "\n",
    "# run the spatial join, use 'Join_Count' for number of units\n",
    "sj = arcpy.SpatialJoin_analysis(target_features, join_features, output_features,'JOIN_ONE_TO_ONE', \"KEEP_ALL\", \n",
    "                           fieldmappings, \"INTERSECT\")"
   ]
  },
  {
   "cell_type": "code",
   "execution_count": 8,
   "metadata": {},
   "outputs": [],
   "source": [
    "# post process hui\n",
    "sj_sdf = pd.DataFrame.spatial.from_featureclass(sj[0])\n",
    "sj_sdf = sj_sdf[['UNIT_ID', 'TOTAL_MKT_VALUE','LAND_MKT_VALUE','BLDG_SQFT', 'COUNTY_NAME']].copy()\n",
    "sj_sdf.columns = ['UNIT_ID', 'TOTAL_MKT_VALUE_NEW','LAND_MKT_VALUE','BLDG_SQFT_NEW', 'COUNTY_NAME']\n",
    "\n",
    "# hui_sdf = pd.DataFrame.spatial.from_featureclass(hui)\n",
    "merged = hui_sdf.merge(sj_sdf, left_on=['UNIT_ID','COUNTY_NAME'],right_on=['UNIT_ID','COUNTY_NAME'],how='left')\n",
    "\n",
    "merged['PARCEL_ACRES'] = pd.to_numeric(merged['PARCEL_ACRES'].round(4)) \n",
    "\n",
    "# recalc the building type\n",
    "merged.loc[(merged['TYPE'] == 'single_family'), 'building_type_id'] = 1\n",
    "merged.loc[(merged['TYPE'] == 'multi_family'), 'building_type_id'] = 2\n",
    "\n",
    "# if current value is zero, update\n",
    "# merged.loc[((merged['TOTAL_MKT_VALUE'] == 0) | (merged['TOTAL_MKT_VALUE'].isnull() == True)) & \n",
    "#             (merged['TOTAL_MKT_VALUE_NEW'] != 0), 'TOTAL_MKT_VALUE'] = merged['TOTAL_MKT_VALUE_NEW']\n",
    "\n",
    "merged['TOTAL_MKT_VALUE'] =  merged['TOTAL_MKT_VALUE_NEW']\n",
    "\n",
    "merged.loc[((merged['BLDG_SQFT'] == 0) | (merged['BLDG_SQFT'].isnull() == True)) & \n",
    "            (merged['BLDG_SQFT_NEW'] != 0), 'BLDG_SQFT'] = merged['BLDG_SQFT_NEW']\n",
    "\n",
    "hui_post_process = merged.spatial.to_featureclass(location=os.path.join(gdb, \"_01_hui_post_process\"),sanitize_columns=False)"
   ]
  },
  {
   "cell_type": "code",
   "execution_count": 9,
   "metadata": {},
   "outputs": [],
   "source": [
    "# select all parcels within buffered housing unit inventory parcels and delete\n",
    "hui_buff = arcpy.Buffer_analysis(hui, os.path.join(gdb, \"_02_hui_buffer_1_25m\"), '1.25 METERS')"
   ]
  },
  {
   "cell_type": "code",
   "execution_count": 10,
   "metadata": {},
   "outputs": [
    {
     "data": {
      "text/html": [
       "<div class='gpresult'><h2>Messages</h2><div id='messages' data-messages='[\"Start Time: Thursday, January 27, 2022 3:06:03 PM\",\"Succeeded at Thursday, January 27, 2022 3:06:03 PM (Elapsed Time: 0.21 seconds)\"]' data-show='true'><div id = 'default' /></div></div>"
      ],
      "text/plain": [
       "<Result '_03_parcels_copy_Layer2'>"
      ]
     },
     "execution_count": 10,
     "metadata": {},
     "output_type": "execute_result"
    }
   ],
   "source": [
    "# select and remove existing parcels\n",
    "parcels_copy = arcpy.FeatureClassToFeatureClass_conversion(parcels, gdb, '_03_parcels_copy')\n",
    "parcels_with_selection = arcpy.SelectLayerByLocation_management(parcels_copy, 'WITHIN', hui_buff)\n",
    "arcpy.DeleteFeatures_management(parcels_with_selection)"
   ]
  },
  {
   "cell_type": "code",
   "execution_count": 11,
   "metadata": {},
   "outputs": [],
   "source": [
    "# add reforamtted hui parcels to main parcel dataset\n",
    "parcels_reunited = arcpy.Merge_management([parcels_with_selection, hui_post_process], os.path.join(gdb, '_04_WFRC_Reunited_Parcels_'))"
   ]
  },
  {
   "cell_type": "markdown",
   "metadata": {},
   "source": [
    "# Eliminate WFRC Road Polygons\n"
   ]
  },
  {
   "cell_type": "code",
   "execution_count": 12,
   "metadata": {},
   "outputs": [],
   "source": [
    "parcels_reunited_lyr = arcpy.MakeFeatureLayer_management(parcels_reunited, 'parcels_split_merge_lyr') \n",
    "arcpy.AddField_management(parcels_reunited_lyr, 'Thinness', 'FLOAT')\n",
    "arcpy.CalculateField_management(parcels_reunited_lyr, field='Thinness', expression=\"(4 * math.pi* !Shape_Area!) / (!Shape_Length! * !Shape_Length!)\", expression_type=\"PYTHON3\")\n",
    "query = \"\"\"(Thinness < 0.26 And building_type_id NOT IN (1, 2,3, 5, 4, 10, 3, 7, 8,9,10,11,12,13, 14, 15)) And PARCEL_ACRES > 0.025 And PARCEL_ID NOT IN ('22081850140000', '15011090062000','110810001') And agriculture <> 1\"\"\"\n",
    "\n",
    "arcpy.SelectLayerByAttribute_management(parcels_reunited_lyr, 'NEW_SELECTION', query)\n",
    "\n",
    "# exclude parcels that overlap with pts from selection\n",
    "do_not_delete = '.\\inputs\\do_not_delete_thinness.shp'\n",
    "arcpy.SelectLayerByLocation_management(in_layer=parcels_reunited_lyr, overlap_type=\"INTERSECT\",\n",
    "                                       select_features=do_not_delete,\n",
    "                                       selection_type='REMOVE_FROM_SELECTION')\n",
    "\n",
    "parcels_reunited_lyr = arcpy.DeleteFeatures_management(parcels_reunited_lyr)"
   ]
  },
  {
   "cell_type": "markdown",
   "metadata": {},
   "source": [
    "# Merge with MAG Parcels"
   ]
  },
  {
   "cell_type": "code",
   "execution_count": 13,
   "metadata": {},
   "outputs": [
    {
     "data": {
      "text/plain": [
       "'e:\\\\Projects\\\\REMM-Input-Data-Prep-2019\\\\Parcels\\\\2020-WFRC\\\\Outputs\\\\recompile3.gdb\\\\_04_mag_parcels_processed'"
      ]
     },
     "execution_count": 13,
     "metadata": {},
     "output_type": "execute_result"
    }
   ],
   "source": [
    "# standardize\n",
    "mag_parcels_sdf = pd.DataFrame.spatial.from_featureclass(mag_parcels)\n",
    "mag_parcels_sdf.loc[(mag_parcels_sdf['OUG_ID']>0), 'IS_OUG'] = '1'\n",
    "mag_parcels_sdf.loc[(mag_parcels_sdf['OUG_ID']==0), 'IS_OUG'] = '0'\n",
    "mag_parcels_sdf = mag_parcels_sdf.rename(columns={\"LAND_VAL\": \"LAND_MKT_VALUE\"})\n",
    "mag_parcels_sdf = mag_parcels_sdf.rename(columns={\"TOT_VAL\": \"TOTAL_MKT_VALUE\"})\n",
    "mag_parcels_sdf = mag_parcels_sdf.rename(columns={\"residential_units\": \"UNIT_COUNT\"})\n",
    "mag_parcels_sdf = mag_parcels_sdf.rename(columns={\"building_sqft\": \"BLDG_SQFT\"})\n",
    "mag_parcels_sdf = mag_parcels_sdf.rename(columns={\"year_built\": \"BUILT_YR\"})\n",
    "mag_parcels_sdf = mag_parcels_sdf.rename(columns={\"ACREAGE\": \"PARCEL_ACRES\"})\n",
    "mag_parcels_sdf = mag_parcels_sdf.rename(columns={\"Parent_Parcel\": \"PARCEL_ID\"})\n",
    "mag_parcels_sdf = mag_parcels_sdf.rename(columns={\"parcel_id_REMM\": \"parcel_id_remm\"})\n",
    "mag_parcels_sdf['PARCEL_ID'] = mag_parcels_sdf['PARCEL_ID'].astype(str)\n",
    "\n",
    "mag_parcels_sdf['COUNTY_NAME'] = 'Utah'\n",
    "mag_parcels_sdf['COUNTY_ID'] = 49\n",
    "\n",
    "# set parcels built after 2019 to empty\n",
    "mag_parcels_sdf.loc[(mag_parcels_sdf['BUILT_YR']>2019), 'TOTAL_MKT_VALUE'] = mag_parcels_sdf['LAND_MKT_VALUE']\n",
    "mag_parcels_sdf.loc[(mag_parcels_sdf['BUILT_YR']>2019), 'building_type_id'] = 0\n",
    "mag_parcels_sdf.loc[(mag_parcels_sdf['BUILT_YR']>2019), 'UNIT_COUNT'] = 0\n",
    "mag_parcels_sdf.loc[(mag_parcels_sdf['BUILT_YR']>2019), 'BLDG_SQFT'] = 0\n",
    "\n",
    "mag_parcels_sdf = mag_parcels_sdf[['COUNTY_NAME','COUNTY_ID',\"TOTAL_MKT_VALUE\",'IS_OUG','building_type_id',\"LAND_MKT_VALUE\", \"UNIT_COUNT\",\"BLDG_SQFT\",\"BUILT_YR\",\"PARCEL_ACRES\",\"PARCEL_ID\", 'parcel_id_remm', \"SHAPE\"]].copy()\n",
    "\n",
    "mag_parcels_sdf.spatial.to_featureclass(location=os.path.join(gdb, \"_04_mag_parcels_processed\"),sanitize_columns=False)"
   ]
  },
  {
   "cell_type": "code",
   "execution_count": 14,
   "metadata": {},
   "outputs": [
    {
     "data": {
      "text/html": [
       "<div class='gpresult'><h2>Messages</h2><div id='messages' data-messages='[\"Start Time: Thursday, January 27, 2022 3:10:32 PM\",\"Succeeded at Thursday, January 27, 2022 3:11:00 PM (Elapsed Time: 28.57 seconds)\"]' data-show='true'><div id = 'default' /></div></div>"
      ],
      "text/plain": [
       "<Result 'parcels_split_merge_lyr'>"
      ]
     },
     "execution_count": 14,
     "metadata": {},
     "output_type": "execute_result"
    }
   ],
   "source": [
    "# wfrc_parcels_sdf = pd.DataFrame.spatial.from_featureclass(parcels_reunited[0])\n",
    "# wfrc_parcels_sdf = wfrc_parcels_sdf.rename(columns={\"parcel_id_remm\": \"parcel_id_REMM\"})\n",
    "\n",
    "# # stack parcels and create remm paarcel id\n",
    "# wfrc_mag_parcels_sdf = pd.concat([wfrc_parcels_sdf, mag_parcels_sdf])\n",
    "# wfrc_mag_parcels_sdf['parcel_id_REMM'] = wfrc_mag_parcels_sdf.index\n",
    "\n",
    "# wfrc_mag_parcels = os.path.join(gdb, '_05_wfrc_mag_parcels')\n",
    "# wfrc_mag_parcels_sdf.spatial.to_featureclass(location=wfrc_mag_parcels,sanitize_columns=False)\n",
    "\n",
    "wfrc_mag_parcels = arcpy.Merge_management([parcels_reunited_lyr, os.path.join(gdb, \"_04_mag_parcels_processed\")], os.path.join(gdb, '_05_wfrc_mag_parcels'))\n",
    "\n",
    "code = \"\"\"rec=0 \n",
    "def autoIncrement(): \n",
    " global rec \n",
    " pStart = 1  \n",
    " pInterval = 1 \n",
    " if (rec == 0):  \n",
    "  rec = pStart  \n",
    " else:  \n",
    "  rec += pInterval  \n",
    " return rec\"\"\"\n",
    "\n",
    "arcpy.CalculateField_management(parcels_reunited_lyr, 'parcel_id_remm', \"\"\"autoIncrement()\"\"\", \"PYTHON3\", \n",
    "                                code)\n"
   ]
  },
  {
   "cell_type": "code",
   "execution_count": 15,
   "metadata": {},
   "outputs": [],
   "source": [
    "# clear some memory\n",
    "del hui_sdf\n",
    "del merged\n",
    "# del wfrc_parcels_sdf\n",
    "del mag_parcels_sdf\n",
    "# del wfrc_mag_parcels_sdf\n",
    "del parcels_reunited_lyr\n",
    "del parcels_reunited"
   ]
  },
  {
   "cell_type": "markdown",
   "metadata": {},
   "source": [
    "# Split Parcels"
   ]
  },
  {
   "cell_type": "code",
   "execution_count": 16,
   "metadata": {},
   "outputs": [
    {
     "data": {
      "text/html": [
       "<div class='gpresult'><h2>Messages</h2><div id='messages' data-messages='[\"Start Time: Thursday, January 27, 2022 3:11:45 PM\",\"Adding RealBldg to _05a_acre_mesh...\",\"Succeeded at Thursday, January 27, 2022 3:11:45 PM (Elapsed Time: 0.19 seconds)\"]' data-show='true'><div id = 'default' /></div></div>"
      ],
      "text/plain": [
       "<Result '.\\\\Outputs\\\\recompile3.gdb\\\\_05a_acre_mesh'>"
      ]
     },
     "execution_count": 16,
     "metadata": {},
     "output_type": "execute_result"
    }
   ],
   "source": [
    "env.outputCoordinateSystem = arcpy.SpatialReference('NAD 1983 UTM Zone 12N')\n",
    "desc = arcpy.Describe(wfrc_mag_parcels)\n",
    "\n",
    "#create the acre mesh- in this case, the cell_width and height calculate to 1 acre.\n",
    "acre_mesh = arcpy.management.CreateFishnet(out_feature_class = os.path.join(gdb,'_05a_acre_mesh'),\n",
    "    origin_coord = str(desc.extent.lowerLeft),\n",
    "    y_axis_coord = str(desc.extent.XMin) + \" \" + str(desc.extent.YMax + 10),\n",
    "    cell_width = 63.6, # meters\n",
    "    cell_height = 63.6, # meters\n",
    "    number_rows = '#',\n",
    "    number_columns = '#',\n",
    "    labels = 'NO_LABELS', \n",
    "    template = wfrc_mag_parcels, \n",
    "    geometry_type = 'POLYGON'\n",
    ")\n",
    "\n",
    "#Add Required Fields: RealBuildingID\n",
    "arcpy.management.AddFields(in_table=acre_mesh, field_description=[[\"RealBldg\", \"DOUBLE\", \"RealBldg\", \"\", \"\", \"\"]])\n"
   ]
  },
  {
   "cell_type": "code",
   "execution_count": 17,
   "metadata": {},
   "outputs": [],
   "source": [
    "#Identifying which parcels meet the qualifications\n",
    "Parcels_7Acre_wBuildings = arcpy.conversion.FeatureClassToFeatureClass(in_features=wfrc_mag_parcels, \n",
    "                                                                       out_path=gdb, out_name=\"_06_Parcels_7Acre_wBuildings\", \n",
    "                                                                       where_clause=\"(building_type_id IN (0, 1, 15)) And (PARCEL_ACRES >= 7) AND (IS_OUG <>  '1')\")\n",
    "\n",
    "#Identifying which buildings reside on those parcels that meet qualifications\n",
    "Buildings_7Acre_wBuildings = arcpy.analysis.SpatialJoin(target_features=addr_pts, \n",
    "                                                        join_features=Parcels_7Acre_wBuildings, \n",
    "                                                        out_feature_class=os.path.join(gdb,'_07_Buildings_7Acre_wBuildings'), \n",
    "                                                        join_operation=\"JOIN_ONE_TO_ONE\", \n",
    "                                                        join_type=\"KEEP_COMMON\",\n",
    "                                                        match_option=\"INTERSECT\", \n",
    "                                                        search_radius=\"\", \n",
    "                                                        distance_field_name=\"\")\n",
    "\n",
    "#Adding the Preserve Bldg field- used to identify which building areas to preserve\n",
    "Buildings_7Acre_wBuildings = arcpy.management.AddField(in_table=Buildings_7Acre_wBuildings, \n",
    "                                                       field_name=\"PreserveBldg\", \n",
    "                                                       field_type=\"SHORT\", \n",
    "                                                       field_precision=None, \n",
    "                                                       field_scale=None, \n",
    "                                                       field_length=None, \n",
    "                                                       field_alias=\"RealBldg\", \n",
    "                                                       field_is_nullable=\"NULLABLE\", \n",
    "                                                       field_is_required=\"NON_REQUIRED\", \n",
    "                                                       field_domain=\"\")\n",
    "\n",
    "Buildings_7Acre_wBuildings= arcpy.management.CalculateField(in_table=Buildings_7Acre_wBuildings, \n",
    "                                                    field=\"PreserveBldg\", \n",
    "                                                    expression=\"1\", \n",
    "                                                    expression_type=\"ARCADE\", \n",
    "                                                    code_block=\"\", \n",
    "                                                    field_type=\"TEXT\")\n",
    "\n",
    "Preserve_Buildings = arcpy.conversion.FeatureClassToFeatureClass(in_features=Buildings_7Acre_wBuildings, \n",
    "                                                                       out_path=gdb, out_name=\"_08_Preserve_Buildings\")"
   ]
  },
  {
   "cell_type": "code",
   "execution_count": 18,
   "metadata": {},
   "outputs": [],
   "source": [
    "#Use Spatial Join to identify which acre_mesh pieces contain those preserve_buildings\n",
    "Mesh_w_Buildings = arcpy.analysis.SpatialJoin(target_features=acre_mesh, \n",
    "                           join_features=Preserve_Buildings, \n",
    "                           out_feature_class=os.path.join(gdb,'_09_Mesh_w_Buildings'), \n",
    "                           join_operation=\"JOIN_ONE_TO_ONE\", \n",
    "                           join_type=\"KEEP_ALL\",\n",
    "                           match_option=\"INTERSECT\", \n",
    "                           search_radius=\"\", \n",
    "                           distance_field_name=\"\")\n",
    "\n",
    "#convert to new Feature Class if Preserve_blg = 1\n",
    "Mesh_w_PreserveBldgs = arcpy.conversion.FeatureClassToFeatureClass(in_features=Mesh_w_Buildings, \n",
    "                                                                       out_path=gdb, out_name=\"_10_Mesh_w_PreserveBldgs\", \n",
    "                                                                       where_clause=\"PreserveBldg IN (1)\")"
   ]
  },
  {
   "cell_type": "code",
   "execution_count": 19,
   "metadata": {},
   "outputs": [],
   "source": [
    "#Select the parcels with buildings on them and prep for mesh erasure and convert to feature class\n",
    "Parcels_for_Erase_select = arcpy.management.SelectLayerByLocation(in_layer=[wfrc_mag_parcels],\n",
    "                                                                 overlap_type=\"INTERSECT\", \n",
    "                                                                 select_features=Buildings_7Acre_wBuildings, \n",
    "                                                                 search_distance=\"\", \n",
    "                                                                 selection_type=\"NEW_SELECTION\", \n",
    "                                                                 invert_spatial_relationship=\"NOT_INVERT\")\n",
    "\n",
    "Parcels_for_Erase= arcpy.conversion.FeatureClassToFeatureClass(in_features=Parcels_for_Erase_select, \n",
    "                                                                       out_path=gdb, out_name=\"_11_Parcels_for_Erase\")"
   ]
  },
  {
   "cell_type": "code",
   "execution_count": 20,
   "metadata": {},
   "outputs": [],
   "source": [
    "parcels_erased = arcpy.analysis.Erase(in_features=Parcels_for_Erase,\n",
    "                                      erase_features=Mesh_w_PreserveBldgs, \n",
    "                                      out_feature_class= os.path.join(gdb,'_12_parcels_erased'),\n",
    "                                      cluster_tolerance=\"\")"
   ]
  },
  {
   "cell_type": "code",
   "execution_count": 21,
   "metadata": {},
   "outputs": [],
   "source": [
    "# calculate all building parcel attributes to zero out for the non-building pieces\n",
    "#YEAR BUILT\n",
    "parcels_erased = arcpy.management.CalculateField(in_table=parcels_erased, \n",
    "                                                                  field=\"BUILT_YR\", \n",
    "                                                                  expression=\"\"\"0\"\"\", \n",
    "                                                                  expression_type=\"PYTHON3\")\n",
    "\n",
    "#BUILDING SQFT\n",
    "parcels_erased = arcpy.management.CalculateField(in_table=parcels_erased, \n",
    "                                                                  field=\"BLDG_SQFT\", \n",
    "                                                                  expression=\"\"\"0\"\"\", \n",
    "                                                                  expression_type=\"PYTHON3\")\n",
    "\n",
    "#BUILDING TYPE ID\n",
    "parcels_erased = arcpy.management.CalculateField(in_table=parcels_erased, \n",
    "                                                                  field=\"building_type_id\", \n",
    "                                                                  expression=\"\"\"0\"\"\", \n",
    "                                                                  expression_type=\"PYTHON3\")"
   ]
  },
  {
   "cell_type": "code",
   "execution_count": 22,
   "metadata": {},
   "outputs": [],
   "source": [
    "#join erased parcels to original parcels- puzzle piece 1\n",
    "parcels_with_structures = arcpy.analysis.SymDiff(Parcels_for_Erase, parcels_erased, os.path.join(gdb,'_13_parcels_with_structures'))\n",
    "arcpy.AddField_management(parcels_with_structures, 'Split', 'LONG')\n",
    "arcpy.CalculateField_management(parcels_with_structures, field='Split', expression=2, expression_type=\"PYTHON3\") \n",
    "\n",
    "parcels_erased_union = arcpy.management.Merge(inputs=[parcels_erased, parcels_with_structures],\n",
    "                                           output=os.path.join(gdb,'_14_parcels_erased_union'),\n",
    "                                           add_source=\"NO_SOURCE_INFO\")"
   ]
  },
  {
   "cell_type": "code",
   "execution_count": 23,
   "metadata": {},
   "outputs": [],
   "source": [
    "#All other parcels not included in the parcels_erased_union\n",
    "Other_parcels_select = arcpy.management.SelectLayerByLocation(in_layer=[wfrc_mag_parcels], \n",
    "                                                          overlap_type=\"INTERSECT\", \n",
    "                                                          select_features=Buildings_7Acre_wBuildings, \n",
    "                                                          search_distance=\"\", \n",
    "                                                          selection_type=\"NEW_SELECTION\", \n",
    "                                                          invert_spatial_relationship=\"INVERT\")\n",
    "#convert selection to new feature class\n",
    "All_other_parcels= arcpy.conversion.FeatureClassToFeatureClass(in_features=Other_parcels_select, \n",
    "                                                                       out_path=gdb, \n",
    "                                                               out_name=\"_15_All_other_parcels\")"
   ]
  },
  {
   "cell_type": "code",
   "execution_count": 24,
   "metadata": {},
   "outputs": [],
   "source": [
    "#merging the non-erased, and the erased parcels back together\n",
    "prepared_parcels = arcpy.management.Merge(inputs=[All_other_parcels, parcels_erased_union],\n",
    "                                           output=os.path.join(gdb,'_16_prepared_parcels'),\n",
    "                                           add_source=\"NO_SOURCE_INFO\")"
   ]
  },
  {
   "cell_type": "code",
   "execution_count": 25,
   "metadata": {},
   "outputs": [],
   "source": [
    "#select parcels with acreage larger than 7 or haven't been erased\n",
    "parcels_YES_split_select = arcpy.management.SelectLayerByAttribute(in_layer_or_view=prepared_parcels,\n",
    "                                                                               selection_type=\"NEW_SELECTION\", \n",
    "                                                                               where_clause=\"\"\" building_type_id IN (0, 1, 15) And (PARCEL_ACRES >= 7) AND (IS_OUG <>  '1') And \n",
    "                                                                                               (FID__12_parcels_erased > -1 Or FID__12_parcels_erased IS NULL)\"\"\", \n",
    "                                                                               invert_where_clause=\"\")\n",
    "\n",
    "parcels_YES_split = arcpy.conversion.FeatureClassToFeatureClass(in_features=parcels_YES_split_select, \n",
    "                                                                       out_path=gdb, \n",
    "                                                               out_name=\"_17_parcels_YES_split\")\n",
    "\n",
    "arcpy.CalculateField_management(parcels_YES_split, field='Split', expression=1, expression_type=\"PYTHON3\") \n",
    "\n",
    "# WRONG PLACE apply taz to splitting process\n",
    "taz_layer = arcpy.MakeFeatureLayer_management(new_taz, 'new_taz') \n",
    "query = '''REMM IN (1)'''\n",
    "arcpy.management.SelectLayerByAttribute(taz_layer, \"NEW_SELECTION\", query)\n",
    "parcels_YES_split_taz = arcpy.Identity_analysis(parcels_YES_split, taz_layer, os.path.join(gdb,'_18_parcels_YES_split_taz'))"
   ]
  },
  {
   "cell_type": "code",
   "execution_count": 26,
   "metadata": {},
   "outputs": [],
   "source": [
    "parcels_split = arcpy.management.SubdividePolygon(in_polygons=parcels_YES_split_taz, \n",
    "                                  out_feature_class= os.path.join(gdb,'_19_parcels_split'), \n",
    "                                  method=\"EQUAL_AREAS\", \n",
    "                                  num_areas=None, \n",
    "                                  target_area=\"5 Acres\", \n",
    "                                  target_width=\"\", \n",
    "                                  split_angle=0, \n",
    "                                  subdivision_type=\"STACKED_BLOCKS\")"
   ]
  },
  {
   "cell_type": "code",
   "execution_count": 27,
   "metadata": {},
   "outputs": [],
   "source": [
    "#select all other parcels that arent ready for splitting\n",
    "parcels_NO_split_select = arcpy.management.SelectLayerByAttribute(in_layer_or_view=prepared_parcels,\n",
    "                                                                               selection_type=\"NEW_SELECTION\", \n",
    "                                                                               where_clause=\"\"\"building_type_id IN (0, 1, 15) And (PARCEL_ACRES >= 7) AND (IS_OUG <>  '1')\n",
    "                                                                                              And (FID__12_parcels_erased > -1 Or FID__12_parcels_erased IS NULL)\"\"\", \n",
    "                                                                               invert_where_clause=\"INVERT\")\n",
    "\n",
    "\n",
    "parcels_NO_split = arcpy.conversion.FeatureClassToFeatureClass(in_features=parcels_NO_split_select, \n",
    "                                                                       out_path=gdb, \n",
    "                                                               out_name=\"_20_parcels_NO_split\")"
   ]
  },
  {
   "cell_type": "code",
   "execution_count": 28,
   "metadata": {},
   "outputs": [],
   "source": [
    "#merging all parcels back together again\n",
    "parcels_split_merge = arcpy.management.Merge(inputs=[parcels_split, parcels_NO_split],\n",
    "                                           output=os.path.join(gdb,'_21_parcels_split_merge'),\n",
    "                                           add_source=\"NO_SOURCE_INFO\")\n",
    "\n",
    "# recalc acreage\n",
    "arcpy.AddField_management(parcels_split_merge, 'PARCEL_ACRES_NEW', 'FLOAT')\n",
    "arcpy.CalculateField_management(parcels_split_merge, \"PARCEL_ACRES_NEW\", \"\"\"!SHAPE.area@ACRES!\"\"\", \"PYTHON3\")\n",
    "\n",
    "# create layer\n",
    "parcels_split_merge_lyr = arcpy.MakeFeatureLayer_management(parcels_split_merge, 'parcels_split_merge_lyr') "
   ]
  },
  {
   "cell_type": "code",
   "execution_count": 29,
   "metadata": {},
   "outputs": [
    {
     "data": {
      "text/html": [
       "<div class='gpresult'><h2>Messages</h2><div id='messages' data-messages='[\"Start Time: Thursday, January 27, 2022 3:21:36 PM\",\"Succeeded at Thursday, January 27, 2022 3:21:36 PM (Elapsed Time: 0.01 seconds)\"]' data-show='true'><div id = 'default' /></div></div>"
      ],
      "text/plain": [
       "<Result 'gflu_lyr'>"
      ]
     },
     "execution_count": 29,
     "metadata": {},
     "output_type": "execute_result"
    }
   ],
   "source": [
    "# recalc gflu\n",
    "# set land use type on parcels using glfu\n",
    "gflu = '.\\Inputs\\FutureLandUse2020.gdb\\FutureLandUse2020'\n",
    "gflu_lyr = arcpy.MakeFeatureLayer_management(gflu, 'gflu_lyr') \n",
    "\n",
    "\n",
    "##################\n",
    "# Type 1 (SF)\n",
    "##################\n",
    "\n",
    "# query for land use type\n",
    "query = \"\"\" GenLUType IN ('Any Development','Any Residential', 'Mixed Use SF', 'Residential SF', 'Residential SF/Retail') \"\"\"\n",
    "arcpy.SelectLayerByAttribute_management(gflu_lyr, 'NEW_SELECTION', query)\n",
    "\n",
    "# select the parcels\n",
    "arcpy.SelectLayerByLocation_management(in_layer=parcels_split_merge_lyr,overlap_type=\"INTERSECT\",\n",
    "                                       select_features=gflu_lyr,\n",
    "                                       selection_type='NEW_SELECTION')\n",
    "\n",
    "arcpy.CalculateField_management(parcels_split_merge_lyr, field='type1', expression=\"'t'\",\n",
    "                                expression_type=\"PYTHON3\")\n",
    "\n",
    "\n",
    "##################\n",
    "# Type 2 (MF)\n",
    "##################\n",
    "\n",
    "# query for land use type\n",
    "query = \"\"\" GenLUType IN ('Any Residential', 'Any Development', 'Industrial/Mixed Use MF', 'Mixed Use', \n",
    "                          'Residential MF/Office', 'Residential MF', 'Mixed Use MF', 'Mixed Use SF', 'Residential/Office', \n",
    "                          'Residential/Retail') \"\"\"\n",
    "arcpy.SelectLayerByAttribute_management(gflu_lyr, 'NEW_SELECTION', query)\n",
    "\n",
    "# select the parcels\n",
    "arcpy.SelectLayerByLocation_management(in_layer=parcels_split_merge_lyr,overlap_type=\"INTERSECT\",\n",
    "                                       select_features=gflu_lyr,\n",
    "                                       selection_type='NEW_SELECTION')\n",
    "\n",
    "arcpy.CalculateField_management(parcels_split_merge_lyr, field='type2', expression=\"'t'\",\n",
    "                                expression_type=\"PYTHON3\")\n",
    "\n",
    "#######################\n",
    "# Type 3 (Industrial)\n",
    "#######################\n",
    "\n",
    "# query for land use type\n",
    "query = \"\"\" GenLUType IN ('Industrial', 'Industrial/Office', 'Any Development', 'Industrial/Mixed Use MF') \"\"\"\n",
    "arcpy.SelectLayerByAttribute_management(gflu_lyr, 'NEW_SELECTION', query)\n",
    "\n",
    "# select the parcels\n",
    "arcpy.SelectLayerByLocation_management(in_layer=parcels_split_merge_lyr,overlap_type=\"INTERSECT\",\n",
    "                                       select_features=gflu_lyr,\n",
    "                                       selection_type='NEW_SELECTION')\n",
    "\n",
    "arcpy.CalculateField_management(parcels_split_merge_lyr, field='type3', expression=\"'t'\",\n",
    "                                expression_type=\"PYTHON3\")\n",
    "\n",
    "#######################\n",
    "# Type 4 (Retail)\n",
    "#######################\n",
    "\n",
    "# query for land use type\n",
    "query = \"\"\" GenLUType IN ('Any Development', 'Industrial/Retail', 'Retail', 'Retail/Office', 'Residential/Retail', \n",
    "                          'Residential SF/Retail') \"\"\"\n",
    "arcpy.SelectLayerByAttribute_management(gflu_lyr, 'NEW_SELECTION', query)\n",
    "\n",
    "# select the parcels\n",
    "arcpy.SelectLayerByLocation_management(in_layer=parcels_split_merge_lyr,overlap_type=\"INTERSECT\",\n",
    "                                       select_features=gflu_lyr,\n",
    "                                       selection_type='NEW_SELECTION')\n",
    "\n",
    "arcpy.CalculateField_management(parcels_split_merge_lyr, field='type4', expression=\"'t'\",\n",
    "                                expression_type=\"PYTHON3\")\n",
    "\n",
    "\n",
    "#######################\n",
    "# Type 5 (Office)\n",
    "#######################\n",
    "\n",
    "# query for land use type\n",
    "query = \"\"\" GenLUType IN ('Retail/Office', 'Office', 'Any Commercial', 'Residential/Office', 'Residential MF/Office') \"\"\"\n",
    "arcpy.SelectLayerByAttribute_management(gflu_lyr, 'NEW_SELECTION', query)\n",
    "\n",
    "# select the parcels\n",
    "arcpy.SelectLayerByLocation_management(in_layer=parcels_split_merge_lyr,overlap_type=\"INTERSECT\",\n",
    "                                       select_features=gflu_lyr,\n",
    "                                       selection_type='NEW_SELECTION')\n",
    "\n",
    "arcpy.CalculateField_management(parcels_split_merge_lyr, field='type5', expression=\"'t'\",\n",
    "                                expression_type=\"PYTHON3\")\n",
    "\n",
    "####################################\n",
    "# Type 6 (Government and Education)\n",
    "###################################\n",
    "\n",
    "# query for land use type\n",
    "query = \"\"\" GenLUType IN ('Any Development', 'Government/Education') \"\"\"\n",
    "arcpy.SelectLayerByAttribute_management(gflu_lyr, 'NEW_SELECTION', query)\n",
    "\n",
    "# select the parcels\n",
    "arcpy.SelectLayerByLocation_management(in_layer=parcels_split_merge_lyr,overlap_type=\"INTERSECT\",\n",
    "                                       select_features=gflu_lyr,\n",
    "                                       selection_type='NEW_SELECTION')\n",
    "\n",
    "arcpy.CalculateField_management(parcels_split_merge_lyr, field='type6', expression=\"'t'\",\n",
    "                                expression_type=\"PYTHON3\")\n",
    "\n",
    "\n",
    "####################################\n",
    "# Type 7 (Mixed Use)\n",
    "###################################\n",
    "\n",
    "# query for land use type\n",
    "query = \"\"\" GenLUType IN ('Any Development', 'Industrial/Mixed Use MF', 'Mixed Use', 'Mixed Use MF', 'Mixed Use SF', \n",
    "                          'Residential MF/Office', 'Residential SF/Retail', 'Residential/Office', 'Residential/Retail', \n",
    "                          'Retail/Office') \"\"\"\n",
    "arcpy.SelectLayerByAttribute_management(gflu_lyr, 'NEW_SELECTION', query)\n",
    "\n",
    "# select the parcels\n",
    "arcpy.SelectLayerByLocation_management(in_layer=parcels_split_merge_lyr,overlap_type=\"INTERSECT\",\n",
    "                                       select_features=gflu_lyr,\n",
    "                                       selection_type='NEW_SELECTION')\n",
    "\n",
    "arcpy.CalculateField_management(parcels_split_merge_lyr, field='type7', expression=\"'t'\",\n",
    "                                expression_type=\"PYTHON3\")\n",
    "\n",
    "####################################\n",
    "# Type 8 (Other)\n",
    "###################################\n",
    "\n",
    "# # query for land use type\n",
    "# query = \"\"\" GenLUType IN ('Any Development', 'Industrial/Retail', 'Retail', 'Retail/Office', 'Residential/Retail', \n",
    "#                           'Residential SF/Retail') \"\"\"\n",
    "# arcpy.SelectLayerByAttribute_management(gflu_lyr, 'NEW_SELECTION', query)\n",
    "\n",
    "# # select the parcels\n",
    "# arcpy.SelectLayerByLocation_management(in_layer=merged_parcels_lyr,overlap_type=\"INTERSECT\",\n",
    "#                                        select_features=gflu_lyr,\n",
    "#                                        selection_type='NEW_SELECTION')\n",
    "\n",
    "# arcpy.CalculateField_management(merged_parcels_lyr, field='type8', expression=\"'t'\".format(tag),\n",
    "#                                 expression_type=\"PYTHON3\")\n",
    "\n",
    "#################################\n",
    "# Undevelopable\n",
    "#################################\n",
    "\n",
    "# query for land use type\n",
    "query = \"\"\" GenLUType IN ('NoBuild') \"\"\"\n",
    "arcpy.SelectLayerByAttribute_management(gflu_lyr, 'NEW_SELECTION', query)\n",
    "\n",
    "# select the parcels\n",
    "arcpy.SelectLayerByLocation_management(in_layer=parcels_split_merge_lyr, overlap_type=\"INTERSECT\",\n",
    "                                       select_features=gflu_lyr,\n",
    "                                       selection_type='NEW_SELECTION')\n",
    "\n",
    "query = \"\"\" NoBuild = 1 \"\"\"\n",
    "arcpy.SelectLayerByAttribute_management(parcels_split_merge_lyr, 'NEW_SELECTION', query)\n",
    "\n",
    "\n",
    "# set all types to false\n",
    "arcpy.CalculateField_management(parcels_split_merge_lyr, field='type1', expression=\"'f'\",\n",
    "                                expression_type=\"PYTHON3\")\n",
    "arcpy.CalculateField_management(parcels_split_merge_lyr, field='type2', expression=\"'f'\",\n",
    "                                expression_type=\"PYTHON3\")\n",
    "arcpy.CalculateField_management(parcels_split_merge_lyr, field='type3', expression=\"'f'\",\n",
    "                                expression_type=\"PYTHON3\")\n",
    "arcpy.CalculateField_management(parcels_split_merge_lyr, field='type4', expression=\"'f'\",\n",
    "                                expression_type=\"PYTHON3\")\n",
    "arcpy.CalculateField_management(parcels_split_merge_lyr, field='type5', expression=\"'f'\",\n",
    "                                expression_type=\"PYTHON3\")\n",
    "arcpy.CalculateField_management(parcels_split_merge_lyr, field='type6', expression=\"'f'\",\n",
    "                                expression_type=\"PYTHON3\")\n",
    "arcpy.CalculateField_management(parcels_split_merge_lyr, field='type7', expression=\"'f'\",\n",
    "                                expression_type=\"PYTHON3\")\n",
    "arcpy.CalculateField_management(parcels_split_merge_lyr, field='type8', expression=\"'f'\",\n",
    "                                expression_type=\"PYTHON3\")\n",
    "\n",
    "# clear selected parcels\n",
    "arcpy.SelectLayerByAttribute_management(parcels_split_merge_lyr, 'CLEAR_SELECTION', query)\n",
    "arcpy.SelectLayerByAttribute_management(gflu_lyr, 'CLEAR_SELECTION', query)\n",
    "    \n",
    "    \n",
    "    \n",
    "    \n",
    "# reformat fields to match with REMM (building type)"
   ]
  },
  {
   "cell_type": "code",
   "execution_count": 30,
   "metadata": {},
   "outputs": [],
   "source": [
    "#attribute cleanup\n",
    "final_parcel_df = pd.DataFrame.spatial.from_featureclass(parcels_split_merge[0])\n",
    "#list(final_parcel_df.columns)\n",
    "\n",
    "# Adjust non-true zoning to false\n",
    "final_parcel_df.loc[(final_parcel_df['type1'] != 't'), 'type1'] = 'f'\n",
    "final_parcel_df.loc[(final_parcel_df['type2'] != 't'), 'type2'] = 'f'\n",
    "final_parcel_df.loc[(final_parcel_df['type3'] != 't'), 'type3'] = 'f'\n",
    "final_parcel_df.loc[(final_parcel_df['type4'] != 't'), 'type4'] = 'f'\n",
    "final_parcel_df.loc[(final_parcel_df['type5'] != 't'), 'type5'] = 'f'\n",
    "final_parcel_df.loc[(final_parcel_df['type6'] != 't'), 'type6'] = 'f'\n",
    "final_parcel_df.loc[(final_parcel_df['type7'] != 't'), 'type7'] = 'f'\n",
    "final_parcel_df.loc[(final_parcel_df['type8'] != 't'), 'type8'] = 'f'\n",
    "\n",
    "# divide land value by this number for new approximate value\n",
    "final_parcel_df['Split_Factor'] = final_parcel_df['PARCEL_ACRES']/final_parcel_df['PARCEL_ACRES_NEW']\n",
    "final_parcel_df['PARCEL_ACRES'] = final_parcel_df['PARCEL_ACRES_NEW']\n",
    "\n",
    "fields = ['COUNTY_NAME', 'COUNTY_ID', 'PARCEL_ID', 'TOTAL_MKT_VALUE', 'LAND_MKT_VALUE', 'UNIT_COUNT', 'BLDG_SQFT', 'FLOORS_CNT',\n",
    "         'BUILT_YR', 'EFFBUILT_YR', 'IS_OUG','max_dua', 'max_far', 'max_height', 'type1', 'type2', 'type3', 'type4', 'type5', 'type6', \n",
    "         'type7','type8', 'agriculture', 'basebldg', 'NoBuild', 'redev_friction', 'building_type_id', 'x', 'y', \n",
    "         'parcel_id_remm', 'PARCEL_ACRES', 'Split','Split_Factor', 'SHAPE']\n",
    "\n",
    "\n",
    "# save old parcel id\n",
    "final_parcel_df = final_parcel_df[fields].copy()\n",
    "final_parcel_df['parcel_id_REMM_old'] = final_parcel_df['parcel_id_remm']\n",
    "\n",
    "# generate unique building id for split parcels\n",
    "final_parcel_df.loc[(final_parcel_df['Split'].isna() == True), 'Split'] = 0\n",
    "split_parcels = final_parcel_df[final_parcel_df['Split'] == 1].copy()\n",
    "nonsplit_parcels = final_parcel_df[(final_parcel_df['Split']==0) | (final_parcel_df['Split']==2)].copy()\n",
    "count = final_parcel_df.shape[0]\n",
    "split_parcels['parcel_id_remm'] = count + split_parcels.index + 1\n",
    "\n",
    "final_parcel_df = pd.concat([nonsplit_parcels, split_parcels])\n",
    "\n",
    "# set residential unit count of new parcels resulting from split to 0\n",
    "final_parcel_df.loc[(final_parcel_df['Split']==1), 'UNIT_COUNT'] = 0\n",
    "\n",
    "# recalc land value and total market value using split factor\n",
    "final_parcel_df.loc[(final_parcel_df['Split']==1), 'LAND_MKT_VALUE'] = final_parcel_df['LAND_MKT_VALUE'] / final_parcel_df['Split_Factor']\n",
    "final_parcel_df.loc[(final_parcel_df['Split']==1), 'TOTAL_MKT_VALUE'] = final_parcel_df['LAND_MKT_VALUE']\n",
    "final_parcel_df.loc[(final_parcel_df['Split']==2), 'TOTAL_MKT_VALUE'] = (final_parcel_df['TOTAL_MKT_VALUE'] - final_parcel_df['LAND_MKT_VALUE']) + (final_parcel_df['LAND_MKT_VALUE'] / final_parcel_df['Split_Factor'])\n",
    "final_parcel_df.loc[(final_parcel_df['Split']==2), 'LAND_MKT_VALUE'] = final_parcel_df['LAND_MKT_VALUE'] / final_parcel_df['Split_Factor']"
   ]
  },
  {
   "cell_type": "code",
   "execution_count": 31,
   "metadata": {},
   "outputs": [],
   "source": [
    "# fix county ids\n",
    "final_parcel_df.loc[final_parcel_df['COUNTY_NAME'] == 'Davis', 'COUNTY_ID'] = '11'\n",
    "final_parcel_df.loc[final_parcel_df['COUNTY_NAME'] == 'Salt Lake', 'COUNTY_ID'] = '35'\n",
    "final_parcel_df.loc[final_parcel_df['COUNTY_NAME'] == 'Weber', 'COUNTY_ID'] = '57'\n",
    "\n",
    "# add type column\n",
    "final_parcel_df.loc[(final_parcel_df['building_type_id']==0), 'TYPE'] = 'Empty Buildable'\n",
    "final_parcel_df.loc[(final_parcel_df['building_type_id']==1), 'TYPE'] = 'Single Family Res'\n",
    "final_parcel_df.loc[(final_parcel_df['building_type_id']==2), 'TYPE'] = 'Multi Family Res'\n",
    "final_parcel_df.loc[(final_parcel_df['building_type_id']==3), 'TYPE'] = 'Industrial'\n",
    "final_parcel_df.loc[(final_parcel_df['building_type_id']==4), 'TYPE'] = 'Retail'\n",
    "final_parcel_df.loc[(final_parcel_df['building_type_id']==5), 'TYPE'] = 'Office'\n",
    "final_parcel_df.loc[(final_parcel_df['building_type_id']==6), 'TYPE'] = 'Governmental'\n",
    "final_parcel_df.loc[(final_parcel_df['building_type_id']==7), 'TYPE'] = 'Mixed Use'\n",
    "final_parcel_df.loc[(final_parcel_df['building_type_id']==8), 'TYPE'] = 'Other'\n",
    "final_parcel_df.loc[(final_parcel_df['building_type_id']==9), 'TYPE'] = 'Educational'\n",
    "final_parcel_df.loc[(final_parcel_df['building_type_id']==10), 'TYPE'] = 'Church'\n",
    "final_parcel_df.loc[(final_parcel_df['building_type_id']==11), 'TYPE'] = 'Group Quarters'\n",
    "final_parcel_df.loc[(final_parcel_df['building_type_id']==12), 'TYPE'] = 'Commons'\n",
    "final_parcel_df.loc[(final_parcel_df['building_type_id']==13), 'TYPE'] = 'Healthcare'\n",
    "final_parcel_df.loc[(final_parcel_df['building_type_id']==14), 'TYPE'] = 'Open Space Non-Buildable'\n",
    "final_parcel_df.loc[(final_parcel_df['building_type_id']==15), 'TYPE'] = 'Agriculture'\n",
    "final_parcel_df.loc[(final_parcel_df['building_type_id']==16), 'TYPE'] = 'Utilities'\n",
    "final_parcel_df.loc[(final_parcel_df['building_type_id']==99), 'TYPE'] = 'No Build'\n",
    "\n",
    "# final_parcel_df['BLT_DECADE'] = 'NA'\n",
    "# final_parcel_df.loc[(final_parcel_df['BUILT_YR'] >= 1840) & (final_parcel_df['BUILT_YR'] < 1850), 'BLT_DECADE'] = \"1840's\"\n",
    "# final_parcel_df.loc[(final_parcel_df['BUILT_YR'] >= 1850) & (final_parcel_df['BUILT_YR'] < 1860), 'BLT_DECADE'] = \"1850's\"\n",
    "# final_parcel_df.loc[(final_parcel_df['BUILT_YR'] >= 1860) & (final_parcel_df['BUILT_YR'] < 1870), 'BLT_DECADE'] = \"1860's\"\n",
    "# final_parcel_df.loc[(final_parcel_df['BUILT_YR'] >= 1870) & (final_parcel_df['BUILT_YR'] < 1880), 'BLT_DECADE'] = \"1870's\"\n",
    "# final_parcel_df.loc[(final_parcel_df['BUILT_YR'] >= 1880) & (final_parcel_df['BUILT_YR'] < 1890), 'BLT_DECADE'] = \"1880's\"\n",
    "# final_parcel_df.loc[(final_parcel_df['BUILT_YR'] >= 1890) & (final_parcel_df['BUILT_YR'] < 1900), 'BLT_DECADE'] = \"1890's\"\n",
    "# final_parcel_df.loc[(final_parcel_df['BUILT_YR'] >= 1900) & (final_parcel_df['BUILT_YR'] < 1910), 'BLT_DECADE'] = \"1900's\"\n",
    "# final_parcel_df.loc[(final_parcel_df['BUILT_YR'] >= 1910) & (final_parcel_df['BUILT_YR'] < 1920), 'BLT_DECADE'] = \"1910's\"\n",
    "# final_parcel_df.loc[(final_parcel_df['BUILT_YR'] >= 1920) & (final_parcel_df['BUILT_YR'] < 1930), 'BLT_DECADE'] = \"1920's\"\n",
    "# final_parcel_df.loc[(final_parcel_df['BUILT_YR'] >= 1930) & (final_parcel_df['BUILT_YR'] < 1940), 'BLT_DECADE'] = \"1930's\"\n",
    "# final_parcel_df.loc[(final_parcel_df['BUILT_YR'] >= 1940) & (final_parcel_df['BUILT_YR'] < 1950), 'BLT_DECADE'] = \"1940's\"\n",
    "# final_parcel_df.loc[(final_parcel_df['BUILT_YR'] >= 1950) & (final_parcel_df['BUILT_YR'] < 1960), 'BLT_DECADE'] = \"1950's\"\n",
    "# final_parcel_df.loc[(final_parcel_df['BUILT_YR'] >= 1960) & (final_parcel_df['BUILT_YR'] < 1970), 'BLT_DECADE'] = \"1960's\"\n",
    "# final_parcel_df.loc[(final_parcel_df['BUILT_YR'] >= 1970) & (final_parcel_df['BUILT_YR'] < 1980), 'BLT_DECADE'] = \"1970's\"\n",
    "# final_parcel_df.loc[(final_parcel_df['BUILT_YR'] >= 1980) & (final_parcel_df['BUILT_YR'] < 1990), 'BLT_DECADE'] = \"1980's\"\n",
    "# final_parcel_df.loc[(final_parcel_df['BUILT_YR'] >= 1990) & (final_parcel_df['BUILT_YR'] < 2000), 'BLT_DECADE'] = \"1990's\"\n",
    "# final_parcel_df.loc[(final_parcel_df['BUILT_YR'] >= 2000) & (final_parcel_df['BUILT_YR'] < 2010), 'BLT_DECADE'] = \"2000's\"\n",
    "# final_parcel_df.loc[(final_parcel_df['BUILT_YR'] >= 2010) & (final_parcel_df['BUILT_YR'] < 2020), 'BLT_DECADE'] = \"2010's\"\n",
    "# final_parcel_df.loc[(final_parcel_df['BUILT_YR'] >= 2020) & (final_parcel_df['BUILT_YR'] < 2030), 'BLT_DECADE'] = \"2020's\"\n",
    "\n",
    "# make fields REMM compatible\n",
    "final_parcel_df = final_parcel_df.rename(columns={\"LAND_MKT_VALUE\": \"land_value\"})\n",
    "final_parcel_df.loc[(final_parcel_df['building_type_id'].isin([1,2])), 'residential_price'] = final_parcel_df['TOTAL_MKT_VALUE']\n",
    "final_parcel_df.loc[~(final_parcel_df['building_type_id'].isin([1,2])), 'non_residential_price'] = final_parcel_df['TOTAL_MKT_VALUE']\n",
    "final_parcel_df = final_parcel_df.rename(columns={\"COUNTY_NAME\": \"CO_NAME\"})\n",
    "final_parcel_df = final_parcel_df.rename(columns={\"BLDG_SQFT\": \"building_sqft\"})\n",
    "final_parcel_df.loc[~(final_parcel_df['building_type_id'].isin([1,2])), 'non_residential_sqft'] = final_parcel_df['building_sqft']\n",
    "final_parcel_df = final_parcel_df.rename(columns={\"UNIT_COUNT\": \"residential_units\"})\n",
    "final_parcel_df = final_parcel_df.rename(columns={\"BUILT_YR\": \"year_built\"})\n",
    "final_parcel_df = final_parcel_df.rename(columns={\"PARCEL_ACRES\": \"parcel_acres\"})\n",
    "final_parcel_df = final_parcel_df.rename(columns={\"TYPE\": \"building_type\"})\n",
    "final_parcel_df = final_parcel_df.rename(columns={\"parcel_id_remm\": \"parcel_id_REMM\"})"
   ]
  },
  {
   "cell_type": "code",
   "execution_count": 32,
   "metadata": {},
   "outputs": [
    {
     "data": {
      "text/plain": [
       "'e:\\\\Projects\\\\REMM-Input-Data-Prep-2019\\\\Parcels\\\\2020-WFRC\\\\Outputs\\\\remm_base_year_2019.gdb\\\\parcels_2019'"
      ]
     },
     "execution_count": 32,
     "metadata": {},
     "output_type": "execute_result"
    }
   ],
   "source": [
    "# final export\n",
    "final_parcel_df.spatial.to_featureclass(location=os.path.join(gdb2,'parcels_2019'), sanitize_columns=False)\n"
   ]
  },
  {
   "cell_type": "code",
   "execution_count": 33,
   "metadata": {},
   "outputs": [],
   "source": [
    "# import subprocess\n",
    "os.startfile(r\".\\Review.aprx\")"
   ]
  }
 ],
 "metadata": {
  "kernelspec": {
   "display_name": "Clone",
   "language": "python",
   "name": "clone"
  },
  "varInspector": {
   "cols": {
    "lenName": 16,
    "lenType": 16,
    "lenVar": 40
   },
   "kernels_config": {
    "python": {
     "delete_cmd_postfix": "",
     "delete_cmd_prefix": "del ",
     "library": "var_list.py",
     "varRefreshCmd": "print(var_dic_list())"
    },
    "r": {
     "delete_cmd_postfix": ") ",
     "delete_cmd_prefix": "rm(",
     "library": "var_list.r",
     "varRefreshCmd": "cat(var_dic_list()) "
    }
   },
   "types_to_exclude": [
    "module",
    "function",
    "builtin_function_or_method",
    "instance",
    "_Feature"
   ],
   "window_display": false
  }
 },
 "nbformat": 4,
 "nbformat_minor": 4
}
