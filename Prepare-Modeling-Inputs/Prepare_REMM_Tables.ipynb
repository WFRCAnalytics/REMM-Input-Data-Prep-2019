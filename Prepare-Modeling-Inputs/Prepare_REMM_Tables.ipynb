{
 "cells": [
  {
   "cell_type": "code",
   "execution_count": 2,
   "metadata": {},
   "outputs": [],
   "source": [
    "import arcpy\n",
    "from arcpy import env\n",
    "import os\n",
    "from arcgis import GIS\n",
    "from arcgis.features import GeoAccessor\n",
    "import pandas as pd\n",
    "import numpy as np\n",
    "\n",
    "arcpy.env.overwriteOutput = True\n",
    "arcpy.env.parallelProcessingFactor = \"90%\"\n",
    "\n",
    "# show all columns\n",
    "pd.options.display.max_columns = None\n",
    "\n",
    "# pd.DataFrame.spatial.from_featureclass(???)\n",
    "# df.spatial.to_featureclass(location=???,sanitize_columns=False)"
   ]
  },
  {
   "cell_type": "code",
   "execution_count": 3,
   "metadata": {},
   "outputs": [],
   "source": [
    "# Inputs\n",
    "parcels = r\".\\Inputs\\remm_base_year_2019.gdb\\parcels_2019\"\n",
    "parcels_sdf = pd.DataFrame.spatial.from_featureclass(parcels)\n",
    "job_spaces = pd.read_csv(r\".\\Inputs\\Job_Spaces_by_Parcel.csv\")"
   ]
  },
  {
   "cell_type": "code",
   "execution_count": 4,
   "metadata": {},
   "outputs": [
    {
     "data": {
      "text/plain": [
       "Index(['OBJECTID', 'parcel_id_REMM', 'CO_NAME', 'TAZID', 'COUNTY_ID',\n",
       "       'PARCEL_ID', 'TOTAL_MKT_VALUE', 'land_value', 'residential_units',\n",
       "       'building_sqft', 'FLOORS_CNT', 'year_built', 'EFFBUILT_YR', 'IS_OUG',\n",
       "       'max_height', 'type1', 'type2', 'type3', 'type4', 'type5', 'type6',\n",
       "       'type7', 'type8', 'agriculture', 'basebldg', 'NoBuild',\n",
       "       'redev_friction', 'building_type_id', 'x', 'y', 'parcel_acres', 'Split',\n",
       "       'Split_Factor', 'parcel_id_REMM_old', 'building_type',\n",
       "       'residential_price', 'non_residential_price', 'non_residential_sqft',\n",
       "       'TAZID_832', 'TAZID_900', 'max_dua', 'max_far', 'SHAPE'],\n",
       "      dtype='object')"
      ]
     },
     "execution_count": 4,
     "metadata": {},
     "output_type": "execute_result"
    }
   ],
   "source": [
    "parcels_sdf.columns"
   ]
  },
  {
   "cell_type": "markdown",
   "metadata": {},
   "source": [
    "## agriculture"
   ]
  },
  {
   "cell_type": "code",
   "execution_count": 5,
   "metadata": {},
   "outputs": [],
   "source": [
    "ag_parcels = parcels_sdf[parcels_sdf['agriculture']==1]\n",
    "ag_parcels = ag_parcels[['parcel_id_REMM','agriculture']].copy()\n",
    "ag_parcels.columns = ['parcel_id','Agriculture']\n",
    "ag_parcels.to_csv(r'.\\Outputs\\agriculture.csv', index=False)"
   ]
  },
  {
   "cell_type": "markdown",
   "metadata": {},
   "source": [
    "## zoning_baseline"
   ]
  },
  {
   "cell_type": "code",
   "execution_count": 6,
   "metadata": {},
   "outputs": [],
   "source": [
    "zb = parcels_sdf[['parcel_id_REMM', 'max_dua', 'max_far', 'max_height', 'type1', 'type2', 'type3', 'type4', 'type5', 'type6', 'type7', 'type8']].copy()\n",
    "zb['max_height'] = 999\n",
    "zb.columns = ['parcel_id', 'max_dua', 'max_far', 'max_height', 'type1', 'type2', 'type3', 'type4', 'type5', 'type6', 'type7', 'type8']\n",
    "\n",
    "# set res types allowed to false if no max dua is present - may not be necessary\n",
    "zb.loc[(zb['max_dua'].isna()) |  (zb['max_dua']==0), 'type1'] = 'f'\n",
    "zb.loc[(zb['max_dua'].isna()) |  (zb['max_dua']==0), 'type2'] = 'f'\n",
    "\n",
    "# set non res types allowed to false if no max far is present - may not be necessary\n",
    "zb.loc[(zb['max_far'].isna()) |  (zb['max_far']==0), 'type3'] = 'f'\n",
    "zb.loc[(zb['max_far'].isna()) |  (zb['max_far']==0), 'type4'] = 'f'\n",
    "zb.loc[(zb['max_far'].isna()) |  (zb['max_far']==0), 'type5'] = 'f'\n",
    "zb.loc[(zb['max_far'].isna()) |  (zb['max_far']==0), 'type6'] = 'f'\n",
    "zb.loc[(zb['max_far'].isna()) |  (zb['max_far']==0), 'type7'] = 'f'\n",
    "zb.loc[(zb['max_far'].isna()) |  (zb['max_far']==0), 'type8'] = 'f'\n",
    "\n",
    "zb.to_csv(r'.\\Outputs\\zoning_baseline.csv', index=False)"
   ]
  },
  {
   "cell_type": "markdown",
   "metadata": {},
   "source": [
    "## Buildings"
   ]
  },
  {
   "cell_type": "code",
   "execution_count": 11,
   "metadata": {},
   "outputs": [],
   "source": [
    "parcels_sdf.loc[(parcels_sdf['building_type_id'].isin([1,2])), 'residential_price'] = parcels_sdf['TOTAL_MKT_VALUE'] - parcels_sdf['land_value']\n",
    "parcels_sdf.loc[~(parcels_sdf['building_type_id'].isin([1,2])), 'non_residential_price'] = parcels_sdf['TOTAL_MKT_VALUE'] - parcels_sdf['land_value']\n",
    "parcels_sdf.loc[~(parcels_sdf['building_type_id'].isin([1,2])), 'non_residential_sqft'] = parcels_sdf['building_sqft']\n",
    "\n",
    "buildings = parcels_sdf[[ 'parcel_id_REMM', 'building_sqft','building_type_id','non_residential_sqft', 'FLOORS_CNT','residential_units', 'year_built', 'TOTAL_MKT_VALUE','residential_price']] \n",
    "buildings = buildings.merge(job_spaces, left_on='parcel_id_REMM',right_on='parcel_id_REMM', how = 'left')\n",
    "buildings['note'] = 'base'\n",
    "buildings['res_price_per_sqft'] = buildings['residential_price'] / buildings['building_sqft']\n",
    "buildings['unit_price_non_residential'] = np.nan\n",
    "buildings['building_id'] = buildings['parcel_id_REMM']\n",
    "buildings['FLOORS_CNT'].fillna(1, inplace=True)\n",
    "buildings['FLOORS_CNT'] = buildings['FLOORS_CNT'].round(0)\n",
    "buildings = buildings[['building_id','building_sqft','building_type_id','non_residential_sqft','note',\n",
    "                       'parcel_id_REMM','residential_units','FLOORS_CNT','unit_price_non_residential','year_built',\n",
    "                       'res_price_per_sqft','job_spaces']].copy()\n",
    "\n",
    "buildings.columns = ['building_id','building_sqft','building_type_id','non_residential_sqft','note',\n",
    "                     'parcel_id','residential_units','stories',\t'unit_price_non_residential','year_built',\n",
    "                     'res_price_per_sqft','job_spaces']"
   ]
  },
  {
   "cell_type": "code",
   "execution_count": 12,
   "metadata": {},
   "outputs": [
    {
     "data": {
      "text/plain": [
       "Index(['building_id', 'building_sqft', 'building_type_id',\n",
       "       'non_residential_sqft', 'note', 'parcel_id', 'residential_units',\n",
       "       'stories', 'unit_price_non_residential', 'year_built',\n",
       "       'res_price_per_sqft', 'job_spaces'],\n",
       "      dtype='object')"
      ]
     },
     "execution_count": 12,
     "metadata": {},
     "output_type": "execute_result"
    }
   ],
   "source": [
    "buildings_lu = {0:None,\n",
    "                1:1,\n",
    "                2:2,\n",
    "                3:3,\n",
    "                4:4,\n",
    "                5:5,\n",
    "                6:6,\n",
    "                7:7,\n",
    "                8:8,\n",
    "                9:6, \n",
    "                10:8,\n",
    "                11:8,\n",
    "                12:None,\n",
    "                13:5,\n",
    "                14:None,\n",
    "                15:None,\n",
    "                16:None,\n",
    "                99:None}\n",
    "\n",
    "# remap building types\n",
    "buildings['building_type_id'] = buildings['building_type_id'].map(buildings_lu)\n",
    "\n",
    "######################################\n",
    "# fill in some fake square footag and years (comment out later)\n",
    "######################################\n",
    "\n",
    "# buildings.loc[(buildings['year_built'].isna() ==True) | (buildings['year_built'] == 0), 'year_built'] =  np.random.randint(1900, 2019, buildings[(buildings['year_built'].isna() ==True) | (buildings['year_built'] == 0)].shape[0])\n",
    "\n",
    "# buildings.loc[((buildings['building_sqft'].isna() ==True) | (buildings['building_sqft'] == 0)) & (buildings['building_type_id'] == 3), \n",
    "#               'building_sqft'] =  np.random.randint(10000, 200000, buildings[((buildings['building_sqft'].isna() ==True) | (buildings['building_sqft'] == 0)) & (buildings['building_type_id'] == 3)].shape[0])\n",
    "\n",
    "# buildings.loc[((buildings['building_sqft'].isna() ==True) | (buildings['building_sqft'] == 0)) & (buildings['building_type_id'] != 3), \n",
    "#               'building_sqft'] =  np.random.randint(1400, 14000, buildings[((buildings['building_sqft'].isna() ==True) | (buildings['building_sqft'] == 0)) & (buildings['building_type_id'] != 3)].shape[0])\n",
    "\n",
    "# buildings.loc[((buildings['non_residential_sqft'].isna() ==True) | (buildings['non_residential_sqft'] == 0)) & (buildings['building_type_id'].isin([1,2]) == False), \n",
    "#               'non_residential_sqft'] = buildings['building_sqft']\n",
    "\n",
    "# buildings.loc[((buildings['non_residential_sqft'].isna() ==True) | (buildings['non_residential_sqft'] == 0)) & (buildings['building_type_id'].isin([1,2]) == True), \n",
    "#               'non_residential_sqft'] = 0\n",
    "\n",
    "# buildings.loc[(buildings['residential_units'].isna() ==True), \n",
    "#               'residential_units'] =  0\n",
    "\n",
    "# buildings.loc[(buildings['unit_price_non_residential'].isna() ==True), \n",
    "#               'unit_price_non_residential'] =  0\n",
    "\n",
    "# mean = buildings['res_price_per_sqft'].mean()\n",
    "# buildings.loc[((buildings['res_price_per_sqft'].isna() ==True) | (buildings['res_price_per_sqft'] == 0)) & (buildings['building_type_id'].isin([1,2]) == True), \n",
    "#               'res_price_per_sqft'] = mean\n",
    "              \n",
    "# buildings.loc[((buildings['res_price_per_sqft'].isna() ==True) | (buildings['res_price_per_sqft'] == 0)) & (buildings['building_type_id'].isin([1,2]) == False), \n",
    "#               'res_price_per_sqft'] = 0\n",
    "\n",
    "##################################################################              \n",
    "\n",
    "buildings.replace([np.inf, -np.inf], 0, inplace=True)\n",
    "\n",
    "\n",
    "\n",
    "\n",
    "# subset to buildings with a building type and year_built\n",
    "buildings = buildings[(buildings['building_type_id'] >= 1) & buildings['year_built'] > 0)]\n",
    "buildings.columns"
   ]
  },
  {
   "cell_type": "code",
   "execution_count": 9,
   "metadata": {},
   "outputs": [],
   "source": [
    "buildings.to_csv(r'.\\Outputs\\buildings_20220513.csv', index=False)"
   ]
  }
 ],
 "metadata": {
  "interpreter": {
   "hash": "d657bb250ec970b20532561b3a87d14bbf82ce653c71023131e868b5848d28d1"
  },
  "kernelspec": {
   "display_name": "Clone",
   "language": "python",
   "name": "clone"
  },
  "language_info": {
   "codemirror_mode": {
    "name": "ipython",
    "version": 3
   },
   "file_extension": ".py",
   "mimetype": "text/x-python",
   "name": "python",
   "nbconvert_exporter": "python",
   "pygments_lexer": "ipython3",
   "version": "3.7.11"
  },
  "varInspector": {
   "cols": {
    "lenName": 16,
    "lenType": 16,
    "lenVar": 40
   },
   "kernels_config": {
    "python": {
     "delete_cmd_postfix": "",
     "delete_cmd_prefix": "del ",
     "library": "var_list.py",
     "varRefreshCmd": "print(var_dic_list())"
    },
    "r": {
     "delete_cmd_postfix": ") ",
     "delete_cmd_prefix": "rm(",
     "library": "var_list.r",
     "varRefreshCmd": "cat(var_dic_list()) "
    }
   },
   "types_to_exclude": [
    "module",
    "function",
    "builtin_function_or_method",
    "instance",
    "_Feature"
   ],
   "window_display": false
  }
 },
 "nbformat": 4,
 "nbformat_minor": 4
}
