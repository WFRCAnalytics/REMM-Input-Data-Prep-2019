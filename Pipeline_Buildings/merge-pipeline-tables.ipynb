{
 "cells": [
  {
   "cell_type": "code",
   "execution_count": 25,
   "metadata": {},
   "outputs": [],
   "source": [
    "import arcpy\n",
    "from arcpy import env\n",
    "import os\n",
    "from arcgis import GIS\n",
    "from arcgis.features import GeoAccessor\n",
    "import pandas as pd\n",
    "\n",
    "arcpy.env.overwriteOutput = True\n",
    "arcpy.env.parallelProcessingFactor = \"90%\"\n",
    "\n",
    "# show all columns\n",
    "pd.options.display.max_columns = None\n",
    "\n",
    "# pd.DataFrame.spatial.from_featureclass(???)\n",
    "# df.spatial.to_featureclass(location=???,sanitize_columns=False)"
   ]
  },
  {
   "cell_type": "code",
   "execution_count": 26,
   "metadata": {},
   "outputs": [],
   "source": [
    "if not os.path.exists('Outputs'):\n",
    "    os.makedirs('Outputs')\n",
    "    \n",
    "outputs = ['.\\\\Outputs', \"scratch.gdb\", 'results.gdb']\n",
    "gdb = os.path.join(outputs[0], outputs[1])\n",
    "gdb2 = os.path.join(outputs[0], outputs[2])\n",
    "\n",
    "if not arcpy.Exists(gdb):\n",
    "    arcpy.CreateFileGDB_management(outputs[0], outputs[1])\n",
    "\n",
    "if not arcpy.Exists(gdb2):\n",
    "    arcpy.CreateFileGDB_management(outputs[0], outputs[2])"
   ]
  },
  {
   "cell_type": "code",
   "execution_count": 27,
   "metadata": {},
   "outputs": [],
   "source": [
    "db = pd.read_csv(r\"E:\\Tasks\\Pipeline\\Outputs\\daybreak_urban_core_pipeline.csv\")\n",
    "potm = pd.read_csv(r\"E:\\Tasks\\Pipeline\\Outputs\\point_of_the_mountain_pipeline.csv\")\n",
    "dem_res = pd.read_csv(r\"E:\\Tasks\\Pipeline\\Outputs\\demolition_residential.csv\")\n",
    "dem_nonres = pd.read_csv(r\"E:\\Tasks\\Pipeline\\Outputs\\demolition_non_residential.csv\")\n",
    "dev_mf = pd.read_csv(r\"E:\\Tasks\\Pipeline\\Outputs\\develop_multifamily_vacant.csv\")\n",
    "dev_sf = pd.read_csv(r\"E:\\Tasks\\Pipeline\\Outputs\\develop_single_family_vacant.csv\")"
   ]
  },
  {
   "cell_type": "code",
   "execution_count": 28,
   "metadata": {},
   "outputs": [],
   "source": [
    "dataframes = [db, potm, dem_res,dem_nonres, dev_mf, dev_sf]\n",
    "pipeline = pd.concat(dataframes)"
   ]
  },
  {
   "cell_type": "code",
   "execution_count": 29,
   "metadata": {},
   "outputs": [
    {
     "data": {
      "text/plain": [
       "35183     26\n",
       "756000     4\n",
       "756044     4\n",
       "756002     4\n",
       "69522      4\n",
       "          ..\n",
       "505698     1\n",
       "499565     1\n",
       "594405     1\n",
       "623598     1\n",
       "500762     1\n",
       "Name: parcel_id, Length: 1408, dtype: int64"
      ]
     },
     "execution_count": 29,
     "metadata": {},
     "output_type": "execute_result"
    }
   ],
   "source": [
    "pipeline['parcel_id'].value_counts()"
   ]
  },
  {
   "cell_type": "code",
   "execution_count": 30,
   "metadata": {},
   "outputs": [],
   "source": [
    "pipeline = pipeline.fillna(0)\n",
    "pipeline.to_csv(os.path.join(outputs[0], 'pipeline_buildings.csv'),index=False)"
   ]
  }
 ],
 "metadata": {
  "interpreter": {
   "hash": "3245673af07dcc28bdd829afb187282e9288a1f8195a5928b70ecba6e5973721"
  },
  "kernelspec": {
   "display_name": "Python 3.7.11",
   "language": "python",
   "name": "python3"
  },
  "language_info": {
   "codemirror_mode": {
    "name": "ipython",
    "version": 3
   },
   "file_extension": ".py",
   "mimetype": "text/x-python",
   "name": "python",
   "nbconvert_exporter": "python",
   "pygments_lexer": "ipython3",
   "version": "3.7.11"
  },
  "orig_nbformat": 4
 },
 "nbformat": 4,
 "nbformat_minor": 2
}
