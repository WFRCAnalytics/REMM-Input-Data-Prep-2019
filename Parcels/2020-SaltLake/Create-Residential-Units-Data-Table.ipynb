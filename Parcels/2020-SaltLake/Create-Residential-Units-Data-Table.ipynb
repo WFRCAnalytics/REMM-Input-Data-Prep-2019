{
 "cells": [
  {
   "cell_type": "code",
   "execution_count": 1,
   "metadata": {},
   "outputs": [],
   "source": [
    "import arcpy\n",
    "import os\n",
    "import pandas as pd\n",
    "from arcgis import GIS\n",
    "import numpy as np\n",
    "from arcgis.features import GeoAccessor, GeoSeriesAccessor\n",
    "arcpy.env.overwriteOutput = True\n",
    "\n",
    "# show all columns\n",
    "pd.options.display.max_columns = None"
   ]
  },
  {
   "cell_type": "code",
   "execution_count": 5,
   "metadata": {},
   "outputs": [],
   "source": [
    "# store directories\n",
    "inputs = '.\\\\Outputs\\\\saltlake.gdb'\n",
    "outputs = '.\\\\Post_Processing'"
   ]
  },
  {
   "cell_type": "code",
   "execution_count": 6,
   "metadata": {},
   "outputs": [],
   "source": [
    "# store residential dataset paths\n",
    "sf = os.path.join(inputs, '_02_single_family')\n",
    "sf_adu = os.path.join(inputs, '_02_single_family_adu')\n",
    "duplex = os.path.join(inputs, '_02_duplex')\n",
    "pud = os.path.join(inputs, '_02_pud')\n",
    "condo = os.path.join(inputs, '_02_condo')\n",
    "mobile_home_parks = os.path.join(inputs, '_02_mobile_home_park')\n",
    "low_income_housing = os.path.join(inputs, '_02_LowIncomeApts')\n",
    "apartments = os.path.join(inputs, '_02_apartment')"
   ]
  },
  {
   "cell_type": "code",
   "execution_count": 7,
   "metadata": {},
   "outputs": [
    {
     "data": {
      "text/html": [
       "<h2>Output</h2>.\\Outputs\\saltlake.gdb\\_02_mobile_home_park<h2>Messages</h2>Start Time: Wednesday, March 3, 2021 9:51:13 PM<br/>Succeeded at Wednesday, March 3, 2021 9:51:13 PM (Elapsed Time: 0.12 seconds)<br/><style>.rendered_html td, .rendered_html th {text-align: left;}.rendered_html tbody {border: 1px solid black;}</style>"
      ],
      "text/plain": [
       "<Result '.\\\\Outputs\\\\saltlake.gdb\\\\_02_mobile_home_park'>"
      ]
     },
     "execution_count": 7,
     "metadata": {},
     "output_type": "execute_result"
    }
   ],
   "source": [
    "# update the subtype_wfrc field\n",
    "arcpy.CalculateField_management(sf, field='SUBTYPE_WFRC', expression=\"'single_family'\", expression_type=\"PYTHON3\")\n",
    "arcpy.CalculateField_management(sf_adu, field='SUBTYPE_WFRC', expression=\"'single_family'\", expression_type=\"PYTHON3\")\n",
    "arcpy.CalculateField_management(duplex, field='SUBTYPE_WFRC', expression=\"'duplex'\", expression_type=\"PYTHON3\")\n",
    "arcpy.CalculateField_management(apartments, field='SUBTYPE_WFRC', expression=\"'apartment'\", expression_type=\"PYTHON3\")\n",
    "arcpy.CalculateField_management(low_income_housing, field='SUBTYPE_WFRC', expression=\"'apartment_low_income'\", expression_type=\"PYTHON3\")\n",
    "arcpy.CalculateField_management(mobile_home_parks, field='SUBTYPE_WFRC', expression=\"'mobile_home'\", expression_type=\"PYTHON3\")"
   ]
  },
  {
   "cell_type": "markdown",
   "metadata": {},
   "source": [
    "#### load feature classes into spatial dataframes"
   ]
  },
  {
   "cell_type": "code",
   "execution_count": 8,
   "metadata": {},
   "outputs": [],
   "source": [
    "sf_df = pd.DataFrame.spatial.from_featureclass(sf)\n",
    "duplex_df = pd.DataFrame.spatial.from_featureclass(duplex)\n",
    "sf_adu_df = pd.DataFrame.spatial.from_featureclass(sf_adu)\n",
    "\n",
    "mobile_home_parks_df = pd.DataFrame.spatial.from_featureclass(mobile_home_parks)\n",
    "low_income_housing_df = pd.DataFrame.spatial.from_featureclass(low_income_housing)\n",
    "apartments_df = pd.DataFrame.spatial.from_featureclass(apartments)\n",
    "\n",
    "pud_df = pd.DataFrame.spatial.from_featureclass(pud)\n",
    "condo_df = pd.DataFrame.spatial.from_featureclass(condo)"
   ]
  },
  {
   "cell_type": "code",
   "execution_count": 9,
   "metadata": {},
   "outputs": [],
   "source": [
    "# Create crosswalk dictionary\n",
    "crosswalk = {'CO':'condo', 'SF':'single_family', 'TH':'townhouse', 'DP':'duplex', 'MX':'mixed'}\n",
    "pud_df['SUBTYPE_WFRC'] = pud_df['SUBTYPE_WFRC'].map(crosswalk)\n",
    "condo_df['SUBTYPE_WFRC'] = condo_df['SUBTYPE_WFRC'].map(crosswalk)"
   ]
  },
  {
   "cell_type": "markdown",
   "metadata": {},
   "source": [
    "#### format tables so that they are stackable"
   ]
  },
  {
   "cell_type": "code",
   "execution_count": 10,
   "metadata": {},
   "outputs": [],
   "source": [
    "# sf\n",
    "sf_df = sf_df[['TOTAL_MKT_VALUE', 'LAND_MKT_VALUE', 'PARCEL_ACRES', 'HOUSE_CNT', 'BLDG_SQFT', 'BUILT_YR', 'EFFBUILT_YR', \n",
    "               'TYPE_WFRC', 'SUBTYPE_WFRC' ]].copy()\n",
    "sf_df['ap_count'] = 1\n",
    "sf_df['parcel_count'] = 1\n",
    "\n",
    "\n",
    "# sf_adu\n",
    "sf_adu_df = sf_adu_df[['TOTAL_MKT_VALUE', 'LAND_MKT_VALUE', 'PARCEL_ACRES', 'HOUSE_CNT', 'BLDG_SQFT', 'BUILT_YR', 'EFFBUILT_YR', \n",
    "                       'TYPE_WFRC', 'SUBTYPE_WFRC' ]].copy()\n",
    "sf_adu_df['ap_count'] = 1\n",
    "sf_adu_df['parcel_count'] = 1\n",
    "\n",
    "\n",
    "# duplex\n",
    "duplex_df = duplex_df[['TOTAL_MKT_VALUE', 'LAND_MKT_VALUE', 'PARCEL_ACRES', 'HOUSE_CNT', 'BLDG_SQFT', 'BUILT_YR', 'EFFBUILT_YR', \n",
    "                       'TYPE_WFRC', 'SUBTYPE_WFRC' ]].copy()\n",
    "duplex_df['ap_count'] = 2\n",
    "duplex_df['parcel_count'] = 1\n",
    "\n",
    "# mobile_home_parks\n",
    "mobile_home_parks_df = mobile_home_parks_df[['TOTAL_MKT_VALUE', 'LAND_MKT_VALUE', 'PARCEL_ACRES', 'HOUSE_CNT', 'BLDG_SQFT', \n",
    "                                             'BUILT_YR', 'EFFBUILT_YR','TYPE_WFRC', 'SUBTYPE_WFRC', \n",
    "                                             'ap_count' ]].copy()\n",
    "mobile_home_parks_df['parcel_count'] = 0 # should run spatial join to get actual parcel count later\n",
    "\n",
    "# low_income_housing\n",
    "low_income_housing_df = low_income_housing_df[['TOTAL_MKT_VALUE', 'LAND_MKT_VALUE', 'PARCEL_ACRES', 'HOUSE_CNT', 'BLDG_SQFT', \n",
    "                                               'BUILT_YR', 'EFFBUILT_YR', 'TYPE_WFRC', 'SUBTYPE_WFRC', \n",
    "                                               'ap_count' ]].copy()\n",
    "low_income_housing_df['parcel_count'] = 0 # should run spatial join to get actual parcel count later\n",
    "\n",
    "# apartments\n",
    "apartments_df = apartments_df[['TOTAL_MKT_VALUE', 'LAND_MKT_VALUE', 'PARCEL_ACRES', 'HOUSE_CNT', 'BLDG_SQFT', 'BUILT_YR', \n",
    "                               'EFFBUILT_YR','TYPE_WFRC', 'SUBTYPE_WFRC', 'ap_count' ]].copy()\n",
    "apartments_df['parcel_count'] = 0 # should run spatial join to get actual parcel count later\n",
    "\n",
    "# pud\n",
    "pud_df = pud_df[['TOTAL_MKT_VALUE', 'LAND_MKT_VALUE', 'PARCEL_ACRES', 'HOUSE_CNT', 'BLDG_SQFT', 'BUILT_YR', 'EFFBUILT_YR', \n",
    "               'TYPE_WFRC', 'SUBTYPE_WFRC', 'ap_count','parcel_count']].copy()\n",
    "# condo\n",
    "condo_df = condo_df[['TOTAL_MKT_VALUE', 'LAND_MKT_VALUE', 'PARCEL_ACRES', 'HOUSE_CNT', 'BLDG_SQFT', 'BUILT_YR', 'EFFBUILT_YR', \n",
    "               'TYPE_WFRC', 'SUBTYPE_WFRC', 'ap_count','parcel_count']].copy()"
   ]
  },
  {
   "cell_type": "markdown",
   "metadata": {},
   "source": [
    "#### stack em"
   ]
  },
  {
   "cell_type": "code",
   "execution_count": 12,
   "metadata": {},
   "outputs": [],
   "source": [
    "frames = [sf_df, sf_adu_df, duplex_df, mobile_home_parks_df, low_income_housing_df, apartments_df, pud_df, condo_df]\n",
    "residential = pd.concat(frames)\n",
    "\n",
    "# calculate the decade\n",
    "residential['BUILT_DECADE'] = 'NA'\n",
    "residential.loc[(residential['BUILT_YR'] >= 1840) & (residential['BUILT_YR'] < 1850), 'BUILT_DECADE'] = \"1840's\"\n",
    "residential.loc[(residential['BUILT_YR'] >= 1850) & (residential['BUILT_YR'] < 1860), 'BUILT_DECADE'] = \"1850's\"\n",
    "residential.loc[(residential['BUILT_YR'] >= 1860) & (residential['BUILT_YR'] < 1870), 'BUILT_DECADE'] = \"1860's\"\n",
    "residential.loc[(residential['BUILT_YR'] >= 1870) & (residential['BUILT_YR'] < 1880), 'BUILT_DECADE'] = \"1870's\"\n",
    "residential.loc[(residential['BUILT_YR'] >= 1880) & (residential['BUILT_YR'] < 1890), 'BUILT_DECADE'] = \"1880's\"\n",
    "residential.loc[(residential['BUILT_YR'] >= 1890) & (residential['BUILT_YR'] < 1900), 'BUILT_DECADE'] = \"1890's\"\n",
    "residential.loc[(residential['BUILT_YR'] >= 1900) & (residential['BUILT_YR'] < 1910), 'BUILT_DECADE'] = \"1900's\"\n",
    "residential.loc[(residential['BUILT_YR'] >= 1910) & (residential['BUILT_YR'] < 1920), 'BUILT_DECADE'] = \"1910's\"\n",
    "residential.loc[(residential['BUILT_YR'] >= 1920) & (residential['BUILT_YR'] < 1930), 'BUILT_DECADE'] = \"1920's\"\n",
    "residential.loc[(residential['BUILT_YR'] >= 1930) & (residential['BUILT_YR'] < 1940), 'BUILT_DECADE'] = \"1930's\"\n",
    "residential.loc[(residential['BUILT_YR'] >= 1940) & (residential['BUILT_YR'] < 1950), 'BUILT_DECADE'] = \"1940's\"\n",
    "residential.loc[(residential['BUILT_YR'] >= 1950) & (residential['BUILT_YR'] < 1960), 'BUILT_DECADE'] = \"1950's\"\n",
    "residential.loc[(residential['BUILT_YR'] >= 1960) & (residential['BUILT_YR'] < 1970), 'BUILT_DECADE'] = \"1960's\"\n",
    "residential.loc[(residential['BUILT_YR'] >= 1970) & (residential['BUILT_YR'] < 1980), 'BUILT_DECADE'] = \"1970's\"\n",
    "residential.loc[(residential['BUILT_YR'] >= 1980) & (residential['BUILT_YR'] < 1990), 'BUILT_DECADE'] = \"1980's\"\n",
    "residential.loc[(residential['BUILT_YR'] >= 1990) & (residential['BUILT_YR'] < 2000), 'BUILT_DECADE'] = \"1990's\"\n",
    "residential.loc[(residential['BUILT_YR'] >= 2000) & (residential['BUILT_YR'] < 2010), 'BUILT_DECADE'] = \"2000's\"\n",
    "residential.loc[(residential['BUILT_YR'] >= 2010) & (residential['BUILT_YR'] < 2020), 'BUILT_DECADE'] = \"2010's\"\n",
    "residential.loc[(residential['BUILT_YR'] >= 2020) & (residential['BUILT_YR'] < 2030), 'BUILT_DECADE'] = \"2020's\"\n",
    "\n",
    "# export \n",
    "residential.to_csv(os.path.join(outputs, 'salt_lake_county_residential_units.csv'))"
   ]
  },
  {
   "cell_type": "code",
   "execution_count": null,
   "metadata": {},
   "outputs": [],
   "source": []
  },
  {
   "cell_type": "code",
   "execution_count": null,
   "metadata": {},
   "outputs": [],
   "source": []
  },
  {
   "cell_type": "code",
   "execution_count": null,
   "metadata": {},
   "outputs": [],
   "source": []
  },
  {
   "cell_type": "code",
   "execution_count": null,
   "metadata": {},
   "outputs": [],
   "source": []
  }
 ],
 "metadata": {
  "kernelspec": {
   "display_name": "joshPy3",
   "language": "python",
   "name": "joshpy3"
  },
  "language_info": {
   "codemirror_mode": {
    "name": "ipython",
    "version": 3
   },
   "file_extension": ".py",
   "mimetype": "text/x-python",
   "name": "python",
   "nbconvert_exporter": "python",
   "pygments_lexer": "ipython3",
   "version": "3.7.9"
  },
  "varInspector": {
   "cols": {
    "lenName": 16,
    "lenType": 16,
    "lenVar": 40
   },
   "kernels_config": {
    "python": {
     "delete_cmd_postfix": "",
     "delete_cmd_prefix": "del ",
     "library": "var_list.py",
     "varRefreshCmd": "print(var_dic_list())"
    },
    "r": {
     "delete_cmd_postfix": ") ",
     "delete_cmd_prefix": "rm(",
     "library": "var_list.r",
     "varRefreshCmd": "cat(var_dic_list()) "
    }
   },
   "types_to_exclude": [
    "module",
    "function",
    "builtin_function_or_method",
    "instance",
    "_Feature"
   ],
   "window_display": false
  }
 },
 "nbformat": 4,
 "nbformat_minor": 4
}
