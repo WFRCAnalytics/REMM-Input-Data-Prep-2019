{
 "cells": [
  {
   "cell_type": "code",
   "execution_count": 1,
   "metadata": {},
   "outputs": [],
   "source": [
    "import arcpy\n",
    "from arcpy import env\n",
    "import os\n",
    "from arcgis import GIS\n",
    "from arcgis.features import GeoAccessor\n",
    "import pandas as pd\n",
    "\n",
    "arcpy.env.overwriteOutput = True"
   ]
  },
  {
   "cell_type": "code",
   "execution_count": 2,
   "metadata": {},
   "outputs": [],
   "source": [
    "#Inputs\n",
    "# parcels_2019_shp = \"C:\\\\Users\\\\slawless\\\\Desktop\\\\S.Projects 2021\\\\Parcel Splitting\\\\Code\\\\SplittingInputs.gdb\\\\Parcels_20200921Updated\"\n",
    "parcels_2019_shp = r\".\\weber.gdb\\weber_parcels\"\n",
    "\n",
    "# building_points_shp = \"C:\\\\Users\\\\slawless\\\\Desktop\\\\S.Projects 2021\\\\Parcel Splitting\\\\Code\\\\SplittingInputs.gdb\\\\AddressPoint\"\n",
    "# '.\\\\Inputs\\\\AddressPoints.gdb\\\\AddressPoints_Weber\\\\address_pts_lyr'\n",
    "building_points_shp = r\".\\AddressPoints.gdb\\AddressPoints_Weber\"\n",
    "\n",
    "#setting up output workspace gdb and environments- if it doesn't exist, create\n",
    "env.outputCoordinateSystem = arcpy.SpatialReference('NAD 1983 UTM Zone 12N')\n",
    "\n",
    "if not os.path.exists('Outputs'):\n",
    "    os.makedirs('Outputs')\n",
    "    \n",
    "outputs = ['.\\\\Outputs', \"Parcel_splitting.gdb\"]\n",
    "gdb = os.path.join(outputs[0], outputs[1])\n",
    "\n",
    "if not arcpy.Exists(gdb):\n",
    "    arcpy.CreateFileGDB_management(outputs[0], outputs[1])"
   ]
  },
  {
   "cell_type": "markdown",
   "metadata": {},
   "source": [
    "## Create Mesh"
   ]
  },
  {
   "cell_type": "code",
   "execution_count": 3,
   "metadata": {},
   "outputs": [
    {
     "data": {
      "text/html": [
       "<h2>Output</h2>.\\Outputs\\Parcel_splitting.gdb\\acre_mesh<h2>Messages</h2>Start Time: Monday, November 8, 2021 3:49:57 PM<br/>Adding RealBldg to acre_mesh...<br/>Succeeded at Monday, November 8, 2021 3:49:57 PM (Elapsed Time: 0.06 seconds)<br/><style>.rendered_html td, .rendered_html th {text-align: left;}.rendered_html tbody {border: 1px solid black;}</style>"
      ],
      "text/plain": [
       "<Result '.\\\\Outputs\\\\Parcel_splitting.gdb\\\\acre_mesh'>"
      ]
     },
     "execution_count": 3,
     "metadata": {},
     "output_type": "execute_result"
    }
   ],
   "source": [
    "desc = arcpy.Describe(parcels_2019_shp)\n",
    "\n",
    "#create the acre mesh- in this case, the cell_width and height calculate to 1 acre.\n",
    "acre_mesh = arcpy.management.CreateFishnet(out_feature_class = os.path.join(gdb,'acre_mesh'),\n",
    "    origin_coord = str(desc.extent.lowerLeft),\n",
    "    y_axis_coord = str(desc.extent.XMin) + \" \" + str(desc.extent.YMax + 10),\n",
    "#     cell_width = 208.7, # feet\n",
    "#     cell_height = 208.7, # feet\n",
    "    cell_width = 63.6, # meters\n",
    "    cell_height = 63.6, # meters\n",
    "    number_rows = '#',\n",
    "    number_columns = '#',\n",
    "    labels = 'NO_LABELS', \n",
    "    template = parcels_2019_shp, \n",
    "    geometry_type = 'POLYGON'\n",
    ")\n",
    "\n",
    "# #Add Required Fields: Grid ID and RealBuildingID\n",
    "arcpy.management.AddFields(in_table=acre_mesh, \n",
    "                           field_description=[[\"RealBldg\", \"DOUBLE\", \"RealBldg\", \"\", \"\", \"\"]])"
   ]
  },
  {
   "cell_type": "markdown",
   "metadata": {},
   "source": [
    "## Identify Building Points and Parcels that meet qualifications"
   ]
  },
  {
   "cell_type": "code",
   "execution_count": 4,
   "metadata": {},
   "outputs": [],
   "source": [
    "#Identifying which parcels meet the qualifications\n",
    "Parcels_7Acre_wBuildings = arcpy.conversion.FeatureClassToFeatureClass(in_features=parcels_2019_shp, \n",
    "                                                                       out_path=gdb, out_name=\"Parcels_7Acre_wBuildings\", \n",
    "                                                                       where_clause=\"building_type_id NOT IN (0, 14, 99, 3, 4, 5, 6, 8, 9, 10, 12) And PARCEL_ACRES >= 7\")\n",
    "\n",
    "#Identifying which buildings reside on those parcels that meet qualifications\n",
    "Buildings_7Acre_wBuildings = arcpy.analysis.SpatialJoin(target_features=building_points_shp, \n",
    "                                                        join_features=Parcels_7Acre_wBuildings, \n",
    "                                                        out_feature_class=os.path.join(gdb,'Buildings_7Acre_wBuildings'), \n",
    "                                                        join_operation=\"JOIN_ONE_TO_ONE\", \n",
    "                                                        join_type=\"KEEP_COMMON\",\n",
    "                                                        match_option=\"INTERSECT\", \n",
    "                                                        search_radius=\"\", \n",
    "                                                        distance_field_name=\"\")\n",
    "\n",
    "#Adding the Preserve Bldg field- used to identify which building areas to preserve\n",
    "Buildings_7Acre_wBuildings = arcpy.management.AddField(in_table=Buildings_7Acre_wBuildings, \n",
    "                                                       field_name=\"PreserveBldg\", \n",
    "                                                       field_type=\"SHORT\", \n",
    "                                                       field_precision=None, \n",
    "                                                       field_scale=None, \n",
    "                                                       field_length=None, \n",
    "                                                       field_alias=\"RealBldg\", \n",
    "                                                       field_is_nullable=\"NULLABLE\", \n",
    "                                                       field_is_required=\"NON_REQUIRED\", \n",
    "                                                       field_domain=\"\")\n",
    "\n",
    "Buildings_7Acre_wBuildings= arcpy.management.CalculateField(in_table=Buildings_7Acre_wBuildings, \n",
    "                                                    field=\"PreserveBldg\", \n",
    "                                                    expression=\"1\", \n",
    "                                                    expression_type=\"ARCADE\", \n",
    "                                                    code_block=\"\", \n",
    "                                                    field_type=\"TEXT\")\n",
    "\n",
    "Preserve_Buildings = arcpy.conversion.FeatureClassToFeatureClass(in_features=Buildings_7Acre_wBuildings, \n",
    "                                                                       out_path=gdb, out_name=\"Preserve_Buildings\")"
   ]
  },
  {
   "cell_type": "markdown",
   "metadata": {},
   "source": [
    "## Identify Mesh Pieces with Buildings"
   ]
  },
  {
   "cell_type": "code",
   "execution_count": 5,
   "metadata": {},
   "outputs": [],
   "source": [
    "#Use Spatial Join to identify which acre_mesh pieces contain those preserve_buildings\n",
    "Mesh_w_Buildings = arcpy.analysis.SpatialJoin(target_features=acre_mesh, \n",
    "                           join_features=Preserve_Buildings, \n",
    "                           out_feature_class=os.path.join(gdb,'Mesh_w_Buildings'), \n",
    "                           join_operation=\"JOIN_ONE_TO_ONE\", \n",
    "                           join_type=\"KEEP_ALL\",\n",
    "                           match_option=\"INTERSECT\", \n",
    "                           search_radius=\"\", \n",
    "                           distance_field_name=\"\")\n",
    "\n",
    "#convert to new Feature Class if Preserve_blg = 1\n",
    "Mesh_w_PreserveBldgs = arcpy.conversion.FeatureClassToFeatureClass(in_features=Mesh_w_Buildings, \n",
    "                                                                       out_path=gdb, out_name=\"Mesh_w_PreserveBldgs\", \n",
    "                                                                       where_clause=\"PreserveBldg IN (1)\")\n",
    "\n"
   ]
  },
  {
   "cell_type": "markdown",
   "metadata": {},
   "source": [
    "## Select Parcels with Mesh Pieces"
   ]
  },
  {
   "cell_type": "code",
   "execution_count": 6,
   "metadata": {},
   "outputs": [],
   "source": [
    "#Select the parcels with buildings on them and prep for mesh erasure and convert to feature class\n",
    "Parcels_for_Erase_select = arcpy.management.SelectLayerByLocation(in_layer=[parcels_2019_shp],\n",
    "                                                                 overlap_type=\"INTERSECT\", \n",
    "                                                                 select_features=Buildings_7Acre_wBuildings, \n",
    "                                                                 search_distance=\"\", \n",
    "                                                                 selection_type=\"NEW_SELECTION\", \n",
    "                                                                 invert_spatial_relationship=\"NOT_INVERT\")\n",
    "\n",
    "Parcels_for_Erase= arcpy.conversion.FeatureClassToFeatureClass(in_features=Parcels_for_Erase_select, \n",
    "                                                                       out_path=gdb, out_name=\"Parcels_for_Erase\")"
   ]
  },
  {
   "cell_type": "markdown",
   "metadata": {},
   "source": [
    "## Erase Mesh Pieces from Selected Parcels"
   ]
  },
  {
   "cell_type": "code",
   "execution_count": 7,
   "metadata": {},
   "outputs": [],
   "source": [
    "parcels_erased = arcpy.analysis.Erase(in_features=Parcels_for_Erase,\n",
    "                                      erase_features=Mesh_w_PreserveBldgs, \n",
    "                                      out_feature_class= os.path.join(gdb,'parcels_erased'),\n",
    "                                      cluster_tolerance=\"\")\n",
    "\n"
   ]
  },
  {
   "cell_type": "markdown",
   "metadata": {},
   "source": [
    "## Erase the building-related attributes from the parcels_erased"
   ]
  },
  {
   "cell_type": "code",
   "execution_count": 8,
   "metadata": {},
   "outputs": [],
   "source": [
    "# #calculating all building parcel attributes to zero out for the non-building pieces\n",
    "#YEAR BUILT\n",
    "parcels_erased = arcpy.management.CalculateField(in_table=parcels_erased, \n",
    "                                                                  field=\"BUILT_YR\", \n",
    "                                                                  expression=\"\"\"0\"\"\", \n",
    "                                                                  expression_type=\"PYTHON3\")\n",
    "\n",
    "#BUILDING SQFT\n",
    "parcels_erased = arcpy.management.CalculateField(in_table=parcels_erased, \n",
    "                                                                  field=\"BLDG_SQFT\", \n",
    "                                                                  expression=\"\"\"0\"\"\", \n",
    "                                                                  expression_type=\"PYTHON3\")\n",
    "\n",
    "# #NON-RESIDENTIAL-SQFT\n",
    "# parcels_erased = arcpy.management.CalculateField(in_table=parcels_erased, \n",
    "#                                                                   field=\"non_residential_sqft\", \n",
    "#                                                                   expression=\"\"\"0\"\"\", \n",
    "#                                                                   expression_type=\"PYTHON3\")\n",
    "\n",
    "# #UNITS PER ACRE\n",
    "# parcels_erased = arcpy.management.CalculateField(in_table=parcels_erased, \n",
    "#                                                                   field=\"UnitsperAc\", \n",
    "#                                                                   expression=\"\"\"0\"\"\", \n",
    "#                                                                   expression_type=\"PYTHON3\")\n",
    "\n",
    "#BUILDING TYPE ID\n",
    "parcels_erased = arcpy.management.CalculateField(in_table=parcels_erased, \n",
    "                                                                  field=\"building_type_id\", \n",
    "                                                                  expression=\"\"\"0\"\"\", \n",
    "                                                                  expression_type=\"PYTHON3\")\n",
    "\n",
    "# #RESIDENTIAL UNITS\n",
    "# parcels_erased = arcpy.management.CalculateField(in_table=parcels_erased, \n",
    "#                                                                   field=\"residential_units\", \n",
    "#                                                                   expression=\"\"\"0\"\"\", \n",
    "#                                                                   expression_type=\"PYTHON3\")"
   ]
  },
  {
   "cell_type": "markdown",
   "metadata": {},
   "source": [
    "## Get the \"erased pieces\" back and merge with with \"erased parcels\""
   ]
  },
  {
   "cell_type": "code",
   "execution_count": 9,
   "metadata": {},
   "outputs": [],
   "source": [
    "#join erased parcels to original parcels- puzzle piece 1\n",
    "parcels_with_structures = arcpy.analysis.SymDiff(Parcels_for_Erase, parcels_erased, os.path.join(gdb,'parcels_with_structures'))\n",
    "arcpy.AddField_management(parcels_with_structures, 'Split', 'LONG')\n",
    "arcpy.CalculateField_management(parcels_with_structures, field='Split', expression=2, expression_type=\"PYTHON3\") \n",
    "\n",
    "parcels_erased_union = arcpy.management.Merge(inputs=[parcels_erased, parcels_with_structures],\n",
    "                                           output=os.path.join(gdb,'parcels_erased_union'),\n",
    "                                           add_source=\"NO_SOURCE_INFO\")"
   ]
  },
  {
   "cell_type": "markdown",
   "metadata": {},
   "source": [
    "## Select all other parcel pieces"
   ]
  },
  {
   "cell_type": "code",
   "execution_count": 10,
   "metadata": {},
   "outputs": [],
   "source": [
    "#All other parcels not included in the parcels_erased_union\n",
    "Other_parcels_select = arcpy.management.SelectLayerByLocation(in_layer=[parcels_2019_shp], \n",
    "                                                          overlap_type=\"INTERSECT\", \n",
    "                                                          select_features=Buildings_7Acre_wBuildings, \n",
    "                                                          search_distance=\"\", \n",
    "                                                          selection_type=\"NEW_SELECTION\", \n",
    "                                                          invert_spatial_relationship=\"INVERT\")\n",
    "#convert selection to new feature class\n",
    "All_other_parcels= arcpy.conversion.FeatureClassToFeatureClass(in_features=Other_parcels_select, \n",
    "                                                                       out_path=gdb, \n",
    "                                                               out_name=\"All_other_parcels\")\n"
   ]
  },
  {
   "cell_type": "markdown",
   "metadata": {},
   "source": [
    "## Merge all parcels ready to split, back together"
   ]
  },
  {
   "cell_type": "code",
   "execution_count": 11,
   "metadata": {},
   "outputs": [],
   "source": [
    "#merging the non-erased, and the erased parcels back together\n",
    "prepared_parcels = arcpy.management.Merge(inputs=[All_other_parcels, parcels_erased_union],\n",
    "                                           output=os.path.join(gdb,'prepared_parcels'),\n",
    "                                           add_source=\"NO_SOURCE_INFO\")\n"
   ]
  },
  {
   "cell_type": "markdown",
   "metadata": {},
   "source": [
    "## All \"need splitting parcels\""
   ]
  },
  {
   "cell_type": "code",
   "execution_count": 12,
   "metadata": {},
   "outputs": [
    {
     "data": {
      "text/html": [
       "<h2>Output</h2>.\\Outputs\\Parcel_splitting.gdb\\parcels_YES_split<h2>Messages</h2>Start Time: Monday, November 8, 2021 3:50:30 PM<br/>Succeeded at Monday, November 8, 2021 3:50:30 PM (Elapsed Time: 0.13 seconds)<br/><style>.rendered_html td, .rendered_html th {text-align: left;}.rendered_html tbody {border: 1px solid black;}</style>"
      ],
      "text/plain": [
       "<Result '.\\\\Outputs\\\\Parcel_splitting.gdb\\\\parcels_YES_split'>"
      ]
     },
     "execution_count": 12,
     "metadata": {},
     "output_type": "execute_result"
    }
   ],
   "source": [
    "#select parcels with acreage larger than 7 or haven't been erased\n",
    "parcels_YES_split_select = arcpy.management.SelectLayerByAttribute(in_layer_or_view=prepared_parcels,\n",
    "                                                                               selection_type=\"NEW_SELECTION\", \n",
    "                                                                               where_clause=\"PARCEL_ACRES >= 7 And (FID_parcels_erased > -1 Or FID_parcels_erased IS NULL)\", \n",
    "                                                                               invert_where_clause=\"\")\n",
    "\n",
    "parcels_YES_split = arcpy.conversion.FeatureClassToFeatureClass(in_features=parcels_YES_split_select, \n",
    "                                                                       out_path=gdb, \n",
    "                                                               out_name=\"parcels_YES_split\")\n",
    "\n",
    "arcpy.CalculateField_management(parcels_YES_split, field='Split', expression=1, expression_type=\"PYTHON3\") "
   ]
  },
  {
   "cell_type": "markdown",
   "metadata": {},
   "source": [
    "## Split selected parcels into 5 acre pieces"
   ]
  },
  {
   "cell_type": "code",
   "execution_count": 13,
   "metadata": {},
   "outputs": [],
   "source": [
    "parcels_split = arcpy.management.SubdividePolygon(in_polygons=parcels_YES_split, \n",
    "                                  out_feature_class= os.path.join(gdb,'parcels_split'), \n",
    "                                  method=\"EQUAL_AREAS\", \n",
    "                                  num_areas=None, \n",
    "                                  target_area=\"5 Acres\", \n",
    "                                  target_width=\"\", \n",
    "                                  split_angle=0, \n",
    "                                  subdivision_type=\"STACKED_BLOCKS\")\n",
    "\n"
   ]
  },
  {
   "cell_type": "markdown",
   "metadata": {},
   "source": [
    "## Select all Non-split parcels"
   ]
  },
  {
   "cell_type": "code",
   "execution_count": 14,
   "metadata": {},
   "outputs": [],
   "source": [
    "#select all other parcels that arent ready for splitting\n",
    "parcels_NO_split_select = arcpy.management.SelectLayerByAttribute(in_layer_or_view=prepared_parcels,\n",
    "                                                                               selection_type=\"NEW_SELECTION\", \n",
    "                                                                               where_clause=\"PARCEL_ACRES >= 7 And (FID_parcels_erased > -1 Or FID_parcels_erased IS NULL)\", \n",
    "                                                                               invert_where_clause=\"INVERT\")\n",
    "\n",
    "\n",
    "parcels_NO_split = arcpy.conversion.FeatureClassToFeatureClass(in_features=parcels_NO_split_select, \n",
    "                                                                       out_path=gdb, \n",
    "                                                               out_name=\"parcels_NO_split\")\n"
   ]
  },
  {
   "cell_type": "markdown",
   "metadata": {},
   "source": [
    "## Put it all back together"
   ]
  },
  {
   "cell_type": "code",
   "execution_count": 15,
   "metadata": {
    "scrolled": true
   },
   "outputs": [
    {
     "data": {
      "text/html": [
       "<h2>Output</h2>.\\Outputs\\Parcel_splitting.gdb\\parcels_split_merge<h2>Messages</h2>Start Time: Monday, November 8, 2021 3:50:45 PM<br/>Succeeded at Monday, November 8, 2021 3:50:52 PM (Elapsed Time: 6.64 seconds)<br/><style>.rendered_html td, .rendered_html th {text-align: left;}.rendered_html tbody {border: 1px solid black;}</style>"
      ],
      "text/plain": [
       "<Result '.\\\\Outputs\\\\Parcel_splitting.gdb\\\\parcels_split_merge'>"
      ]
     },
     "execution_count": 15,
     "metadata": {},
     "output_type": "execute_result"
    }
   ],
   "source": [
    "#merging all parcels back together again\n",
    "parcels_split_merge = arcpy.management.Merge(inputs=[parcels_split, parcels_NO_split],\n",
    "                                           output=os.path.join(gdb,'parcels_split_merge'),\n",
    "                                           add_source=\"NO_SOURCE_INFO\")\n",
    "\n",
    "# recalc acreage\n",
    "arcpy.AddField_management(parcels_split_merge, 'PARCEL_ACRES_NEW', 'FLOAT')\n",
    "arcpy.CalculateField_management(parcels_split_merge, \"PARCEL_ACRES_NEW\", \"\"\"!SHAPE.area@ACRES!\"\"\", \"PYTHON3\")"
   ]
  },
  {
   "cell_type": "markdown",
   "metadata": {},
   "source": [
    "## Attribute Cleanup"
   ]
  },
  {
   "cell_type": "code",
   "execution_count": 16,
   "metadata": {},
   "outputs": [],
   "source": [
    "#attribute cleanup\n",
    "final_parcel_df = pd.DataFrame.spatial.from_featureclass(parcels_split_merge)\n",
    "#list(final_parcel_df.columns)"
   ]
  },
  {
   "cell_type": "code",
   "execution_count": 17,
   "metadata": {},
   "outputs": [],
   "source": [
    "# divide land value by this number for new approximate value\n",
    "final_parcel_df['Split_Factor'] = final_parcel_df['PARCEL_ACRES']/final_parcel_df['PARCEL_ACRES_NEW']\n",
    "final_parcel_df['PARCEL_ACRES'] = final_parcel_df['PARCEL_ACRES_NEW']\n",
    "\n",
    "fields = ['COUNTY_NAME', 'COUNTY_ID', 'PARCEL_ID', 'TOTAL_MKT_VALUE', 'LAND_MKT_VALUE', 'UNIT_COUNT', 'BLDG_SQFT', 'FLOORS_CNT',\n",
    "         'BUILT_YR', 'EFFBUILT_YR', 'max_dua', 'max_far', 'max_height', 'type1', 'type2', 'type3', 'type4', 'type5', 'type6', \n",
    "         'type7','type8', 'agriculture', 'basebldg', 'NoBuild', 'redev_friction', 'building_type_id', 'x', 'y', \n",
    "         'parcel_id_remm', 'PARCEL_ACRES', 'Split','Split_Factor', 'SHAPE']\n",
    "\n",
    "# save old parcel id\n",
    "final_parcel_df = final_parcel_df[fields].copy()\n",
    "final_parcel_df['parcel_id_remm_old'] = final_parcel_df['parcel_id_remm']\n",
    "\n",
    "# generate unique building id for split parcels\n",
    "final_parcel_df.loc[(final_parcel_df['Split'].isna() == True), 'Split'] = 0\n",
    "split_parcels = final_parcel_df[final_parcel_df['Split'] == 1].copy()\n",
    "nonsplit_parcels = final_parcel_df[(final_parcel_df['Split']==0) | (final_parcel_df['Split']==2)].copy()\n",
    "count = final_parcel_df.shape[0]\n",
    "split_parcels['parcel_id_remm'] = count + split_parcels.index + 1\n",
    "\n",
    "final_parcel_df = pd.concat([nonsplit_parcels, split_parcels])\n",
    "\n",
    "# recalc land value and total market value using split factor\n",
    "final_parcel_df.loc[(final_parcel_df['Split']==1), 'LAND_MKT_VALUE'] = final_parcel_df['LAND_MKT_VALUE'] / final_parcel_df['Split_Factor']\n",
    "final_parcel_df.loc[(final_parcel_df['Split']==1), 'TOTAL_MKT_VALUE'] = final_parcel_df['LAND_MKT_VALUE']\n",
    "final_parcel_df.loc[(final_parcel_df['Split']==2), 'TOTAL_MKT_VALUE'] = (final_parcel_df['TOTAL_MKT_VALUE'] - final_parcel_df['LAND_MKT_VALUE']) + (final_parcel_df['LAND_MKT_VALUE'] / final_parcel_df['Split_Factor'])\n",
    "final_parcel_df.loc[(final_parcel_df['Split']==2), 'LAND_MKT_VALUE'] = final_parcel_df['LAND_MKT_VALUE'] / final_parcel_df['Split_Factor']"
   ]
  },
  {
   "cell_type": "markdown",
   "metadata": {},
   "source": [
    "## Final export"
   ]
  },
  {
   "cell_type": "code",
   "execution_count": 18,
   "metadata": {},
   "outputs": [
    {
     "data": {
      "text/plain": [
       "'E:\\\\Projects\\\\Parcel_Splitting\\\\Outputs\\\\Parcel_splitting.gdb\\\\parcels_split_FINAL'"
      ]
     },
     "execution_count": 18,
     "metadata": {},
     "output_type": "execute_result"
    }
   ],
   "source": [
    "final_parcel_df.spatial.to_featureclass(location=os.path.join(gdb,'parcels_split_FINAL'), sanitize_columns=False)"
   ]
  },
  {
   "cell_type": "code",
   "execution_count": 19,
   "metadata": {},
   "outputs": [],
   "source": [
    "# #opening the pro project to visualize\n",
    "# import subprocess\n",
    "\n",
    "# path_to_pro = 'C:\\\\Program Files\\\\ArcGIS\\\\Pro\\\\bin\\\\ArcGISPro.exe'\n",
    "# path_to_file = 'C:\\\\Users\\\\slawless\\\\Desktop\\\\S.Projects 2021\\\\REMM Visualization\\\\Visualize Output Data- REMM\\\\Visualize Output Data- REMM.aprx'\n",
    "\n",
    "# subprocess.call([path_to_pro, path_to_file])"
   ]
  }
 ],
 "metadata": {
  "kernelspec": {
   "display_name": "Python 3",
   "language": "python",
   "name": "python3"
  },
  "language_info": {
   "codemirror_mode": {
    "name": "ipython",
    "version": 3
   },
   "file_extension": ".py",
   "mimetype": "text/x-python",
   "name": "python",
   "nbconvert_exporter": "python",
   "pygments_lexer": "ipython3",
   "version": "3.7.10"
  },
  "varInspector": {
   "cols": {
    "lenName": 16,
    "lenType": 16,
    "lenVar": 40
   },
   "kernels_config": {
    "python": {
     "delete_cmd_postfix": "",
     "delete_cmd_prefix": "del ",
     "library": "var_list.py",
     "varRefreshCmd": "print(var_dic_list())"
    },
    "r": {
     "delete_cmd_postfix": ") ",
     "delete_cmd_prefix": "rm(",
     "library": "var_list.r",
     "varRefreshCmd": "cat(var_dic_list()) "
    }
   },
   "types_to_exclude": [
    "module",
    "function",
    "builtin_function_or_method",
    "instance",
    "_Feature"
   ],
   "window_display": false
  }
 },
 "nbformat": 4,
 "nbformat_minor": 4
}
