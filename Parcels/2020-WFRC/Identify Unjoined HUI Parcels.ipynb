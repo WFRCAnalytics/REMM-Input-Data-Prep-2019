{
 "cells": [
  {
   "cell_type": "code",
   "execution_count": null,
   "metadata": {},
   "outputs": [],
   "source": [
    "import arcpy\n",
    "from arcpy import env\n",
    "import os\n",
    "from arcgis import GIS\n",
    "from arcgis.features import GeoAccessor\n",
    "import pandas as pd\n",
    "\n",
    "arcpy.env.overwriteOutput = True\n",
    "arcpy.env.parallelProcessingFactor = \"80%\""
   ]
  },
  {
   "cell_type": "code",
   "execution_count": null,
   "metadata": {},
   "outputs": [],
   "source": [
    "#Inputs\n",
    "parcels = r\".\\Outputs\\remm_base_year_2020.gdb\\parcels\"\n",
    "\n",
    "\n",
    "hui = r\"E:\\Projects\\Housing-Unit-Inventory\\Current_Version\\wfrc_hui_20211110.gdb\\wfrc_hui_20211101\"\n",
    "\n",
    "\n",
    "if not os.path.exists('Outputs'):\n",
    "    os.makedirs('Outputs')\n",
    "    \n",
    "outputs = ['.\\\\Outputs', \"test.gdb\"]\n",
    "gdb = os.path.join(outputs[0], outputs[1])\n",
    "\n",
    "if not arcpy.Exists(gdb):\n",
    "    arcpy.CreateFileGDB_management(outputs[0], outputs[1])"
   ]
  },
  {
   "cell_type": "code",
   "execution_count": null,
   "metadata": {},
   "outputs": [],
   "source": [
    "# buffer hui\n",
    "hui_buff = arcpy.Buffer_analysis(hui, os.path.join(gdb,'hui_buff'), '1.25 METERS')"
   ]
  },
  {
   "cell_type": "code",
   "execution_count": null,
   "metadata": {},
   "outputs": [],
   "source": [
    "# spatial join \n",
    "sj = arcpy.analysis.SpatialJoin(target_features=parcels, \n",
    "                           join_features=hui_buff, \n",
    "                           out_feature_class=os.path.join(gdb,'sj'), \n",
    "                           join_operation=\"JOIN_ONE_TO_ONE\", \n",
    "                           join_type=\"KEEP_COMMON\",\n",
    "                           match_option=\"WITHIN\")\n",
    "\n"
   ]
  },
  {
   "cell_type": "code",
   "execution_count": null,
   "metadata": {},
   "outputs": [],
   "source": [
    "# get list of unit ids that joined\n",
    "sj_sdf = pd.DataFrame.spatial.from_featureclass(sj)\n",
    "unit_ids = sj_sdf['UNIT_ID'].tolist()  \n",
    "len(unit_ids)"
   ]
  },
  {
   "cell_type": "code",
   "execution_count": null,
   "metadata": {},
   "outputs": [],
   "source": [
    "hui"
   ]
  },
  {
   "cell_type": "code",
   "execution_count": null,
   "metadata": {},
   "outputs": [],
   "source": [
    "# use ids to identify hui units that didn't join\n",
    "hui_sdf = pd.DataFrame.spatial.from_featureclass(hui)\n",
    "not_joined = hui_sdf[~(hui_sdf['UNIT_ID'].isin(unit_ids))].copy()\n",
    "print(hui_sdf.shape)\n",
    "print(not_joined.shape)"
   ]
  },
  {
   "cell_type": "code",
   "execution_count": null,
   "metadata": {},
   "outputs": [],
   "source": [
    "# export\n",
    "not_joined.spatial.to_featureclass(location=os.path.join(gdb,'unjoined_hui_parcels'),sanitize_columns=False)"
   ]
  }
 ],
 "metadata": {
  "kernelspec": {
   "display_name": "Python 3",
   "language": "python",
   "name": "python3"
  },
  "language_info": {
   "codemirror_mode": {
    "name": "ipython",
    "version": 3
   },
   "file_extension": ".py",
   "mimetype": "text/x-python",
   "name": "python",
   "nbconvert_exporter": "python",
   "pygments_lexer": "ipython3",
   "version": "3.7.10"
  }
 },
 "nbformat": 4,
 "nbformat_minor": 4
}
