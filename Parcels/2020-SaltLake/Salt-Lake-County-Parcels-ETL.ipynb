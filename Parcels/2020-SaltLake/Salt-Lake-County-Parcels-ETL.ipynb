{
 "cells": [
  {
   "cell_type": "markdown",
   "metadata": {},
   "source": [
    "# Notes:\n",
    "\n",
    "- PROP_CLASS\n",
    "    - R - Residential / Condo\n",
    "    - C - Commercial\n",
    "    - I - Industrial\n",
    "    - RE - Recreational\n",
    "    - A - Agricultural\n",
    "    - MH - Multi Housing  \n",
    "  \n",
    "  \n",
    "- TAXEXEMPT_TYPE\n",
    "    - AE - Airport - Exempt\n",
    "    - CC - Commercial Common Area\n",
    "    - CE - Conservation Easement\n",
    "    - CM - Cemetery\n",
    "    - EC - Exempt Charitable\n",
    "    - EE - Exempt Education\n",
    "    - ER - Exempt Religious\n",
    "    - GB - Greenbelt\n",
    "    - HE - Homeowners Assoc Exempt\n",
    "    - IL - In Lieu\n",
    "    - IR - Irrigation Company\n",
    "    - MC - Master Card\n",
    "    - OE - Owner Exempt\n",
    "    - PE - Part Exempt\n",
    "    - PR - Pro-Rated\n",
    "    - PT - Privilege Tax\n",
    "    - PY - Privilege Tax on a Yield\n",
    "    - SA - State Assessed\n",
    "    - SC - State and Cnty Assessed\n",
    "    - SE - Special - Exempt\n",
    "    - SU - Salt Lake - Utah Cnty\n",
    "    - TD - Divided Tax District\n",
    "    - UI - Undivided_Interest \n",
    "  \n",
    "\n",
    "- PROP_TYPES\n",
    "    - [See link...](https://slco.org/assessor/new/queryproptyp.cfm)\n",
    "    \n",
    "    \n",
    "- Res-Obsolesced Value – A residence is on the lot; however, it has zero or minimal value with the value being in the land.\n",
    "- Modular – A residence that was prebuilt in sections, typically in two or more sections. It is then transported and joined together on a permanent foundation.\n",
    "- Apt. Conversion – a multi-family apartment building that was originally built as a single-family residence.Typically, older improvements with 3 or 4 units.\n",
    "- Improved Rec. – A recreation lot with some type of cabin or other improvement on it.\n",
    "- Manuf. Home – A manufactured residence on a lot that is owned by the owner of the manufactured home.\n",
    "- PUD – Planned Unit Development – a residential unit where building style is individualized, and homes are on individual lots. PUDs will not include condos but may contain a handful of duplexes.\n",
    "- Low-Inc-House-TC – An apartment that rents for below market rents AND that received tax credits to help off-set the below market rents.\n",
    "- Res Multi – A parcel of land containing two or more detached residences.\n",
    "- SF Res-Model – Property type used for unique properties in the County that value more accurately using the cost approach rather than the market approach. This is due to the uniqueness of the property limiting the number of comparable properties that can be used for the market approach.\n",
    "- Residential-Salvage – residences that are in poor condition and the highest and best use is to demolish the structure(s). The value is essentially in the land. "
   ]
  },
  {
   "cell_type": "code",
   "execution_count": 1,
   "metadata": {},
   "outputs": [],
   "source": [
    "import arcpy\n",
    "import os\n",
    "import pandas as pd\n",
    "from arcgis import GIS\n",
    "import numpy as np\n",
    "from arcgis.features import GeoAccessor, GeoSeriesAccessor\n",
    "arcpy.env.overwriteOutput = True\n",
    "\n",
    "# show all columns\n",
    "pd.options.display.max_columns = None"
   ]
  },
  {
   "cell_type": "code",
   "execution_count": 2,
   "metadata": {},
   "outputs": [],
   "source": [
    "# tag_expression and code block for tagging parcels\n",
    "tag_expression = \"createTag(!TAG!, '{}')\"\n",
    "tag_codeblock = \"\"\"\n",
    "def createTag(tag_current, tag_new):\n",
    "    if tag_current == None or tag_current == '':\n",
    "        return tag_new\n",
    "    else:\n",
    "        return tag_current + ',' + tag_new\"\"\""
   ]
  },
  {
   "cell_type": "code",
   "execution_count": 3,
   "metadata": {},
   "outputs": [],
   "source": [
    "# # output folder\n",
    "# outputs = '.\\\\Outputs'\n",
    "\n",
    "# # store path to gdb\n",
    "# gdb = '.\\\\Inputs\\\\Utah_Weber_County_Parcels_LIR.gdb'"
   ]
  },
  {
   "cell_type": "code",
   "execution_count": 4,
   "metadata": {},
   "outputs": [],
   "source": [
    "# # Copy parcel data\n",
    "# parcels = os.path.join(gdb, 'Parcels_Weber_LIR')\n",
    "# parcels_copy = arcpy.FeatureClassToFeatureClass_conversion(parcels, gdb, 'parcels_temp')"
   ]
  },
  {
   "cell_type": "code",
   "execution_count": 5,
   "metadata": {},
   "outputs": [],
   "source": [
    "# # load gdb into pandas dataframe\n",
    "# sdf = pd.DataFrame.spatial.from_featureclass(parcels_copy)"
   ]
  },
  {
   "cell_type": "code",
   "execution_count": 6,
   "metadata": {},
   "outputs": [],
   "source": [
    "# # inspect the shape\n",
    "# sdf.shape"
   ]
  },
  {
   "cell_type": "code",
   "execution_count": 7,
   "metadata": {},
   "outputs": [],
   "source": [
    "# # preview last 5 records\n",
    "# sdf.tail(5)"
   ]
  },
  {
   "cell_type": "code",
   "execution_count": 8,
   "metadata": {},
   "outputs": [],
   "source": [
    "# # count each value in property class field\n",
    "# sdf[\"PROP_CLASS\"].value_counts()"
   ]
  },
  {
   "cell_type": "code",
   "execution_count": 9,
   "metadata": {},
   "outputs": [],
   "source": [
    "# # query for single family parcels\n",
    "# sf_boolean = sdf['PROP_CLASS']=='111- SNGL FAM RES'\n",
    "\n",
    "# # add a column to indicate if parcel is single family\n",
    "# sf_parcels = sdf[sf_boolean]\n",
    "# sdf['isSingleFamily'] = sf_boolean\n",
    "# sdf"
   ]
  },
  {
   "cell_type": "code",
   "execution_count": 10,
   "metadata": {},
   "outputs": [],
   "source": [
    "# # create empty column for building type attribute\n",
    "# sdf['BUILDING_TYPE'] = ''\n",
    "# sdf"
   ]
  },
  {
   "cell_type": "code",
   "execution_count": 11,
   "metadata": {},
   "outputs": [],
   "source": [
    "# # st building type to 1 where is single family equals True\n",
    "# sdf['BUILDING_TYPE'] = np.where(sdf['isSingleFamily'] == True, 1, \"\")\n",
    "# sdf[['isSingleFamily','BUILDING_TYPE']].head(10)"
   ]
  },
  {
   "cell_type": "code",
   "execution_count": 12,
   "metadata": {},
   "outputs": [
    {
     "name": "stdout",
     "output_type": "stream",
     "text": [
      "OfficeDWS       23300\n",
      "RetailDWS       11433\n",
      "                11154\n",
      "HealthDWS        7185\n",
      "WholesaleDWS     4985\n",
      "IndustryDWS      2832\n",
      "EducationDWS     1747\n",
      "Name: Tag, dtype: int64\n"
     ]
    }
   ],
   "source": [
    "# # Recode dws data\n",
    "# dws = '.\\\\inputs\\\\DWSEmployment2018.gdb\\\\DWSEmployment2018_located'\n",
    "# dws_sdf = pd.DataFrame.spatial.from_featureclass(dws)\n",
    "# dws_sdf['Tag'] = \"\"\n",
    "# dws_sdf['NAICS']= dws_sdf['NAICS'].astype(str) \n",
    "\n",
    "# dws_sdf.loc[dws_sdf['NAICS'].str.startswith('3', na=False), 'Tag'] = \"IndustryDWS\"\n",
    "# dws_sdf.loc[dws_sdf['NAICS'].str.startswith('48', na=False), 'Tag'] = \"WholesaleDWS\"\n",
    "# dws_sdf.loc[dws_sdf['NAICS'].str.startswith('49', na=False), 'Tag'] = \"WholesaleDWS\"\n",
    "# dws_sdf.loc[dws_sdf['NAICS'].str.startswith('51', na=False), 'Tag'] = \"OfficeDWS\"\n",
    "# dws_sdf.loc[dws_sdf['NAICS'].str.startswith('52', na=False), 'Tag'] = \"OfficeDWS\"\n",
    "# dws_sdf.loc[dws_sdf['NAICS'].str.startswith('53', na=False), 'Tag'] = \"OfficeDWS\"\n",
    "# dws_sdf.loc[dws_sdf['NAICS'].str.startswith('54', na=False), 'Tag'] = \"OfficeDWS\"\n",
    "# dws_sdf.loc[dws_sdf['NAICS'].str.startswith('55', na=False), 'Tag'] = \"OfficeDWS\"\n",
    "# dws_sdf.loc[dws_sdf['NAICS'].str.startswith('61', na=False), 'Tag'] = \"EducationDWS\"\n",
    "# dws_sdf.loc[dws_sdf['NAICS'].str.startswith('62', na=False), 'Tag'] = \"HealthDWS\"\n",
    "# dws_sdf.loc[dws_sdf['NAICS'].str.startswith('71', na=False), 'Tag'] = \"RetailDWS\"\n",
    "# dws_sdf.loc[dws_sdf['NAICS'].str.startswith('81', na=False), 'Tag'] = \"OfficeDWS\"\n",
    "# dws_sdf.loc[dws_sdf['NAICS'].str.startswith('92', na=False), 'Tag'] = \"OfficeDWS\"\n",
    "# dws_sdf.loc[dws_sdf['NAICS'].str.startswith('423', na=False), 'Tag'] = \"WholesaleDWS\"\n",
    "# dws_sdf.loc[dws_sdf['NAICS'].str.startswith('424', na=False), 'Tag'] = \"WholesaleDWS\"\n",
    "# dws_sdf.loc[dws_sdf['NAICS'].str.startswith('425', na=False), 'Tag'] = \"WholesaleDWS\"\n",
    "# dws_sdf.loc[dws_sdf['NAICS'].str.startswith('441', na=False), 'Tag'] = \"RetailDWS\"\n",
    "# dws_sdf.loc[dws_sdf['NAICS'].str.startswith('442', na=False), 'Tag'] = \"RetailDWS\"\n",
    "# dws_sdf.loc[dws_sdf['NAICS'].str.startswith('443', na=False), 'Tag'] = \"RetailDWS\"\n",
    "# dws_sdf.loc[dws_sdf['NAICS'].str.startswith('444', na=False), 'Tag'] = \"RetailDWS\"\n",
    "# dws_sdf.loc[dws_sdf['NAICS'].str.startswith('445', na=False), 'Tag'] = \"RetailDWS\"\n",
    "# dws_sdf.loc[dws_sdf['NAICS'].str.startswith('446', na=False), 'Tag'] = \"RetailDWS\"\n",
    "# dws_sdf.loc[dws_sdf['NAICS'].str.startswith('447', na=False), 'Tag'] = \"RetailDWS\"\n",
    "# dws_sdf.loc[dws_sdf['NAICS'].str.startswith('448', na=False), 'Tag'] = \"RetailDWS\"\n",
    "# dws_sdf.loc[dws_sdf['NAICS'].str.startswith('451', na=False), 'Tag'] = \"RetailDWS\"\n",
    "# dws_sdf.loc[dws_sdf['NAICS'].str.startswith('452', na=False), 'Tag'] = \"RetailDWS\"\n",
    "# dws_sdf.loc[dws_sdf['NAICS'].str.startswith('453', na=False), 'Tag'] = \"RetailDWS\"\n",
    "# dws_sdf.loc[dws_sdf['NAICS'].str.startswith('454', na=False), 'Tag'] = \"RetailDWS\"\n",
    "# dws_sdf.loc[dws_sdf['NAICS'].str.startswith('721', na=False), 'Tag'] = \"RetailDWS\"\n",
    "# dws_sdf.loc[dws_sdf['NAICS'].str.startswith('722', na=False), 'Tag'] = \"RetailDWS\"\n",
    "\n",
    "# # # check result\n",
    "# # dws_sdf[dws_sdf['Tag'] == 'IndustryDWS']\n",
    "# print(dws_sdf['Tag'].value_counts())\n",
    "\n",
    "\n",
    "# dws_sdf = dws_sdf[['NAME','XCoord','YCoord', 'CITY_REV', 'NAICS', 'Tag', 'SHAPE']]\n",
    "# dws_new = '.\\\\inputs\\\\DWSEmployment2018.gdb\\\\dws2018_REMM'\n",
    "# dws_sdf.spatial.to_featureclass(location=dws_new)\n",
    "# dws_lyr = arcpy.MakeFeatureLayer_management(dws_new, 'dws_lyr')"
   ]
  },
  {
   "cell_type": "code",
   "execution_count": 13,
   "metadata": {},
   "outputs": [],
   "source": [
    "# inputs\n",
    "taz_shp = '.\\\\Inputs\\\\TAZ.shp'\n",
    "parcels = '.\\\\Inputs\\\\Utah_Salt_Lake_County_Parcels_LIR.gdb\\\\Parcels_SaltLake_LIR_UTM12'"
   ]
  },
  {
   "cell_type": "code",
   "execution_count": 14,
   "metadata": {},
   "outputs": [],
   "source": [
    "# create output gdb\n",
    "outputs = '.\\\\Outputs'\n",
    "gdb = os.path.join(outputs, \"saltlake.gdb\")\n",
    "if not arcpy.Exists(gdb):\n",
    "    arcpy.CreateFileGDB_management(outputs, \"saltlake.gdb\")\n",
    "    \n",
    "# create second output gdb\n",
    "gdb2 = os.path.join(outputs, \"saltlake2.gdb\")\n",
    "if not arcpy.Exists(gdb2):\n",
    "    arcpy.CreateFileGDB_management(outputs, \"saltlake2.gdb\")\n",
    "    \n",
    "# create second output gdb\n",
    "gdb3 = os.path.join(outputs, \"saltlake3.gdb\")\n",
    "if not arcpy.Exists(gdb3):\n",
    "    arcpy.CreateFileGDB_management(outputs, \"saltlake3.gdb\")"
   ]
  },
  {
   "cell_type": "code",
   "execution_count": 15,
   "metadata": {},
   "outputs": [
    {
     "name": "stdout",
     "output_type": "stream",
     "text": [
      "The total amount of parcels is 384322\n"
     ]
    }
   ],
   "source": [
    "# select parcels within modeling area\n",
    "parcels_layer = arcpy.MakeFeatureLayer_management(parcels, 'parcels') \n",
    "arcpy.SelectLayerByLocation_management(parcels_layer, 'HAVE_THEIR_CENTER_IN', taz_shp)\n",
    "parcels_for_modeling = arcpy.FeatureClassToFeatureClass_conversion(parcels_layer, gdb, '_01_parcels_for_modeling')\n",
    "\n",
    "# add rings and part count fields\n",
    "arcpy.AddField_management(parcels_for_modeling, 'ORIG_PARTS', 'LONG')\n",
    "arcpy.AddField_management(parcels_for_modeling, 'ORIG_RINGS', 'LONG')\n",
    "arcpy.AddField_management(parcels_for_modeling, 'NOW_PARTS', 'LONG')\n",
    "arcpy.AddField_management(parcels_for_modeling, 'NOW_RINGS', 'LONG')\n",
    "\n",
    "# Use cursor to calculate parts and rings\n",
    "fields = [\"shape@\", 'ORIG_PARTS', 'ORIG_RINGS', 'NOW_PARTS', 'NOW_RINGS']\n",
    "with arcpy.da.UpdateCursor(parcels_for_modeling, fields) as cursor:\n",
    "    for row in cursor:\n",
    "        shape = row[0]\n",
    "        parts = shape.partCount\n",
    "        rings = shape.boundary().partCount\n",
    "        \n",
    "        row[1] = parts\n",
    "        row[2] = rings\n",
    "        row[3] = parts\n",
    "        row[4] = rings\n",
    "        \n",
    "        cursor.updateRow(row)\n",
    "        \n",
    "# add a tag field for parcel type\n",
    "arcpy.AddField_management(parcels_for_modeling, 'TAG', 'TEXT')\n",
    "\n",
    "# create the master layer for selection\n",
    "parcels_for_modeling_layer = arcpy.MakeFeatureLayer_management(parcels_for_modeling, 'parcels_for_modeling_layer')\n",
    "\n",
    "# get a count of all parcels\n",
    "count_all = arcpy.GetCount_management(parcels_for_modeling_layer)\n",
    "print(\"The total amount of parcels is {}\".format(count_all))\n",
    "\n",
    "# create centroids for all parcels\n",
    "parcels_for_modeling_centroids = arcpy.FeatureToPoint_management(parcels_for_modeling_layer, os.path.join(gdb, '_01b_parcels_for_modeling_centroids'), \"INSIDE\")"
   ]
  },
  {
   "cell_type": "markdown",
   "metadata": {},
   "source": [
    "## DWS points (to be integrated with matching category)"
   ]
  },
  {
   "cell_type": "code",
   "execution_count": 16,
   "metadata": {},
   "outputs": [
    {
     "name": "stdout",
     "output_type": "stream",
     "text": [
      "There were 1311 \"IndustryDWS\" parcels selected out of 384322\n",
      "There were 2350 \"WholesaleDWS\" parcels selected out of 384322\n",
      "There were 7914 \"OfficeDWS\" parcels selected out of 384322\n",
      "There were 731 \"EducationDWS\" parcels selected out of 384322\n",
      "There were 2349 \"HealthDWS\" parcels selected out of 384322\n",
      "There were 3928 \"RetailDWS\" parcels selected out of 384322\n"
     ]
    }
   ],
   "source": [
    "# #===================\n",
    "# # Tag IndustryDWS\n",
    "# #===================\n",
    "\n",
    "# query= (\"\"\" Tag = 'IndustryDWS' \"\"\")\n",
    "# arcpy.SelectLayerByAttribute_management(dws_lyr, 'NEW_SELECTION', query)\n",
    "# arcpy.SelectLayerByLocation_management(in_layer=parcels_for_modeling_layer,overlap_type=\"INTERSECT\",select_features=dws_lyr,\n",
    "#                                            selection_type='NEW_SELECTION')\n",
    "# tag=\"IndustryDWS\"\n",
    "# arcpy.CalculateField_management(parcels_for_modeling_layer, field='TAG', expression=tag_expression.format(tag) ,expression_type=\"PYTHON3\",\n",
    "#                                 code_block=tag_codeblock)\n",
    "\n",
    "# count = arcpy.GetCount_management(parcels_for_modeling_layer)\n",
    "# print('There were {} \"{}\" parcels selected out of {}'.format(count, tag, count_all))\n",
    "# IndustryDWS =  arcpy.FeatureClassToFeatureClass_conversion(parcels_for_modeling_layer, gdb2, '_18_IndustryDWS')\n",
    "\n",
    "# #===================\n",
    "# # Tag WholesaleDWS\n",
    "# #===================\n",
    "\n",
    "# query= (\"\"\" Tag = 'WholesaleDWS' \"\"\")\n",
    "# arcpy.SelectLayerByAttribute_management(dws_lyr, 'NEW_SELECTION', query)\n",
    "# arcpy.SelectLayerByLocation_management(in_layer=parcels_for_modeling_layer,overlap_type=\"INTERSECT\",select_features=dws_lyr,\n",
    "#                                            selection_type='NEW_SELECTION')\n",
    "\n",
    "# tag=\"WholesaleDWS\"\n",
    "# arcpy.CalculateField_management(parcels_for_modeling_layer, field='TAG', expression=tag_expression.format(tag),expression_type=\"PYTHON3\",\n",
    "#                                 code_block=tag_codeblock)\n",
    "\n",
    "# count = arcpy.GetCount_management(parcels_for_modeling_layer)\n",
    "# print('There were {} \"{}\" parcels selected out of {}'.format(count, tag, count_all))\n",
    "# WholesaleDWS =  arcpy.FeatureClassToFeatureClass_conversion(parcels_for_modeling_layer, gdb2, '_19_WholesaleDWS')\n",
    "\n",
    "# #===================\n",
    "# # Tag OfficeDWS\n",
    "# #===================\n",
    "\n",
    "# query= (\"\"\" Tag = 'OfficeDWS' \"\"\")\n",
    "# arcpy.SelectLayerByAttribute_management(dws_lyr, 'NEW_SELECTION', query)\n",
    "# arcpy.SelectLayerByLocation_management(in_layer=parcels_for_modeling_layer,overlap_type=\"INTERSECT\",select_features=dws_lyr,\n",
    "#                                            selection_type='NEW_SELECTION')\n",
    "# tag=\"OfficeDWS\"\n",
    "# arcpy.CalculateField_management(parcels_for_modeling_layer, field='TAG', expression=tag_expression.format(tag),expression_type=\"PYTHON3\",\n",
    "#                                 code_block=tag_codeblock)\n",
    "\n",
    "# count = arcpy.GetCount_management(parcels_for_modeling_layer)\n",
    "# print('There were {} \"{}\" parcels selected out of {}'.format(count, tag, count_all))\n",
    "# OfficeDWS =  arcpy.FeatureClassToFeatureClass_conversion(parcels_for_modeling_layer, gdb2, '_20_OfficeDWS')\n",
    "\n",
    "# #===================\n",
    "# # Tag EducationDWS\n",
    "# #===================\n",
    "\n",
    "# query= (\"\"\" Tag = 'EducationDWS' \"\"\")\n",
    "# arcpy.SelectLayerByAttribute_management(dws_lyr, 'NEW_SELECTION', query)\n",
    "# arcpy.SelectLayerByLocation_management(in_layer=parcels_for_modeling_layer,overlap_type=\"INTERSECT\",select_features=dws_lyr,\n",
    "#                                            selection_type='NEW_SELECTION')\n",
    "# tag=\"EducationDWS\"\n",
    "# arcpy.CalculateField_management(parcels_for_modeling_layer, field='TAG', expression=tag_expression.format(tag),expression_type=\"PYTHON3\",\n",
    "#                                 code_block=tag_codeblock)\n",
    "\n",
    "# count = arcpy.GetCount_management(parcels_for_modeling_layer)\n",
    "# print('There were {} \"{}\" parcels selected out of {}'.format(count, tag, count_all))\n",
    "# EducationDWS =  arcpy.FeatureClassToFeatureClass_conversion(parcels_for_modeling_layer, gdb2, '_21_EducationDWS')\n",
    "\n",
    "# #===================\n",
    "# # Tag HealthDWS\n",
    "# #===================\n",
    "\n",
    "# query= (\"\"\" Tag = 'HealthDWS' \"\"\")\n",
    "# arcpy.SelectLayerByAttribute_management(dws_lyr, 'NEW_SELECTION', query)\n",
    "# arcpy.SelectLayerByLocation_management(in_layer=parcels_for_modeling_layer,overlap_type=\"INTERSECT\",select_features=dws_lyr,\n",
    "#                                            selection_type='NEW_SELECTION')\n",
    "# tag=\"HealthDWS\"\n",
    "# arcpy.CalculateField_management(parcels_for_modeling_layer, field='TAG', expression=tag_expression.format(tag),expression_type=\"PYTHON3\",\n",
    "#                                 code_block=tag_codeblock)\n",
    "\n",
    "# count = arcpy.GetCount_management(parcels_for_modeling_layer)\n",
    "# print('There were {} \"{}\" parcels selected out of {}'.format(count, tag, count_all))\n",
    "# HealthDWS =  arcpy.FeatureClassToFeatureClass_conversion(parcels_for_modeling_layer, gdb2, '_22_HealthDWS')\n",
    "\n",
    "# #===================\n",
    "# # Tag RetailDWS\n",
    "# #===================\n",
    "\n",
    "# query= (\"\"\" Tag = 'RetailDWS' \"\"\")\n",
    "# arcpy.SelectLayerByAttribute_management(dws_lyr, 'NEW_SELECTION', query)\n",
    "# arcpy.SelectLayerByLocation_management(in_layer=parcels_for_modeling_layer,overlap_type=\"INTERSECT\",select_features=dws_lyr,\n",
    "#                                            selection_type='NEW_SELECTION')\n",
    "\n",
    "\n",
    "# tag=\"RetailDWS\"\n",
    "# arcpy.CalculateField_management(parcels_for_modeling_layer, field='TAG', expression=tag_expression.format(tag),expression_type=\"PYTHON3\",\n",
    "#                                 code_block=tag_codeblock)\n",
    "\n",
    "# count = arcpy.GetCount_management(parcels_for_modeling_layer)\n",
    "# print('There were {} \"{}\" parcels selected out of {}'.format(count, tag, count_all))\n",
    "# RetailDWS =  arcpy.FeatureClassToFeatureClass_conversion(parcels_for_modeling_layer, gdb2, '_23_RetailDWS')\n",
    "\n"
   ]
  },
  {
   "cell_type": "markdown",
   "metadata": {},
   "source": [
    "# Churches"
   ]
  },
  {
   "cell_type": "code",
   "execution_count": 17,
   "metadata": {},
   "outputs": [
    {
     "name": "stdout",
     "output_type": "stream",
     "text": [
      "There were 928 \"churches\" parcels selected out of 384322\n"
     ]
    }
   ],
   "source": [
    "query = (\"\"\" PROP_CLASS = 'ER' OR PROP_TYPE =  '956' \"\"\")\n",
    "arcpy.SelectLayerByAttribute_management(parcels_for_modeling_layer, 'NEW_SELECTION', query)\n",
    "\n",
    "tag=\"churches\"\n",
    "arcpy.CalculateField_management(parcels_for_modeling_layer, field='TAG', expression=tag_expression.format(tag),\n",
    "                                expression_type=\"PYTHON3\",code_block=tag_codeblock)\n",
    "\n",
    "# count the selected features\n",
    "count = arcpy.GetCount_management(parcels_for_modeling_layer)\n",
    "print('There were {} \"{}\" parcels selected out of {}'.format(count, tag, count_all))\n",
    "\n",
    "churches =  arcpy.FeatureClassToFeatureClass_conversion(parcels_for_modeling_layer, gdb2, '_11_churches')"
   ]
  },
  {
   "cell_type": "markdown",
   "metadata": {},
   "source": [
    "# Education"
   ]
  },
  {
   "cell_type": "code",
   "execution_count": 18,
   "metadata": {},
   "outputs": [
    {
     "name": "stdout",
     "output_type": "stream",
     "text": [
      "There were 699 \"education\" parcels selected out of 384322\n"
     ]
    }
   ],
   "source": [
    "query = (\"\"\" PROP_TYPE =  '954' OR PROP_TYPE =  '577' OR TAXEXEMPT_TYPE = 'EE' \"\"\")\n",
    "arcpy.SelectLayerByAttribute_management(parcels_for_modeling_layer, 'NEW_SELECTION', query)\n",
    "\n",
    "tag=\"education\"\n",
    "arcpy.CalculateField_management(parcels_for_modeling_layer, field='TAG', expression=tag_expression.format(tag),\n",
    "                                expression_type=\"PYTHON3\",code_block=tag_codeblock)\n",
    "\n",
    "# count the selected features\n",
    "count = arcpy.GetCount_management(parcels_for_modeling_layer)\n",
    "print('There were {} \"{}\" parcels selected out of {}'.format(count, tag, count_all))\n",
    "\n",
    "education =  arcpy.FeatureClassToFeatureClass_conversion(parcels_for_modeling_layer, gdb2, '_10_education')"
   ]
  },
  {
   "cell_type": "markdown",
   "metadata": {},
   "source": [
    "# Healthcare"
   ]
  },
  {
   "cell_type": "code",
   "execution_count": 19,
   "metadata": {},
   "outputs": [
    {
     "name": "stdout",
     "output_type": "stream",
     "text": [
      "There were 481 \"healthcare\" parcels selected out of 384322\n"
     ]
    }
   ],
   "source": [
    "query = (\"\"\" PROP_TYPE in ('524','547','560') \"\"\")\n",
    "arcpy.SelectLayerByAttribute_management(parcels_for_modeling_layer, 'NEW_SELECTION', query)\n",
    "\n",
    "# add parcels that overlap with healthcare points - currently excluding nursing homes\n",
    "healthcare_facilties_lyr = arcpy.MakeFeatureLayer_management('.\\\\Inputs\\\\HealthCareFacilities.shp','healthcare_facilties_lyr') \n",
    "query = \"\"\" TYPE NOT IN ('NURSING HOME', 'ASSISTED LIVING FACILITY') \"\"\"\n",
    "arcpy.SelectLayerByAttribute_management(healthcare_facilties_lyr, 'NEW_SELECTION', query)\n",
    "arcpy.SelectLayerByLocation_management(in_layer=parcels_for_modeling_layer,overlap_type=\"INTERSECT\",\n",
    "                                       select_features=healthcare_facilties_lyr,\n",
    "                                       selection_type='ADD_TO_SELECTION')\n",
    "\n",
    "tag = 'healthcare'\n",
    "arcpy.CalculateField_management(parcels_for_modeling_layer, field='TAG', expression=tag_expression.format(tag),\n",
    "                                expression_type=\"PYTHON3\",code_block=tag_codeblock)\n",
    "\n",
    "# count the selected features\n",
    "count = arcpy.GetCount_management(parcels_for_modeling_layer)\n",
    "print('There were {} \"{}\" parcels selected out of {}'.format(count, tag, count_all))\n",
    "\n",
    "healthcare = arcpy.FeatureClassToFeatureClass_conversion(parcels_for_modeling_layer, gdb2, '_13_healthcare')"
   ]
  },
  {
   "cell_type": "markdown",
   "metadata": {},
   "source": [
    "# Government"
   ]
  },
  {
   "cell_type": "code",
   "execution_count": 20,
   "metadata": {},
   "outputs": [
    {
     "name": "stdout",
     "output_type": "stream",
     "text": [
      "There were 5845 \"government\" parcels selected out of 384322\n"
     ]
    }
   ],
   "source": [
    "query = (\"\"\" PROP_TYPE IN ('570','953','955') \"\"\")\n",
    "arcpy.SelectLayerByAttribute_management(parcels_for_modeling_layer, 'NEW_SELECTION', query)\n",
    "\n",
    "tag=\"government\"\n",
    "arcpy.CalculateField_management(parcels_for_modeling_layer, field='TAG', expression=tag_expression.format(tag),expression_type=\"PYTHON3\",\n",
    "                                code_block=tag_codeblock)\n",
    "\n",
    "# count the selected features\n",
    "count = arcpy.GetCount_management(parcels_for_modeling_layer)\n",
    "print('There were {} \"{}\" parcels selected out of {}'.format(count, tag, count_all))\n",
    "\n",
    "government = arcpy.FeatureClassToFeatureClass_conversion(parcels_for_modeling_layer, gdb2, '_08_government')"
   ]
  },
  {
   "cell_type": "markdown",
   "metadata": {},
   "source": [
    "# Industrial"
   ]
  },
  {
   "cell_type": "code",
   "execution_count": 21,
   "metadata": {},
   "outputs": [
    {
     "name": "stdout",
     "output_type": "stream",
     "text": [
      "There were 8586 \"industrial\" parcels selected out of 384322\n"
     ]
    }
   ],
   "source": [
    "query = (\"\"\" PROP_TYPE IN ('200','202','203','695','795','915') OR PROP_CLASS = 'I' \"\"\")\n",
    "arcpy.SelectLayerByAttribute_management(parcels_for_modeling_layer, 'NEW_SELECTION', query)\n",
    "\n",
    "tag=\"industrial\"\n",
    "arcpy.CalculateField_management(parcels_for_modeling_layer, field='TAG',expression=tag_expression.format(tag),\n",
    "                                expression_type=\"PYTHON3\",code_block=tag_codeblock)\n",
    "\n",
    "# count the selected features\n",
    "count = arcpy.GetCount_management(parcels_for_modeling_layer)\n",
    "print('There were {} \"{}\" parcels selected out of {}'.format(count, tag, count_all))\n",
    "\n",
    "industrial =  arcpy.FeatureClassToFeatureClass_conversion(parcels_for_modeling_layer, gdb2, '_04_industrial')"
   ]
  },
  {
   "cell_type": "markdown",
   "metadata": {},
   "source": [
    "# Retail\n",
    "- [ ] add in extra keywords"
   ]
  },
  {
   "cell_type": "code",
   "execution_count": 22,
   "metadata": {},
   "outputs": [
    {
     "name": "stdout",
     "output_type": "stream",
     "text": [
      "There were 5113 \"retail\" parcels selected out of 384322\n"
     ]
    }
   ],
   "source": [
    "query=(\"\"\" PROP_TYPE IN ('513','514','515','516','528','529','530','536','548','549','551','553','562','564','573','574',\n",
    "            '575','582','583','584','591','675','749','775','914') \"\"\")\n",
    "\n",
    "arcpy.SelectLayerByAttribute_management(parcels_for_modeling_layer, 'NEW_SELECTION', query)\n",
    "\n",
    "tag=\"retail\"\n",
    "arcpy.CalculateField_management(parcels_for_modeling_layer, field='TAG', expression=tag_expression.format(tag),\n",
    "                                expression_type=\"PYTHON3\",code_block=tag_codeblock)\n",
    "# count the selected features\n",
    "count = arcpy.GetCount_management(parcels_for_modeling_layer)\n",
    "print('There were {} \"{}\" parcels selected out of {}'.format(count, tag, count_all))\n",
    "\n",
    "retail = arcpy.FeatureClassToFeatureClass_conversion(parcels_for_modeling_layer, gdb2, '_06_retail')"
   ]
  },
  {
   "cell_type": "markdown",
   "metadata": {},
   "source": [
    "# Office"
   ]
  },
  {
   "cell_type": "code",
   "execution_count": 23,
   "metadata": {},
   "outputs": [
    {
     "name": "stdout",
     "output_type": "stream",
     "text": [
      "There were 2958 \"office\" parcels selected out of 384322\n"
     ]
    }
   ],
   "source": [
    "query= (\"\"\"PROP_TYPE IN ('566','590','760','916') \"\"\")\n",
    "arcpy.SelectLayerByAttribute_management(parcels_for_modeling_layer, 'NEW_SELECTION', query)\n",
    "\n",
    "tag=\"office\"\n",
    "arcpy.CalculateField_management(parcels_for_modeling_layer, field='TAG', expression=tag_expression.format(tag),\n",
    "                                expression_type=\"PYTHON3\",code_block=tag_codeblock)\n",
    "\n",
    "# count the selected features\n",
    "count = arcpy.GetCount_management(parcels_for_modeling_layer)\n",
    "print('There were {} \"{}\" parcels selected out of {}'.format(count, tag, count_all))\n",
    "\n",
    "office = arcpy.FeatureClassToFeatureClass_conversion(parcels_for_modeling_layer, gdb2, '_07_office')"
   ]
  },
  {
   "cell_type": "markdown",
   "metadata": {},
   "source": [
    "# Open space"
   ]
  },
  {
   "cell_type": "code",
   "execution_count": 24,
   "metadata": {},
   "outputs": [
    {
     "name": "stdout",
     "output_type": "stream",
     "text": [
      "There were 7105 \"open_space\" parcels selected out of 384322\n"
     ]
    }
   ],
   "source": [
    "# get parcels on parks\n",
    "parks = \".\\\\Inputs\\\\ParksLocal.shp\"\n",
    "arcpy.SelectLayerByLocation_management(in_layer=parcels_for_modeling_layer,overlap_type=\"HAVE_THEIR_CENTER_IN\",\n",
    "                                       select_features=parks,\n",
    "                                       selection_type='NEW_SELECTION')\n",
    "\n",
    "# get parcels on public lands that aren't military\n",
    "land_ownership_lyr = arcpy.MakeFeatureLayer_management('.\\\\Inputs\\\\UT_SITLA_Ownership_LandOwnership_WM.shp', \n",
    "                                                                'land_ownership_lyr') \n",
    "\n",
    "query= (\"\"\" OWNER <> 'Private' And DESIG <> 'Military' \"\"\")\n",
    "arcpy.SelectLayerByAttribute_management(land_ownership_lyr, 'NEW_SELECTION', query)\n",
    "\n",
    "arcpy.SelectLayerByLocation_management(in_layer=parcels_for_modeling_layer,overlap_type=\"HAVE_THEIR_CENTER_IN\",\n",
    "                                       select_features=land_ownership_lyr,\n",
    "                                       selection_type='ADD_TO_SELECTION')\n",
    "\n",
    "\n",
    "\n",
    "# get cemetery parcels using overlay\n",
    "cemeteries_lyr = arcpy.MakeFeatureLayer_management('.\\\\Inputs\\\\Cemeteries.shp','cemeteries_lyr') \n",
    "arcpy.SelectLayerByLocation_management(in_layer=parcels_for_modeling_layer,overlap_type=\"INTERSECT\",\n",
    "                                       select_features=cemeteries_lyr,\n",
    "                                       selection_type='ADD_TO_SELECTION')\n",
    "\n",
    "# get parcels that are golf courses using overlay\n",
    "golf_courses = \".\\\\Inputs\\\\GolfCourses.shp\"\n",
    "arcpy.SelectLayerByLocation_management(in_layer=parcels_for_modeling_layer,overlap_type=\"HAVE_THEIR_CENTER_IN\",\n",
    "                                       select_features=golf_courses,\n",
    "                                       selection_type='ADD_TO_SELECTION')\n",
    "\n",
    "# get open space parcels using query\n",
    "query= (\"\"\" PROP_TYPE IN ('951','960','961') OR TAXEXEMPT_TYPE = 'CM' \"\"\")\n",
    "arcpy.SelectLayerByAttribute_management(parcels_for_modeling_layer, 'ADD_TO_SELECTION', query)\n",
    "\n",
    "\n",
    "tag = \"open_space\"\n",
    "arcpy.CalculateField_management(parcels_for_modeling_layer, field='TAG', expression=tag_expression.format(tag),\n",
    "                                expression_type=\"PYTHON3\",code_block=tag_codeblock)\n",
    "\n",
    "# count the selected features\n",
    "count = arcpy.GetCount_management(parcels_for_modeling_layer)\n",
    "print('There were {} \"{}\" parcels selected out of {}'.format(count, tag, count_all))\n",
    "\n",
    "open_space = arcpy.FeatureClassToFeatureClass_conversion(parcels_for_modeling_layer, gdb2, '_17_open_space')"
   ]
  },
  {
   "cell_type": "markdown",
   "metadata": {},
   "source": [
    "# Agriculture"
   ]
  },
  {
   "cell_type": "code",
   "execution_count": 25,
   "metadata": {},
   "outputs": [
    {
     "name": "stdout",
     "output_type": "stream",
     "text": [
      "There were 1299 \"agriculture\" parcels selected out of 384322\n"
     ]
    }
   ],
   "source": [
    "query = \"\"\" PROP_TYPE IN ('811','812','816','817', '818','830','850') \"\"\"\n",
    "arcpy.SelectLayerByAttribute_management(parcels_for_modeling_layer, 'NEW_SELECTION', query)\n",
    "\n",
    "\n",
    "tag=\"agriculture\"\n",
    "arcpy.CalculateField_management(parcels_for_modeling_layer, field='TAG', expression=tag_expression.format(tag),expression_type=\"PYTHON3\",\n",
    "                                code_block=tag_codeblock)\n",
    "\n",
    "# count the selected features\n",
    "count = arcpy.GetCount_management(parcels_for_modeling_layer)\n",
    "print('There were {} \"{}\" parcels selected out of {}'.format(count, tag, count_all))\n",
    "\n",
    "agriculture = arcpy.FeatureClassToFeatureClass_conversion(parcels_for_modeling_layer, gdb2, '_09_agriculture')"
   ]
  },
  {
   "cell_type": "markdown",
   "metadata": {},
   "source": [
    "# Commercial"
   ]
  },
  {
   "cell_type": "code",
   "execution_count": 26,
   "metadata": {},
   "outputs": [
    {
     "name": "stdout",
     "output_type": "stream",
     "text": [
      "There were 21631 \"commercial\" parcels selected out of 384322\n"
     ]
    }
   ],
   "source": [
    "query=\"\"\" PROP_TYPE IN ('592', '593', '594', '595', '596') or PROP_CLASS = 'C' \"\"\"\n",
    "arcpy.SelectLayerByAttribute_management(parcels_for_modeling_layer, 'NEW_SELECTION', query)\n",
    "expression = \"createTag(!TAG!, '{}')\".format(tag) \n",
    "\n",
    "tag=\"commercial\"\n",
    "arcpy.CalculateField_management(parcels_for_modeling_layer, field='TAG', expression=tag_expression.format(tag),expression_type=\"PYTHON3\",\n",
    "                                code_block=tag_codeblock)\n",
    "\n",
    "# count the selected features\n",
    "count = arcpy.GetCount_management(parcels_for_modeling_layer)\n",
    "print('There were {} \"{}\" parcels selected out of {}'.format(count, tag, count_all))\n",
    "\n",
    "commercial = arcpy.FeatureClassToFeatureClass_conversion(parcels_for_modeling_layer, gdb2, '_05_commercial')"
   ]
  },
  {
   "cell_type": "markdown",
   "metadata": {},
   "source": [
    "# Corridors"
   ]
  },
  {
   "cell_type": "code",
   "execution_count": 27,
   "metadata": {},
   "outputs": [],
   "source": [
    "# query = (\"\"\" \"\"\")\n",
    "# arcpy.SelectLayerByAttribute_management(parcels_for_modeling_layer, 'NEW_SELECTION', query)\n",
    "# expression = \"createTag(!TAG!, '{}')\".format(tag) \n",
    "\n",
    "# tag=\"corridors\"\n",
    "# arcpy.CalculateField_management(parcels_for_modeling_layer, field='TAG', expression=tag_expression,expression_type=\"PYTHON3\",\n",
    "#                                 code_block=tag_codeblock)\n",
    "\n",
    "# # count the selected features\n",
    "# count = arcpy.GetCount_management(parcels_for_modeling_layer)\n",
    "# print('There were {} \"{}\" parcels selected out of {}'.format(count, tag, count_all))\n",
    "\n",
    "# corridors = arcpy.FeatureClassToFeatureClass_conversion(parcels_for_modeling_layer, gdb2, '_14_corridors')"
   ]
  },
  {
   "cell_type": "markdown",
   "metadata": {},
   "source": [
    "# Utilities"
   ]
  },
  {
   "cell_type": "code",
   "execution_count": 28,
   "metadata": {},
   "outputs": [],
   "source": [
    "# query= (\"\"\"  \"\"\")\n",
    "# arcpy.SelectLayerByAttribute_management(parcels_for_modeling_layer, 'NEW_SELECTION', query)\n",
    "\n",
    "# tag=\"utilities\"\n",
    "# arcpy.CalculateField_management(parcels_for_modeling_layer, field='TAG', expression=tag_expression,expression_type=\"PYTHON3\",\n",
    "#                                 code_block=tag_codeblock)\n",
    "\n",
    "# # count the selected features\n",
    "# count = arcpy.GetCount_management(parcels_for_modeling_layer)\n",
    "# print('There were {} \"{}\" parcels selected out of {}'.format(count, tag, count_all))\n",
    "\n",
    "# utilities = arcpy.FeatureClassToFeatureClass_conversion(parcels_for_modeling_layer, gdb2, '_15_utilities')"
   ]
  },
  {
   "cell_type": "markdown",
   "metadata": {},
   "source": [
    "# Mixed Use"
   ]
  },
  {
   "cell_type": "code",
   "execution_count": 29,
   "metadata": {},
   "outputs": [],
   "source": [
    "\n",
    "\n",
    "# query= (\"\"\"  \"\"\")\n",
    "# arcpy.SelectLayerByAttribute_management(parcels_for_modeling_layer, 'NEW_SELECTION', query)\n",
    "\n",
    "# tag = \"mixed_use\"\n",
    "# arcpy.CalculateField_management(parcels_for_modeling_layer, field='TAG', expression=tag_expression,expression_type=\"PYTHON3\",\n",
    "#                                 code_block=tag_codeblock)\n",
    "\n",
    "# # count the selected features\n",
    "# count = arcpy.GetCount_management(parcels_for_modeling_layer)\n",
    "# print('There were {} \"{}\" parcels selected out of {}'.format(count, tag, count_all))\n",
    "\n",
    "# mixed_use = arcpy.FeatureClassToFeatureClass_conversion(parcels_for_modeling_layer, gdb2, '_16_mixed_use')"
   ]
  },
  {
   "cell_type": "markdown",
   "metadata": {},
   "source": [
    "# Group Quarters"
   ]
  },
  {
   "cell_type": "code",
   "execution_count": 30,
   "metadata": {},
   "outputs": [
    {
     "name": "stdout",
     "output_type": "stream",
     "text": [
      "There were 146 \"group_quarters\" parcels selected out of 384322\n"
     ]
    }
   ],
   "source": [
    "query= (\"\"\" PROP_TYPE IN ('105','540','576') \"\"\")\n",
    "arcpy.SelectLayerByAttribute_management(parcels_for_modeling_layer, 'NEW_SELECTION', query)\n",
    "\n",
    "tag = \"group_quarters\"\n",
    "arcpy.CalculateField_management(parcels_for_modeling_layer, field='TAG', expression=tag_expression.format(tag),\n",
    "                                expression_type=\"PYTHON3\",\n",
    "                                code_block=tag_codeblock)\n",
    "\n",
    "# count the selected features\n",
    "count = arcpy.GetCount_management(parcels_for_modeling_layer)\n",
    "print('There were {} \"{}\" parcels selected out of {}'.format(count, tag, count_all))\n",
    "\n",
    "group_quarters = arcpy.FeatureClassToFeatureClass_conversion(parcels_for_modeling_layer, gdb2, '_16_group_quarters')"
   ]
  },
  {
   "cell_type": "markdown",
   "metadata": {},
   "source": [
    "# Common Areas"
   ]
  },
  {
   "cell_type": "code",
   "execution_count": 31,
   "metadata": {},
   "outputs": [
    {
     "name": "stdout",
     "output_type": "stream",
     "text": [
      "There were 2690 \"common_areas\" parcels selected out of 384322\n"
     ]
    }
   ],
   "source": [
    "query= (\"\"\" PROP_TYPE IN ('700','701','711') \"\"\")\n",
    "arcpy.SelectLayerByAttribute_management(parcels_for_modeling_layer, 'NEW_SELECTION', query)\n",
    "\n",
    "tag = \"common_areas\"\n",
    "arcpy.CalculateField_management(parcels_for_modeling_layer, field='TAG', expression=tag_expression.format(tag),\n",
    "                                expression_type=\"PYTHON3\",\n",
    "                                code_block=tag_codeblock)\n",
    "\n",
    "# count the selected features\n",
    "count = arcpy.GetCount_management(parcels_for_modeling_layer)\n",
    "print('There were {} \"{}\" parcels selected out of {}'.format(count, tag, count_all))\n",
    "\n",
    "common_areas = arcpy.FeatureClassToFeatureClass_conversion(parcels_for_modeling_layer, gdb2, '_17_common_areas')"
   ]
  },
  {
   "cell_type": "markdown",
   "metadata": {},
   "source": [
    "# Other Building Types"
   ]
  },
  {
   "cell_type": "code",
   "execution_count": 32,
   "metadata": {},
   "outputs": [],
   "source": [
    "# tag = \"other\"\n",
    "\n",
    "# query= (\"\"\"  \"\"\")\n",
    "# arcpy.SelectLayerByAttribute_management(parcels_for_modeling_layer, 'NEW_SELECTION', query)\n",
    "\n",
    "# tag = \"common_areas\"\n",
    "# arcpy.CalculateField_management(parcels_for_modeling_layer, field='TAG', expression=tag_expression.format(tag),\n",
    "# expression_type=\"PYTHON3\",code_block=tag_codeblock)\n",
    "\n",
    "# # count the selected features\n",
    "# count = arcpy.GetCount_management(parcels_for_modeling_layer)\n",
    "# print('There were {} \"{}\" parcels selected out of {}'.format(count, tag, count_all))\n",
    "\n",
    "# other = arcpy.FeatureClassToFeatureClass_conversion(parcels_for_modeling_layer, gdb2, '_16_other')"
   ]
  },
  {
   "cell_type": "markdown",
   "metadata": {},
   "source": [
    "# Single Family homes\n",
    "\n",
    "- [ ] Need to handle miscoded puds"
   ]
  },
  {
   "cell_type": "code",
   "execution_count": 34,
   "metadata": {},
   "outputs": [
    {
     "name": "stdout",
     "output_type": "stream",
     "text": [
      "There were 228693 \"single_family\" parcels selected out of 384322\n"
     ]
    }
   ],
   "source": [
    "# select parcels using query\n",
    "query = (''' PROP_TYPE IN ('111', '118', '888','994','998') ''')\n",
    "arcpy.SelectLayerByAttribute_management(parcels_for_modeling_layer, 'NEW_SELECTION', query)\n",
    "\n",
    "# assign the tag\n",
    "tag=\"single_family\"\n",
    "arcpy.CalculateField_management(parcels_for_modeling_layer, field='TAG', expression=tag_expression.format(tag),\n",
    "                                expression_type=\"PYTHON3\",\n",
    "                                code_block=tag_codeblock)\n",
    "\n",
    "# count the selected features\n",
    "count = arcpy.GetCount_management(parcels_for_modeling_layer)\n",
    "print('There were {} \"{}\" parcels selected out of {}'.format(count, tag, count_all))\n",
    "\n",
    "# convert to feature class\n",
    "single_family =  arcpy.FeatureClassToFeatureClass_conversion(parcels_for_modeling_layer, gdb2, '_02_single_family')"
   ]
  },
  {
   "cell_type": "markdown",
   "metadata": {},
   "source": [
    "## Mobile home parks"
   ]
  },
  {
   "cell_type": "code",
   "execution_count": 35,
   "metadata": {},
   "outputs": [
    {
     "name": "stdout",
     "output_type": "stream",
     "text": [
      "There were \"78\" mobile_home parcels selected out of 384322\n"
     ]
    }
   ],
   "source": [
    "# use overlay to select mobile home parks parcels\n",
    "mobile_home_parks = \".\\\\Inputs\\\\Mobile_Home_Parks.shp\"\n",
    "arcpy.SelectLayerByLocation_management(in_layer=parcels_for_modeling_layer,overlap_type=\"HAVE_THEIR_CENTER_IN\",\n",
    "                                       select_features=mobile_home_parks,\n",
    "                                       selection_type='NEW_SELECTION')\n",
    "\n",
    "# # select parcels using query\n",
    "# query = \"\"\" PROP_TYPE IN ('160','918','978','994','995') \"\"\"\n",
    "# arcpy.SelectLayerByAttribute_management(parcels_for_modeling_layer, 'ADD_TO_SELECTION', query)\n",
    "\n",
    "# assign the tag\n",
    "tag=\"mobile_home\"\n",
    "arcpy.CalculateField_management(parcels_for_modeling_layer, field='TAG', expression=tag_expression.format(tag),\n",
    "                                expression_type=\"PYTHON3\",\n",
    "                                code_block=tag_codeblock)\n",
    "\n",
    "# count the selected features\n",
    "count = arcpy.GetCount_management(parcels_for_modeling_layer)\n",
    "print('There were \"{}\" {} parcels selected out of {}'.format(count, tag, count_all))\n",
    "\n",
    "mobile_home_parks =  arcpy.FeatureClassToFeatureClass_conversion(parcels_for_modeling_layer, gdb2, '_24_mobile_homes')"
   ]
  },
  {
   "cell_type": "markdown",
   "metadata": {},
   "source": [
    "# Multi Family homes"
   ]
  },
  {
   "cell_type": "code",
   "execution_count": 36,
   "metadata": {},
   "outputs": [
    {
     "name": "stdout",
     "output_type": "stream",
     "text": [
      "There were \"10497\" multi_family parcels selected out of 384322\n"
     ]
    }
   ],
   "source": [
    "query = (''' PROP_TYPE IN ('112','120','150','199','563','611','612','613','614','615','620','649','650','660','699',\n",
    "            '713','889','972','976','996','997')  ''')\n",
    "arcpy.SelectLayerByAttribute_management(parcels_for_modeling_layer, 'NEW_SELECTION', query)\n",
    "\n",
    "\n",
    "\n",
    "# assign the tag\n",
    "tag=\"multi_family\"\n",
    "arcpy.CalculateField_management(parcels_for_modeling_layer, field='TAG', expression=tag_expression.format(tag),expression_type=\"PYTHON3\",\n",
    "                                code_block=tag_codeblock)\n",
    "\n",
    "# count the selected features\n",
    "count = arcpy.GetCount_management(parcels_for_modeling_layer)\n",
    "print('There were \"{}\" {} parcels selected out of {}'.format(count, tag, count_all))\n",
    "\n",
    "multi_family =  arcpy.FeatureClassToFeatureClass_conversion(parcels_for_modeling_layer, gdb2, '_03_multi_family')"
   ]
  },
  {
   "cell_type": "markdown",
   "metadata": {},
   "source": [
    "# Owned Unit Groupings"
   ]
  },
  {
   "cell_type": "code",
   "execution_count": 37,
   "metadata": {},
   "outputs": [],
   "source": [
    "# filter for common areas, some small office parks and a few other strange cases may be present\n",
    "# query = \"\"\" (TAXEXEMPT_TYPE = '700-Common Area') AND (PROP_CLASS <> '500- COMMERCIAL') \"\"\"\n",
    "query = \"\"\" (PROP_TYPE IN ('700','701','711')) AND (PROP_CLASS <> 'C') \"\"\"\n",
    "arcpy.SelectLayerByAttribute_management(parcels_for_modeling_layer, 'NEW_SELECTION', query)\n",
    "common_areas =  arcpy.FeatureClassToFeatureClass_conversion(parcels_for_modeling_layer, gdb, '_02_common_areas')\n",
    "\n",
    "# fill in holes via eliminate polygon part\n",
    "common_areas_filled = arcpy.EliminatePolygonPart_management(common_areas, os.path.join(gdb, '_03_common_areas_filled'),\n",
    "                                                      condition='PERCENT', part_area_percent=60, part_option='CONTAINED_ONLY')"
   ]
  },
  {
   "cell_type": "code",
   "execution_count": 38,
   "metadata": {},
   "outputs": [],
   "source": [
    "# get common areas, condos, and puds\n",
    "# query = (\"\"\" (PROP_CLASS IN ('116- CONDO', '119- PUD' )) OR\n",
    "# (TAXEXEMPT_TYPE = '700-Common Area') AND (PROP_CLASS <> 'C') \"\"\")\n",
    "query = \"\"\" (PROP_TYPE IN ('700','701','711', '119', '116', '922')) AND (PROP_CLASS <> 'C') \"\"\"\n",
    "arcpy.SelectLayerByAttribute_management(parcels_for_modeling_layer, 'NEW_SELECTION', query)\n",
    "common_areas_condos_puds =  arcpy.FeatureClassToFeatureClass_conversion(parcels_for_modeling_layer, gdb, \n",
    "                                                                        '_04_common_areas_condos_puds')\n",
    "\n",
    "common_areas_condos_puds_lyr = arcpy.MakeFeatureLayer_management(common_areas_condos_puds, 'common_areas_condos_puds_lyr')\n",
    "\n",
    "# get condos and puds\n",
    "# query = \"\"\" PROP_CLASS IN ('116- CONDO', '119- PUD' ) AND (TAXEXEMPT_TYPE <> '700-Common Area') AND (PROP_CLASS <> '500- COMMERCIAL') \"\"\"\n",
    "query = \"\"\" PROP_TYPE IN ('119','116') AND (PROP_CLASS <> 'C') \"\"\"\n",
    "\n",
    "arcpy.SelectLayerByAttribute_management(parcels_for_modeling_layer, 'NEW_SELECTION', query)\n",
    "condos_and_puds =  arcpy.FeatureClassToFeatureClass_conversion(parcels_for_modeling_layer, gdb, '_05a_condos_and_puds')\n",
    "\n",
    "# create condos and pud (CAP) centroids\n",
    "cap_centroids = arcpy.FeatureToPoint_management(condos_and_puds, os.path.join(gdb, '_05b_condos_and_puds_centroids'), \"INSIDE\")"
   ]
  },
  {
   "cell_type": "code",
   "execution_count": 39,
   "metadata": {},
   "outputs": [],
   "source": [
    "# # load centroids into dataframe\n",
    "# centroids_sdf = pd.DataFrame.spatial.from_featureclass(cap_centroids)\n",
    "\n",
    "# # get unique sub division values\n",
    "# sd_list = list(set(centroids_sdf['SUBDIV_NAME'].to_list()))\n",
    "# sd_list.sort()\n",
    "\n",
    "# # use dictionary comprehension\n",
    "# sd_dict = {sd: num for num, sd in enumerate(sd_list)}\n",
    "# #sd_dict\n",
    "\n",
    "# # map new values to new field\n",
    "# centroids_sdf['SUBDIV_NUM'] = centroids_sdf['SUBDIV_NAME'].map(sd_dict)\n",
    "# centroids_sdf[['SUBDIV_NAME','SUBDIV_NUM']].head(10)\n",
    "\n",
    "# #export back to gdb\n",
    "# cap_centroids = centroids_sdf.spatial.to_featureclass(location=os.path.join(gdb,'_05b_condos_and_puds_centroids'))"
   ]
  },
  {
   "cell_type": "code",
   "execution_count": 40,
   "metadata": {},
   "outputs": [],
   "source": [
    "# get parcels from filled common areas that overlap with centroids\n",
    "common_areas_filled_lyr = arcpy.MakeFeatureLayer_management(common_areas_filled, 'common_areas_filled_lyr') \n",
    "\n",
    "arcpy.SelectLayerByLocation_management(in_layer=common_areas_filled_lyr , overlap_type=\"CONTAINS\", \n",
    "                                       select_features=cap_centroids, selection_type='NEW_SELECTION')\n",
    "\n",
    "common_areas_containing_units = arcpy.FeatureClassToFeatureClass_conversion(common_areas_filled_lyr, gdb, \n",
    "                                                                            '_06_common_areas_containing_units')\n",
    "\n",
    "# get parcels (from parcels for modeling) that do not overlap with filled parcels that contained units\n",
    "arcpy.SelectLayerByLocation_management(in_layer=common_areas_condos_puds_lyr,overlap_type=\"WITHIN\",\n",
    "                                       select_features=common_areas_containing_units,\n",
    "                                       selection_type='NEW_SELECTION', invert_spatial_relationship='INVERT')\n",
    "\n",
    "leftover_parcels = arcpy.FeatureClassToFeatureClass_conversion(common_areas_condos_puds_lyr, gdb, \n",
    "                                                                            '_07_leftover_parcels')\n",
    "\n",
    "# dissolve these parcels unchecking create multipart\n",
    "leftover_parcels_dissolved = arcpy.Dissolve_management(leftover_parcels, os.path.join(gdb,\"_08_leftover_parcels_dissolved\"),\n",
    "                                                       multi_part=\"SINGLE_PART\")\n",
    "\n",
    "# fill in holes via eliminate polygon part\n",
    "leftover_parcels_filled = arcpy.EliminatePolygonPart_management(leftover_parcels_dissolved,\n",
    "                                                                os.path.join(gdb, '_09_leftover_parcels_filled'),\n",
    "                                                                condition='PERCENT', part_area_percent=60, \n",
    "                                                                part_option='CONTAINED_ONLY')"
   ]
  },
  {
   "cell_type": "code",
   "execution_count": 41,
   "metadata": {},
   "outputs": [
    {
     "data": {
      "text/html": [
       "<h2>Output</h2>.\\Outputs\\saltlake.gdb\\_10_owned_unit_groupings_bdry<h2>Messages</h2>Start Time: Wednesday, December 16, 2020 1:48:06 PM<br/>Succeeded at Wednesday, December 16, 2020 1:48:09 PM (Elapsed Time: 3.14 seconds)<br/><style>.rendered_html td, .rendered_html th {text-align: left;}.rendered_html tbody {border: 1px solid black;}</style>"
      ],
      "text/plain": [
       "<Result '.\\\\Outputs\\\\saltlake.gdb\\\\_10_owned_unit_groupings_bdry'>"
      ]
     },
     "execution_count": 41,
     "metadata": {},
     "output_type": "execute_result"
    }
   ],
   "source": [
    "# merge first set of parcels with dissolved parcels\n",
    "owned_unit_groupings_bdry = arcpy.Merge_management([common_areas_containing_units, leftover_parcels_filled], \n",
    "                                              os.path.join(gdb, \"_10_owned_unit_groupings_bdry\"))\n",
    "# delete all fields except required\n",
    "fieldObjList = arcpy.ListFields(owned_unit_groupings_bdry)\n",
    "fieldNameList = [field.name  for field in fieldObjList if not field.required]      \n",
    "arcpy.DeleteField_management(owned_unit_groupings_bdry, fieldNameList)        "
   ]
  },
  {
   "cell_type": "code",
   "execution_count": 42,
   "metadata": {},
   "outputs": [],
   "source": [
    "# run spatial join on common areas - summarize market value & acreage\n",
    "target_features = owned_unit_groupings_bdry\n",
    "join_features = cap_centroids\n",
    "output_features = os.path.join(gdb, \"_11_oug_sj\")\n",
    "\n",
    "fieldmappings = arcpy.FieldMappings()\n",
    "fieldmappings.addTable(target_features)\n",
    "fieldmappings.addTable(join_features)\n",
    "\n",
    "# total market value\n",
    "fieldindex = fieldmappings.findFieldMapIndex('TOTAL_MKT_VALUE')\n",
    "fieldmap = fieldmappings.getFieldMap(fieldindex)\n",
    "fieldmap.mergeRule = 'Sum'\n",
    "fieldmappings.replaceFieldMap(fieldindex, fieldmap)\n",
    "\n",
    "# parcel acres\n",
    "fieldindex = fieldmappings.findFieldMapIndex('PARCEL_ACRES')\n",
    "fieldmap = fieldmappings.getFieldMap(fieldindex)\n",
    "fieldmap.mergeRule = 'Sum'\n",
    "fieldmappings.replaceFieldMap(fieldindex, fieldmap)\n",
    "\n",
    "# # parcel acres\n",
    "# fieldindex = fieldmappings.findFieldMapIndex('SUBDIV_NUM')\n",
    "# fieldmap = fieldmappings.getFieldMap(fieldindex)\n",
    "# fieldmap.mergeRule = 'Mode'\n",
    "# fieldmappings.replaceFieldMap(fieldindex, fieldmap)\n",
    "\n",
    "\n",
    "oug_sj = arcpy.SpatialJoin_analysis(target_features, join_features, output_features,'JOIN_ONE_TO_ONE', \"KEEP_ALL\", \n",
    "                           fieldmappings, \"CONTAINS\")\n",
    "\n",
    "# # dissolve these parcels unchecking create multipart\n",
    "# oug_sj_dissolve = arcpy.Dissolve_management(oug_sj,os.path.join(gdb,\"_12_oug_sj_dissolve\"),dissolve_field=[\"SUBDIV_NUM\"],\n",
    "#                                             multi_part=\"SINGLE_PART\")\n"
   ]
  },
  {
   "cell_type": "code",
   "execution_count": 43,
   "metadata": {},
   "outputs": [
    {
     "name": "stdout",
     "output_type": "stream",
     "text": [
      "There were 66471 parcels within OUGs selected out of 384322\n"
     ]
    }
   ],
   "source": [
    "# identify common areas that don't have a parcel centroid\n",
    "oug_lyr = arcpy.MakeFeatureLayer_management(oug_sj, 'oug_lyr')\n",
    "\n",
    "arcpy.SelectLayerByLocation_management(in_layer=oug_lyr , overlap_type=\"CONTAINS\", \n",
    "                                       select_features=cap_centroids, selection_type='NEW_SELECTION', \n",
    "                                       invert_spatial_relationship='INVERT')\n",
    "\n",
    "empty_ougs = arcpy.FeatureClassToFeatureClass_conversion(oug_lyr, gdb, '_13_empty_ougs')\n",
    "\n",
    "\n",
    "\n",
    "# identify, tag, and count parcels that were grouped by dissolving final polys into single polygon\n",
    "oug_mp = arcpy.Dissolve_management(oug_sj,os.path.join(gdb,\"_14_oug_multipart\"))\n",
    "\n",
    "arcpy.SelectLayerByLocation_management(in_layer=parcels_for_modeling_layer , overlap_type=\"WITHIN\", \n",
    "                                       select_features=oug_mp, selection_type='NEW_SELECTION')\n",
    "tag=\"OUG\"\n",
    "arcpy.CalculateField_management(parcels_for_modeling_layer, field='TAG', expression=tag_expression.format(tag),expression_type=\"PYTHON3\",\n",
    "                                code_block=tag_codeblock)\n",
    "\n",
    "parcels_within_ougs = arcpy.FeatureClassToFeatureClass_conversion(parcels_for_modeling_layer, gdb, '_15_parcels_within_ougs')\n",
    "count = arcpy.GetCount_management(parcels_within_ougs)\n",
    "print('There were {} parcels within OUGs selected out of {}'.format(count, count_all))\n",
    "\n"
   ]
  },
  {
   "cell_type": "code",
   "execution_count": 44,
   "metadata": {},
   "outputs": [],
   "source": [
    "arcpy.SelectLayerByAttribute_management(parcels_for_modeling_layer, 'CLEAR_SELECTION')\n",
    "parcels_tagged = arcpy.FeatureClassToFeatureClass_conversion(parcels_for_modeling_layer, gdb2, '_01_parcels_tagged')"
   ]
  },
  {
   "cell_type": "markdown",
   "metadata": {},
   "source": [
    "### PAUSE - Review OUGs\n",
    "\n",
    "- created copy of oug layer called _12b_oug_qaqc\n",
    "- perform edits\n",
    "\n",
    "OUG TYPES:\n",
    "- SF - Single Family\n",
    "- CO - Condo Style\n",
    "- TH - Townhouse Style\n",
    "- DP - Duplex Style\n",
    "- MX - Mix of Owned Unit Styles (condos and townhouses)\n",
    "- DELETE OR MERGE (small pieces to ignore)\n",
    "- COMMON (stand alone park space to ignore for REMM etc)\n",
    "- AP - Apartment\n",
    "- Commercial \n",
    "- True Mixed Use (commercial + residential)\n",
    "- NC - No Associated Common Area (for Residential OUGs)\n",
    "- WC - With Common Area  (for Residential OUGs)\n",
    " \n",
    "EDITED column indicates shapes that I edited in one way or another."
   ]
  },
  {
   "cell_type": "markdown",
   "metadata": {},
   "source": [
    "## Create multifamily point dataset"
   ]
  },
  {
   "cell_type": "code",
   "execution_count": 43,
   "metadata": {},
   "outputs": [],
   "source": [
    "address_pts_lyr = arcpy.MakeFeatureLayer_management('.\\\\Inputs\\\\AddressPoints.gdb\\\\AddressPoints_Weber','address_pts_lyr')\n",
    "query = (''' PtType <> 'BASE ADDRESS' ''')\n",
    "arcpy.SelectLayerByAttribute_management(address_pts_lyr, 'NEW_SELECTION', query)\n",
    "address_pts_no_base = arcpy.FeatureClassToFeatureClass_conversion(address_pts_lyr, gdb3, '_01_address_pts_no_base')\n",
    "\n",
    "#==========================\n",
    "# multifamily unit parcels\n",
    "#==========================\n",
    "\n",
    "# summarize address points address_point_count \"ap_count\"\n",
    "target_features = multi_family\n",
    "join_features = address_pts_no_base\n",
    "output_features = os.path.join(gdb3, \"_02_multifamily_ap_sj\")\n",
    "multifamily_ap_sj = arcpy.SpatialJoin_analysis(target_features, join_features, output_features,'JOIN_ONE_TO_ONE', \"KEEP_ALL\", \n",
    "                                                   match_option=\"INTERSECTS\")\n",
    "\n",
    "#========================================================================================\n",
    "# mobile_home_parks parcels, will need to check for overlap with multifamily and remove\n",
    "#========================================================================================\n",
    "\n",
    "# summarize address points address_point_count \"ap_count\"\n",
    "target_features = mobile_home_parks\n",
    "join_features = address_pts_no_base\n",
    "output_features = os.path.join(gdb3, \"_02b_mobile_home_parks_ap_sj\")\n",
    "mobile_home_parks_ap_sj = arcpy.SpatialJoin_analysis(target_features, join_features, output_features,'JOIN_ONE_TO_ONE', \"KEEP_ALL\", \n",
    "                                                   match_option=\"INTERSECTS\")\n",
    "\n",
    "#===============\n",
    "# Edited OUGs\n",
    "#===============\n",
    "\n",
    "oug_edited = '.\\\\Inputs\\\\Weber_OUG_Areas_Edited.gdb\\\\Weber_OUGManualEdit_andReview_20201017'\n",
    "\n",
    "\n",
    "# summarize address points address_point_count \"ap_count\"\n",
    "target_features = oug_edited\n",
    "join_features = address_pts_no_base\n",
    "output_features = os.path.join(gdb3, \"_03_oug_cap_sj\")\n",
    "\n",
    "oug_ap_sj = arcpy.SpatialJoin_analysis(target_features, join_features, output_features,'JOIN_ONE_TO_ONE', \"KEEP_ALL\", \n",
    "                           match_option=\"INTERSECTS\")\n",
    "\n",
    "# summarize parcels within OUGs - count, sum of total market value, land market value, parcel acres, mode of subdivision number\n",
    "target_features = oug_edited\n",
    "join_features = cap_centroids\n",
    "output_features = os.path.join(gdb2, \"_04_oug_cpud_sj\")\n",
    "\n",
    "fieldmappings = arcpy.FieldMappings()\n",
    "fieldmappings.addTable(target_features)\n",
    "fieldmappings.addTable(join_features)\n",
    "\n",
    "# total market value\n",
    "fieldindex = fieldmappings.findFieldMapIndex('TOTAL_MKT_VALUE')\n",
    "fieldmap = fieldmappings.getFieldMap(fieldindex)\n",
    "fieldmap.mergeRule = 'Sum'\n",
    "fieldmappings.replaceFieldMap(fieldindex, fieldmap)\n",
    "\n",
    "# land market value\n",
    "fieldindex = fieldmappings.findFieldMapIndex('LAND_MKT_VALUE')\n",
    "fieldmap = fieldmappings.getFieldMap(fieldindex)\n",
    "fieldmap.mergeRule = 'Sum'\n",
    "fieldmappings.replaceFieldMap(fieldindex, fieldmap)\n",
    "\n",
    "# parcel acres\n",
    "fieldindex = fieldmappings.findFieldMapIndex('PARCEL_ACRES')\n",
    "fieldmap = fieldmappings.getFieldMap(fieldindex)\n",
    "fieldmap.mergeRule = 'Sum'\n",
    "fieldmappings.replaceFieldMap(fieldindex, fieldmap)\n",
    "\n",
    "# SUBDIV_NUM\n",
    "fieldindex = fieldmappings.findFieldMapIndex('SUBDIV_NUM')\n",
    "fieldmap = fieldmappings.getFieldMap(fieldindex)\n",
    "fieldmap.mergeRule = 'Mode'\n",
    "fieldmappings.replaceFieldMap(fieldindex, fieldmap)\n",
    "\n",
    "oug_cpud_sj = arcpy.SpatialJoin_analysis(target_features, join_features, output_features,'JOIN_ONE_TO_ONE', \"KEEP_ALL\", \n",
    "                           fieldmappings, \"INTERSECTS\")"
   ]
  },
  {
   "cell_type": "code",
   "execution_count": 44,
   "metadata": {},
   "outputs": [],
   "source": [
    "# format the attributes\n",
    "multifamily_ap_sj_sdf = pd.DataFrame.spatial.from_featureclass(multifamily_ap_sj)\n",
    "multifamily_ap_sj_sdf.rename(columns={'Join_Count':'AP_Count'}, inplace=True)\n",
    "\n",
    "mhp_ap_sj_sdf = pd.DataFrame.spatial.from_featureclass(mobile_home_parks_ap_sj)\n",
    "mhp_ap_sj_sdf.rename(columns={'Join_Count':'AP_Count'}, inplace=True)\n",
    "\n",
    "oug_ap_sj_sdf = pd.DataFrame.spatial.from_featureclass(oug_ap_sj)\n",
    "oug_ap_sj_sdf.rename(columns={'Join_Count':'AP_Count'}, inplace=True)\n",
    "oug_ap_sj_sdf.rename(columns={'Review':'OUG_TYPE'}, inplace=True)\n",
    "\n",
    "oug_cpud_sj_sdf = pd.DataFrame.spatial.from_featureclass(oug_cpud_sj)\n",
    "oug_cpud_sj_sdf = oug_cpud_sj_sdf[['Join_Count','TARGET_FID','TOTAL_MKT_VALUE','LAND_MKT_VALUE','PARCEL_ACRES','SUBDIV_NUM']].copy()\n",
    "oug_cpud_sj_sdf.rename(columns={'Join_Count':'CPUD_Count'}, inplace=True)\n",
    "oug_cpud_sj_sdf.rename(columns={'TOTAL_MKT_VALUE':'TOTAL_MKT_VALUE_SUM'}, inplace=True)\n",
    "oug_cpud_sj_sdf.rename(columns={'LAND_MKT_VALUE':'LAND_MKT_VALUE_SUM'}, inplace=True)\n",
    "oug_cpud_sj_sdf.rename(columns={'PARCEL_ACRES':'PARCEL_ACRES_SUM'}, inplace=True)\n",
    "oug_cpud_sj_sdf.rename(columns={'SUBDIV_NUM':'SUBDIV_NUM_MODE'}, inplace=True)\n",
    "\n",
    "# join oug tables\n",
    "oug_sj_sdf = oug_ap_sj_sdf.merge(oug_cpud_sj_sdf, left_on = 'TARGET_FID', right_on = 'TARGET_FID' , how = 'inner')\n",
    "\n",
    "# add source/type field\n",
    "oug_sj_sdf['WFRC_Source'] = 'OUG'\n",
    "multifamily_ap_sj_sdf['WFRC_Source'] = 'MF'\n",
    "mhp_ap_sj_sdf['WFRC_Source'] = 'MHP'"
   ]
  },
  {
   "cell_type": "code",
   "execution_count": 45,
   "metadata": {},
   "outputs": [],
   "source": [
    "# add final unit count field\n",
    "oug_sj_sdf['Unit_Count'] = np.nan\n",
    "multifamily_ap_sj_sdf['Unit_Count'] = np.nan\n",
    "mhp_ap_sj_sdf['Unit_Count'] = np.nan\n",
    "\n",
    "# calc value for duplexes\n",
    "multifamily_ap_sj_sdf.loc[multifamily_ap_sj_sdf['PROP_CLASS']=='112- DUPLEX', 'Unit_Count'] = 2\n",
    "\n",
    "# set remaining count using Address points count\n",
    "multifamily_ap_sj_sdf['Unit_Count'] = multifamily_ap_sj_sdf['Unit_Count'].fillna(multifamily_ap_sj_sdf['AP_Count'])\n",
    "oug_sj_sdf['Unit_Count'] = oug_sj_sdf['Unit_Count'].fillna(oug_sj_sdf['AP_Count'])\n",
    "mhp_ap_sj_sdf['Unit_Count'] = mhp_ap_sj_sdf['Unit_Count'].fillna(mhp_ap_sj_sdf['AP_Count'])\n",
    "\n"
   ]
  },
  {
   "cell_type": "code",
   "execution_count": 46,
   "metadata": {},
   "outputs": [],
   "source": [
    "# subset columns for multi family and mobile home parks\n",
    "fields_to_keep = ['Unit_Count', 'AP_Count', 'TOTAL_MKT_VALUE', 'LAND_MKT_VALUE','PARCEL_ACRES', \n",
    "                  'WFRC_Source','SHAPE']\n",
    "\n",
    "multifamily_ap_sj_sdf = multifamily_ap_sj_sdf[fields_to_keep]\n",
    "mhp_ap_sj_sdf = mhp_ap_sj_sdf[fields_to_keep]\n",
    "\n",
    "# subset columns for OUG\n",
    "fields_to_keep = ['Unit_Count', 'AP_Count','CPUD_Count', 'OUG_TYPE', 'TOTAL_MKT_VALUE_SUM',\n",
    "                  'LAND_MKT_VALUE_SUM','PARCEL_ACRES_SUM','SUBDIV_NUM_MODE','WFRC_Source', 'SHAPE']\n",
    "\n",
    "oug_sj_sdf = oug_sj_sdf[fields_to_keep]"
   ]
  },
  {
   "cell_type": "code",
   "execution_count": 47,
   "metadata": {},
   "outputs": [],
   "source": [
    "# convert back to features than to points\n",
    "multifamily_ap_sj_sdf.spatial.to_featureclass(location=os.path.join(gdb3, \"_04_multifamily_sj_renamed\"))\n",
    "oug_sj_sdf.spatial.to_featureclass(location=os.path.join(gdb3, \"_05_oug_sj_renamed\"))\n",
    "mhp_ap_sj_sdf.spatial.to_featureclass(location=os.path.join(gdb3, \"_06_mhp_sj_renamed\"))\n",
    "\n",
    "\n",
    "mf_centroids = arcpy.FeatureToPoint_management(os.path.join(gdb3, \"_04_multifamily_sj_renamed\"), \n",
    "                                                    os.path.join(gdb3, '_07_multifamily_pts'), \"INSIDE\")\n",
    "\n",
    "oug_centroids = arcpy.FeatureToPoint_management(os.path.join(gdb3, \"_05_oug_sj_renamed\"),\n",
    "                                                    os.path.join(gdb3, '_08_owned_unit_groupings_pts'), \"INSIDE\")\n",
    "\n",
    "mhp_centroids = arcpy.FeatureToPoint_management(os.path.join(gdb3, \"_06_mhp_sj_renamed\"), \n",
    "                                                    os.path.join(gdb3, '_09_mobile_home_park_pts'), \"INSIDE\")"
   ]
  },
  {
   "cell_type": "code",
   "execution_count": 48,
   "metadata": {},
   "outputs": [
    {
     "data": {
      "text/html": [
       "<h2>Output</h2>.\\Outputs\\weber3.gdb\\_10_all_multifamily_pts<h2>Messages</h2>Start Time: Wednesday, November 18, 2020 11:37:48 AM<br/>Succeeded at Wednesday, November 18, 2020 11:37:48 AM (Elapsed Time: 0.86 seconds)<br/><style>.rendered_html td, .rendered_html th {text-align: left;}.rendered_html tbody {border: 1px solid black;}</style>"
      ],
      "text/plain": [
       "<Result '.\\\\Outputs\\\\weber3.gdb\\\\_10_all_multifamily_pts'>"
      ]
     },
     "execution_count": 48,
     "metadata": {},
     "output_type": "execute_result"
    }
   ],
   "source": [
    "# Merge the three point datasets together\n",
    "arcpy.Merge_management([mf_centroids, oug_centroids, mhp_centroids], \n",
    "                           os.path.join(gdb3, '_10_all_multifamily_pts'), \"\", \"ADD_SOURCE_INFO\")"
   ]
  },
  {
   "cell_type": "code",
   "execution_count": null,
   "metadata": {},
   "outputs": [],
   "source": []
  },
  {
   "cell_type": "code",
   "execution_count": null,
   "metadata": {},
   "outputs": [],
   "source": []
  },
  {
   "cell_type": "code",
   "execution_count": null,
   "metadata": {},
   "outputs": [],
   "source": []
  }
 ],
 "metadata": {
  "kernelspec": {
   "display_name": "joshPy3",
   "language": "python",
   "name": "joshpy3"
  },
  "language_info": {
   "codemirror_mode": {
    "name": "ipython",
    "version": 3
   },
   "file_extension": ".py",
   "mimetype": "text/x-python",
   "name": "python",
   "nbconvert_exporter": "python",
   "pygments_lexer": "ipython3",
   "version": "3.6.10"
  }
 },
 "nbformat": 4,
 "nbformat_minor": 4
}
