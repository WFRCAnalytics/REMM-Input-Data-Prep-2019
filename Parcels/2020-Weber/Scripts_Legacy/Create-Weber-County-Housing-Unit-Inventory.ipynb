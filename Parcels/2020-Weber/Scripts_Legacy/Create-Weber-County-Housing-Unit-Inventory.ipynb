{
 "cells": [
  {
   "cell_type": "markdown",
   "metadata": {},
   "source": [
    "### Requirements\n",
    "- Weber County LIR Parcels (2019)\n",
    "- TAZ Boundaries\n",
    "- Owned Unit Groupings Boundaries\n",
    "- Address points"
   ]
  },
  {
   "cell_type": "code",
   "execution_count": 1,
   "metadata": {
    "ExecuteTime": {
     "end_time": "2021-08-04T19:54:31.377613Z",
     "start_time": "2021-08-04T19:54:23.614679Z"
    }
   },
   "outputs": [],
   "source": [
    "import arcpy\n",
    "import os\n",
    "import pandas as pd\n",
    "from arcgis import GIS\n",
    "import numpy as np\n",
    "from arcgis.features import GeoAccessor, GeoSeriesAccessor\n",
    "arcpy.env.overwriteOutput = True\n",
    "\n",
    "# show all columns\n",
    "pd.options.display.max_columns = None\n",
    "\n",
    "# pd.DataFrame.spatial.from_featureclass(???)\n",
    "# df.spatial.to_featureclass(location=???,sanitize_columns=False)"
   ]
  },
  {
   "cell_type": "markdown",
   "metadata": {},
   "source": [
    "## Inputs"
   ]
  },
  {
   "cell_type": "code",
   "execution_count": 2,
   "metadata": {
    "ExecuteTime": {
     "end_time": "2021-08-04T19:54:31.392855Z",
     "start_time": "2021-08-04T19:54:31.377613Z"
    }
   },
   "outputs": [],
   "source": [
    "taz_shp = '.\\\\Inputs\\\\TAZ.shp'\n",
    "parcels = '.\\\\Inputs\\\\Utah_Weber_County_Parcels_LIR.gdb\\\\Parcels_Weber_LIR_UTM12'\n",
    "address_pts = '.\\\\Inputs\\\\AddressPoints.gdb\\\\AddressPoints_Weber'\n",
    "common_areas = '.\\\\Inputs\\\\Weber_Owned_Unit_Groupings.gdb\\\\Weber_Owned_Unit_Groupings'"
   ]
  },
  {
   "cell_type": "markdown",
   "metadata": {},
   "source": [
    "## Create geodatabases for output files"
   ]
  },
  {
   "cell_type": "code",
   "execution_count": 3,
   "metadata": {
    "ExecuteTime": {
     "end_time": "2021-08-04T19:54:31.526770Z",
     "start_time": "2021-08-04T19:54:31.396997Z"
    }
   },
   "outputs": [],
   "source": [
    "# create output gdb\n",
    "outputs = '.\\\\Outputs'\n",
    "gdb = os.path.join(outputs, \"classes_HUI.gdb\")\n",
    "if not arcpy.Exists(gdb):\n",
    "    arcpy.CreateFileGDB_management(outputs, \"classes_HUI.gdb\")\n",
    "    \n",
    "scratch = os.path.join(outputs, \"scratch_HUI.gdb\")\n",
    "if not arcpy.Exists(scratch):\n",
    "    arcpy.CreateFileGDB_management(outputs, \"scratch_HUI.gdb\")"
   ]
  },
  {
   "cell_type": "markdown",
   "metadata": {},
   "source": [
    "## Filter Address points (used later)"
   ]
  },
  {
   "cell_type": "code",
   "execution_count": 4,
   "metadata": {
    "ExecuteTime": {
     "end_time": "2021-08-04T19:54:38.650385Z",
     "start_time": "2021-08-04T19:54:31.526770Z"
    }
   },
   "outputs": [],
   "source": [
    "# get address points without base address point\n",
    "address_pts_lyr = arcpy.MakeFeatureLayer_management(address_pts,'address_pts_lyr')\n",
    "query = (''' PtType <> 'BASE ADDRESS' ''')\n",
    "arcpy.SelectLayerByAttribute_management(address_pts_lyr, 'NEW_SELECTION', query)\n",
    "address_pts_no_base = arcpy.FeatureClassToFeatureClass_conversion(address_pts_lyr, scratch, '_00_address_pts_no_base')"
   ]
  },
  {
   "cell_type": "markdown",
   "metadata": {},
   "source": [
    "## Prep main parcel layer"
   ]
  },
  {
   "cell_type": "code",
   "execution_count": 5,
   "metadata": {
    "ExecuteTime": {
     "end_time": "2021-08-04T19:54:53.740912Z",
     "start_time": "2021-08-04T19:54:38.654371Z"
    }
   },
   "outputs": [
    {
     "data": {
      "text/html": [
       "<h2>Output</h2>.\\Outputs\\scratch_HUI.gdb\\_01_parcels_for_modeling<h2>Messages</h2>Start Time: Wednesday, August 25, 2021 12:33:00 PM<br/>Succeeded at Wednesday, August 25, 2021 12:33:06 PM (Elapsed Time: 5.26 seconds)<br/><style>.rendered_html td, .rendered_html th {text-align: left;}.rendered_html tbody {border: 1px solid black;}</style>"
      ],
      "text/plain": [
       "<Result '.\\\\Outputs\\\\scratch_HUI.gdb\\\\_01_parcels_for_modeling'>"
      ]
     },
     "execution_count": 5,
     "metadata": {},
     "output_type": "execute_result"
    }
   ],
   "source": [
    "# select parcels within modeling area\n",
    "parcels_layer = arcpy.MakeFeatureLayer_management(parcels, 'parcels') \n",
    "arcpy.SelectLayerByLocation_management(parcels_layer, 'HAVE_THEIR_CENTER_IN', taz_shp)\n",
    "parcels_for_modeling = arcpy.FeatureClassToFeatureClass_conversion(parcels_layer, scratch, '_01_parcels_for_modeling')\n",
    "\n",
    "# recalc acreage \n",
    "arcpy.CalculateField_management(parcels_for_modeling, \"PARCEL_ACRES\", \"\"\"!SHAPE.area@ACRES!\"\"\", \"PYTHON3\")\n",
    "\n",
    "# create the main layer\n",
    "parcels_for_modeling_layer = arcpy.MakeFeatureLayer_management(parcels_for_modeling, 'parcels_for_modeling_lyr') \n",
    "\n",
    "# add second built year field\n",
    "arcpy.AddField_management(parcels_for_modeling, 'BUILT_YR2', 'SHORT')\n",
    "arcpy.CalculateField_management(parcels_for_modeling, \"BUILT_YR2\", \"\"\"!BUILT_YR!\"\"\", \"PYTHON3\")"
   ]
  },
  {
   "cell_type": "markdown",
   "metadata": {},
   "source": [
    "## More parcel prep"
   ]
  },
  {
   "cell_type": "code",
   "execution_count": 6,
   "metadata": {
    "ExecuteTime": {
     "end_time": "2021-08-04T19:54:55.839611Z",
     "start_time": "2021-08-04T19:54:53.741943Z"
    }
   },
   "outputs": [
    {
     "data": {
      "text/html": [
       "<h2>Output</h2>a Layer object<h2>Messages</h2>Start Time: Wednesday, August 25, 2021 12:33:08 PM<br/>Adding NOTE to _01_parcels_for_modeling...<br/>Succeeded at Wednesday, August 25, 2021 12:33:08 PM (Elapsed Time: 0.16 seconds)<br/><style>.rendered_html td, .rendered_html th {text-align: left;}.rendered_html tbody {border: 1px solid black;}</style>"
      ],
      "text/plain": [
       "<Result 'parcels_for_modeling_lyr'>"
      ]
     },
     "execution_count": 6,
     "metadata": {},
     "output_type": "execute_result"
    }
   ],
   "source": [
    "# add a field to indicate parcel type\n",
    "arcpy.AddField_management(parcels_for_modeling_layer, 'TYPE_WFRC', 'TEXT')\n",
    "arcpy.AddField_management(parcels_for_modeling_layer, 'SUBTYPE_WFRC', 'TEXT')\n",
    "arcpy.AddField_management(parcels_for_modeling_layer, 'NOTE', 'TEXT')"
   ]
  },
  {
   "cell_type": "code",
   "execution_count": 7,
   "metadata": {
    "ExecuteTime": {
     "end_time": "2021-08-04T19:55:08.501886Z",
     "start_time": "2021-08-04T19:54:55.840579Z"
    }
   },
   "outputs": [],
   "source": [
    "# count parts and rings\n",
    "arcpy.AddField_management(parcels_for_modeling_layer, 'PARTS', 'LONG')\n",
    "arcpy.AddField_management(parcels_for_modeling_layer, 'RINGS', 'LONG')\n",
    "\n",
    "fields = [\"shape@\", 'PARTS', 'RINGS']\n",
    "with arcpy.da.UpdateCursor(parcels_for_modeling_layer, fields) as cursor:\n",
    "    for row in cursor:\n",
    "        shape = row[0]\n",
    "        parts = shape.partCount\n",
    "        rings = shape.boundary().partCount   \n",
    "        row[1] = parts\n",
    "        row[2] = rings\n",
    "        cursor.updateRow(row)\n",
    "        \n",
    "\n",
    "# delete parcels with empty geometry\n",
    "query = (\"\"\" PARTS =  0\"\"\")\n",
    "arcpy.SelectLayerByAttribute_management(parcels_for_modeling_layer, 'NEW_SELECTION', query)\n",
    "parcels_for_modeling_layer = arcpy.DeleteFeatures_management(parcels_for_modeling_layer)"
   ]
  },
  {
   "cell_type": "code",
   "execution_count": 8,
   "metadata": {
    "ExecuteTime": {
     "end_time": "2021-08-04T19:55:08.581345Z",
     "start_time": "2021-08-04T19:55:08.501886Z"
    }
   },
   "outputs": [
    {
     "name": "stdout",
     "output_type": "stream",
     "text": [
      "# initial parcels in modeling area:\n",
      " 96977\n"
     ]
    }
   ],
   "source": [
    "# get a count of all parcels\n",
    "count_all = arcpy.GetCount_management(parcels_for_modeling_layer)\n",
    "print(\"# initial parcels in modeling area:\\n {}\".format(count_all))"
   ]
  },
  {
   "cell_type": "markdown",
   "metadata": {},
   "source": [
    "## Load Owned Unit Groupings boundaries (common areas) and summarize parcels within"
   ]
  },
  {
   "cell_type": "code",
   "execution_count": 9,
   "metadata": {
    "ExecuteTime": {
     "end_time": "2021-08-04T19:55:11.143645Z",
     "start_time": "2021-08-04T19:55:08.582314Z"
    }
   },
   "outputs": [],
   "source": [
    "###############\n",
    "# Common Areas\n",
    "###############\n",
    "\n",
    "common_areas_lyr = arcpy.MakeFeatureLayer_management(common_areas, 'common_areas_lyr') \n",
    "\n",
    "# Planned Unit Developments\n",
    "query = \"\"\" SUBTYPE_WFRC IN ('pud') \"\"\"\n",
    "arcpy.SelectLayerByAttribute_management(common_areas_lyr, 'NEW_SELECTION', query)\n",
    "ca_pud = arcpy.FeatureClassToFeatureClass_conversion(common_areas_lyr, scratch, '_02g_ca_pud')\n",
    "\n",
    "# multi_family\n",
    "query = \"\"\" TYPE_WFRC IN ('multi_family') \"\"\"\n",
    "arcpy.SelectLayerByAttribute_management(common_areas_lyr, 'NEW_SELECTION', query)\n",
    "ca_multi_family = arcpy.FeatureClassToFeatureClass_conversion(common_areas_lyr, scratch, '_02e_ca_multi_family')\n"
   ]
  },
  {
   "cell_type": "code",
   "execution_count": 10,
   "metadata": {
    "ExecuteTime": {
     "end_time": "2021-08-04T19:55:21.886593Z",
     "start_time": "2021-08-04T19:55:11.143645Z"
    }
   },
   "outputs": [
    {
     "name": "stdout",
     "output_type": "stream",
     "text": [
      "2107 \"single_family\" parcels were selected.\n",
      "94870 parcels remain...\n"
     ]
    }
   ],
   "source": [
    "###############\n",
    "# PUD\n",
    "###############\n",
    "\n",
    "tag = \"single_family\"\n",
    "tag2 = \"pud\"\n",
    "\n",
    "# parcels that are contained by condo common areas\n",
    "arcpy.SelectLayerByLocation_management(in_layer=parcels_for_modeling_layer , overlap_type=\"INTERSECT\", \n",
    "                                       select_features=ca_pud, selection_type='NEW_SELECTION')\n",
    "\n",
    "# convert condo parcels that are contained by common areas into centroids\n",
    "pud_centroids = arcpy.FeatureToPoint_management(parcels_for_modeling_layer, \n",
    "                                                  os.path.join(scratch, '_03a_pud_centroids'), \"INSIDE\")\n",
    "\n",
    "# recalc acreage\n",
    "arcpy.CalculateField_management(ca_pud, \"PARCEL_ACRES\", \"\"\"!SHAPE.area@ACRES!\"\"\", \"PYTHON3\")\n",
    "\n",
    "#==================================================\n",
    "# summarize units attributes within pud areas\n",
    "#==================================================\n",
    "\n",
    "# use spatial join to summarize market value & acreage\n",
    "target_features = ca_pud\n",
    "join_features = pud_centroids\n",
    "output_features = os.path.join(scratch, \"_03a_pud_sj\")\n",
    "\n",
    "fieldmappings = arcpy.FieldMappings()\n",
    "fieldmappings.addTable(target_features)\n",
    "fieldmappings.addTable(join_features)\n",
    "\n",
    "# total market value\n",
    "fieldindex = fieldmappings.findFieldMapIndex('TOTAL_MKT_VALUE')\n",
    "fieldmap = fieldmappings.getFieldMap(fieldindex)\n",
    "fieldmap.mergeRule = 'Sum'\n",
    "fieldmappings.replaceFieldMap(fieldindex, fieldmap)\n",
    "\n",
    "# total land value\n",
    "fieldindex = fieldmappings.findFieldMapIndex('LAND_MKT_VALUE')\n",
    "fieldmap = fieldmappings.getFieldMap(fieldindex)\n",
    "fieldmap.mergeRule = 'Sum'\n",
    "fieldmappings.replaceFieldMap(fieldindex, fieldmap)\n",
    "\n",
    "# building square feet\n",
    "fieldindex = fieldmappings.findFieldMapIndex('BLDG_SQFT')\n",
    "fieldmap = fieldmappings.getFieldMap(fieldindex)\n",
    "fieldmap.mergeRule = 'Sum'\n",
    "fieldmappings.replaceFieldMap(fieldindex, fieldmap)\n",
    "\n",
    "# floor count\n",
    "fieldindex = fieldmappings.findFieldMapIndex('FLOORS_CNT')\n",
    "fieldmap = fieldmappings.getFieldMap(fieldindex)\n",
    "fieldmap.mergeRule = 'Mean'\n",
    "fieldmappings.replaceFieldMap(fieldindex, fieldmap)\n",
    "\n",
    "# year\n",
    "fieldindex = fieldmappings.findFieldMapIndex('BUILT_YR')\n",
    "fieldmap = fieldmappings.getFieldMap(fieldindex)\n",
    "fieldmap.mergeRule = 'Mode'\n",
    "fieldmappings.replaceFieldMap(fieldindex, fieldmap)\n",
    "\n",
    "# built year max\n",
    "fieldindex = fieldmappings.findFieldMapIndex('BUILT_YR2')\n",
    "fieldmap = fieldmappings.getFieldMap(fieldindex)\n",
    "fieldmap.mergeRule = 'Max'\n",
    "fieldmappings.replaceFieldMap(fieldindex, fieldmap)\n",
    "\n",
    "# run the spatial join, use 'Join_Count' for number of units\n",
    "oug_sj = arcpy.SpatialJoin_analysis(target_features, join_features, output_features,'JOIN_ONE_TO_ONE', \"KEEP_ALL\", \n",
    "                           fieldmappings, \"INTERSECT\")\n",
    "\n",
    "# calculate the type field\n",
    "arcpy.CalculateField_management(oug_sj, field='TYPE_WFRC', expression=\"'{}'\".format(tag),\n",
    "                                expression_type=\"PYTHON3\")\n",
    "\n",
    "arcpy.CalculateField_management(oug_sj, field='SUBTYPE_WFRC', expression=\"'{}'\".format(tag2),\n",
    "                                expression_type=\"PYTHON3\")\n",
    "\n",
    "# rename join_count\n",
    "arcpy.CalculateField_management(oug_sj, field='parcel_count', expression=\"!Join_Count!\",\n",
    "                                expression_type=\"PYTHON3\")\n",
    "\n",
    "arcpy.DeleteField_management(oug_sj, \"Join_Count\")\n",
    "\n",
    "#################################\n",
    "# get count from address points\n",
    "#################################\n",
    "\n",
    "# summarize address points address_point_count \"ap_count\"\n",
    "target_features = oug_sj \n",
    "join_features = address_pts_no_base\n",
    "output_features = os.path.join(gdb, \"_02_pud\")\n",
    "\n",
    "fieldmappings = arcpy.FieldMappings()\n",
    "fieldmappings.addTable(target_features)\n",
    "fieldmappings.addTable(join_features)\n",
    "\n",
    "oug_sj2 = arcpy.SpatialJoin_analysis(target_features, join_features, output_features,'JOIN_ONE_TO_ONE', \"KEEP_ALL\", \n",
    "                           fieldmappings, match_option=\"INTERSECT\")\n",
    "\n",
    "arcpy.CalculateField_management(oug_sj2, field='ap_count', expression=\"!Join_Count!\", expression_type=\"PYTHON3\")\n",
    "arcpy.DeleteField_management(oug_sj2, \"Join_Count\")\n",
    "\n",
    "#################################\n",
    "# WRAP-UP\n",
    "#################################\n",
    "\n",
    "# delete features from working parcels\n",
    "arcpy.SelectLayerByLocation_management(in_layer=parcels_for_modeling_layer , overlap_type=\"HAVE_THEIR_CENTER_IN\", \n",
    "                                       select_features=oug_sj2, selection_type='NEW_SELECTION')\n",
    "arcpy.SelectLayerByLocation_management(in_layer=parcels_for_modeling_layer , overlap_type=\"WITHIN\", \n",
    "                                       select_features=oug_sj2, selection_type='ADD_TO_SELECTION')\n",
    "\n",
    "count_type = arcpy.GetCount_management(parcels_for_modeling_layer)\n",
    "parcels_for_modeling_layer = arcpy.DeleteFeatures_management(parcels_for_modeling_layer)\n",
    "\n",
    "# count of remaining parcels\n",
    "count_remaining = arcpy.GetCount_management(parcels_for_modeling_layer)\n",
    "\n",
    "# update year built with max if mode is 0\n",
    "with arcpy.da.UpdateCursor(oug_sj2, ['BUILT_YR', 'BUILT_YR2']) as cursor:\n",
    "    for row in cursor:\n",
    "        if row[0]  is None or row[0] < 1 or row[0] == \"\":\n",
    "            row[0] = row[1]\n",
    "        \n",
    "        cursor.updateRow(row)\n",
    "\n",
    "# calculate basebldg field\n",
    "arcpy.CalculateField_management(oug_sj2, field='basebldg', expression=\"1\",\n",
    "                                expression_type=\"PYTHON3\")\n",
    "\n",
    "# calculate building_type_id field\n",
    "arcpy.CalculateField_management(oug_sj2, field='building_type_id', expression=\"1\",\n",
    "                                expression_type=\"PYTHON3\")\n",
    "\n",
    "# message\n",
    "print('{} \"{}\" parcels were selected.\\n{} parcels remain...'.format(count_type, tag, count_remaining))"
   ]
  },
  {
   "cell_type": "code",
   "execution_count": 11,
   "metadata": {
    "ExecuteTime": {
     "end_time": "2021-08-04T19:55:33.627768Z",
     "start_time": "2021-08-04T19:55:21.887562Z"
    }
   },
   "outputs": [
    {
     "name": "stdout",
     "output_type": "stream",
     "text": [
      "8821 \"multi_family\" parcels were selected.\n",
      "86049 parcels remain...\n"
     ]
    }
   ],
   "source": [
    "###############\n",
    "# multi family\n",
    "###############\n",
    "\n",
    "tag = \"multi_family\"\n",
    "\n",
    "# parcels that are contained by condo common areas\n",
    "arcpy.SelectLayerByLocation_management(in_layer=parcels_for_modeling_layer , overlap_type=\"INTERSECT\", \n",
    "                                       select_features=ca_multi_family, selection_type='NEW_SELECTION')\n",
    "\n",
    "# convert condo parcels that are contained by common areas into centroids\n",
    "mf_centroids = arcpy.FeatureToPoint_management(parcels_for_modeling_layer, \n",
    "                                                  os.path.join(scratch, '_03a_mf_centroids'), \"INSIDE\")\n",
    "\n",
    "# recalc acreage\n",
    "arcpy.CalculateField_management(ca_multi_family, \"PARCEL_ACRES\", \"\"\"!SHAPE.area@ACRES!\"\"\", \"PYTHON3\")\n",
    "\n",
    "#==================================================\n",
    "# summarize units attributes within pud areas\n",
    "#==================================================\n",
    "\n",
    "# use spatial join to summarize market value & acreage\n",
    "target_features = ca_multi_family\n",
    "join_features = mf_centroids\n",
    "output_features = os.path.join(scratch, \"_03b_mf_sj\")\n",
    "\n",
    "fieldmappings = arcpy.FieldMappings()\n",
    "fieldmappings.addTable(target_features)\n",
    "fieldmappings.addTable(join_features)\n",
    "\n",
    "# total market value\n",
    "fieldindex = fieldmappings.findFieldMapIndex('TOTAL_MKT_VALUE')\n",
    "fieldmap = fieldmappings.getFieldMap(fieldindex)\n",
    "fieldmap.mergeRule = 'Sum'\n",
    "fieldmappings.replaceFieldMap(fieldindex, fieldmap)\n",
    "\n",
    "# total land value\n",
    "fieldindex = fieldmappings.findFieldMapIndex('LAND_MKT_VALUE')\n",
    "fieldmap = fieldmappings.getFieldMap(fieldindex)\n",
    "fieldmap.mergeRule = 'Sum'\n",
    "fieldmappings.replaceFieldMap(fieldindex, fieldmap)\n",
    "\n",
    "# building square feet\n",
    "fieldindex = fieldmappings.findFieldMapIndex('BLDG_SQFT')\n",
    "fieldmap = fieldmappings.getFieldMap(fieldindex)\n",
    "fieldmap.mergeRule = 'Sum'\n",
    "fieldmappings.replaceFieldMap(fieldindex, fieldmap)\n",
    "\n",
    "# floor count\n",
    "fieldindex = fieldmappings.findFieldMapIndex('FLOORS_CNT')\n",
    "fieldmap = fieldmappings.getFieldMap(fieldindex)\n",
    "fieldmap.mergeRule = 'Mean'\n",
    "fieldmappings.replaceFieldMap(fieldindex, fieldmap)\n",
    "\n",
    "# year\n",
    "fieldindex = fieldmappings.findFieldMapIndex('BUILT_YR')\n",
    "fieldmap = fieldmappings.getFieldMap(fieldindex)\n",
    "fieldmap.mergeRule = 'Mode'\n",
    "fieldmappings.replaceFieldMap(fieldindex, fieldmap)\n",
    "\n",
    "# built year max\n",
    "fieldindex = fieldmappings.findFieldMapIndex('BUILT_YR2')\n",
    "fieldmap = fieldmappings.getFieldMap(fieldindex)\n",
    "fieldmap.mergeRule = 'Max'\n",
    "fieldmappings.replaceFieldMap(fieldindex, fieldmap)\n",
    "\n",
    "# run the spatial join, use 'Join_Count' for number of units\n",
    "oug_sj = arcpy.SpatialJoin_analysis(target_features, join_features, output_features,'JOIN_ONE_TO_ONE', \"KEEP_ALL\", \n",
    "                           fieldmappings, \"INTERSECT\")\n",
    "\n",
    "# calculate the type field\n",
    "arcpy.CalculateField_management(oug_sj, field='TYPE_WFRC', expression=\"'{}'\".format(tag),\n",
    "                                expression_type=\"PYTHON3\")\n",
    "\n",
    "# rename join_count\n",
    "arcpy.CalculateField_management(oug_sj, field='parcel_count', expression=\"!Join_Count!\",\n",
    "                                expression_type=\"PYTHON3\")\n",
    "\n",
    "arcpy.DeleteField_management(oug_sj, \"Join_Count\")\n",
    "\n",
    "#################################\n",
    "# get count from address points\n",
    "#################################\n",
    "\n",
    "# summarize address points address_point_count \"ap_count\"\n",
    "target_features = oug_sj \n",
    "join_features = address_pts_no_base\n",
    "output_features = os.path.join(gdb, \"_02_multi_family\")\n",
    "\n",
    "fieldmappings = arcpy.FieldMappings()\n",
    "fieldmappings.addTable(target_features)\n",
    "fieldmappings.addTable(join_features)\n",
    "\n",
    "oug_sj2 = arcpy.SpatialJoin_analysis(target_features, join_features, output_features,'JOIN_ONE_TO_ONE', \"KEEP_ALL\", \n",
    "                           fieldmappings, match_option=\"INTERSECT\")\n",
    "\n",
    "arcpy.CalculateField_management(oug_sj2, field='ap_count', expression=\"!Join_Count!\", expression_type=\"PYTHON3\")\n",
    "arcpy.DeleteField_management(oug_sj2, \"Join_Count\")\n",
    "\n",
    "#################################\n",
    "# WRAP-UP\n",
    "#################################\n",
    "\n",
    "# delete features from working parcels\n",
    "arcpy.SelectLayerByLocation_management(in_layer=parcels_for_modeling_layer , overlap_type=\"HAVE_THEIR_CENTER_IN\", \n",
    "                                       select_features=oug_sj2, selection_type='NEW_SELECTION')\n",
    "arcpy.SelectLayerByLocation_management(in_layer=parcels_for_modeling_layer , overlap_type=\"WITHIN\", \n",
    "                                       select_features=oug_sj2, selection_type='ADD_TO_SELECTION')\n",
    "\n",
    "count_type = arcpy.GetCount_management(parcels_for_modeling_layer)\n",
    "parcels_for_modeling_layer = arcpy.DeleteFeatures_management(parcels_for_modeling_layer)\n",
    "\n",
    "# count of remaining parcels\n",
    "count_remaining = arcpy.GetCount_management(parcels_for_modeling_layer)\n",
    "\n",
    "# update year built with max if mode is 0\n",
    "with arcpy.da.UpdateCursor(oug_sj2, ['BUILT_YR', 'BUILT_YR2']) as cursor:\n",
    "    for row in cursor:\n",
    "        if row[0]  is None or row[0] < 1 or row[0] == \"\":\n",
    "            row[0] = row[1]\n",
    "        \n",
    "        cursor.updateRow(row)\n",
    "\n",
    "# calculate basebldg field\n",
    "arcpy.CalculateField_management(oug_sj2, field='basebldg', expression=\"1\",\n",
    "                                expression_type=\"PYTHON3\")\n",
    "\n",
    "# calculate building_type_id field\n",
    "arcpy.CalculateField_management(oug_sj2, field='building_type_id', expression=\"2\",\n",
    "                                expression_type=\"PYTHON3\")\n",
    "\n",
    "# message\n",
    "print('{} \"{}\" parcels were selected.\\n{} parcels remain...'.format(count_type, tag, count_remaining))"
   ]
  },
  {
   "cell_type": "markdown",
   "metadata": {},
   "source": [
    "## Categorize parcels"
   ]
  },
  {
   "cell_type": "code",
   "execution_count": 12,
   "metadata": {
    "ExecuteTime": {
     "end_time": "2021-08-04T19:55:52.302080Z",
     "start_time": "2021-08-04T19:55:33.628457Z"
    }
   },
   "outputs": [
    {
     "name": "stdout",
     "output_type": "stream",
     "text": [
      "61784 \"single_family\" parcels were selected.\n",
      "24265 parcels remain...\n"
     ]
    }
   ],
   "source": [
    "################\n",
    "# single_family\n",
    "################\n",
    "\n",
    "query = (''' PROP_CLASS IN ('108- SFR on COMM Zone', '111- SNGL FAM RES', '502-COMM LAND with SFR', \n",
    "            '508- Both RES & COMM IMPRVD') OR PARCEL_ID IN ('161300020', '010600021','130340037') ''')\n",
    "tag=\"single_family\"\n",
    "\n",
    "\n",
    "# select the features\n",
    "arcpy.SelectLayerByAttribute_management(parcels_for_modeling_layer, 'NEW_SELECTION', query)\n",
    "\n",
    "# these parcels are probably sf residential, but with no building\n",
    "query = (''' PROP_CLASS IN ('121-OUT BLDGS', '957-RELATED PARCEL') OR PARCEL_ID IN ('130060033','130170033') ''')\n",
    "arcpy.SelectLayerByAttribute_management(parcels_for_modeling_layer, 'ADD_TO_SELECTION', query)\n",
    "\n",
    "# count the selected features\n",
    "count_type = arcpy.GetCount_management(parcels_for_modeling_layer)\n",
    "\n",
    "# calculate the type field\n",
    "arcpy.CalculateField_management(parcels_for_modeling_layer, field='TYPE_WFRC', expression=\"'{}'\".format(tag),\n",
    "                                expression_type=\"PYTHON3\")\n",
    "\n",
    "# calculate the type field\n",
    "arcpy.CalculateField_management(parcels_for_modeling_layer, field='SUBTYPE_WFRC', expression=\"'{}'\".format(tag),\n",
    "                                expression_type=\"PYTHON3\")\n",
    "\n",
    "# create the feature class for the parcel type\n",
    "single_family = arcpy.FeatureClassToFeatureClass_conversion(parcels_for_modeling_layer, gdb, '_02_{}'.format(tag))\n",
    "\n",
    "# delete features from working parcels\n",
    "parcels_for_modeling_layer = arcpy.DeleteFeatures_management(parcels_for_modeling_layer)\n",
    "\n",
    "# count remaining features\n",
    "arcpy.SelectLayerByAttribute_management(parcels_for_modeling_layer, \"CLEAR_SELECTION\")\n",
    "count_remaining = arcpy.GetCount_management(parcels_for_modeling_layer)\n",
    "\n",
    "# calculate basebldg field\n",
    "arcpy.CalculateField_management(os.path.join(gdb, '_02_{}'.format(tag)), field='basebldg', expression=\"1\",\n",
    "                                expression_type=\"PYTHON3\")\n",
    "\n",
    "# calculate building_type_id field\n",
    "arcpy.CalculateField_management(os.path.join(gdb, '_02_{}'.format(tag)), field='building_type_id', expression=\"1\",\n",
    "                                expression_type=\"PYTHON3\")\n",
    "\n",
    "# message\n",
    "print('{} \"{}\" parcels were selected.\\n{} parcels remain...'.format(count_type, tag, count_remaining))"
   ]
  },
  {
   "cell_type": "code",
   "execution_count": 13,
   "metadata": {
    "ExecuteTime": {
     "end_time": "2021-08-04T19:55:55.543199Z",
     "start_time": "2021-08-04T19:55:52.303077Z"
    }
   },
   "outputs": [
    {
     "name": "stdout",
     "output_type": "stream",
     "text": [
      "1484 \"multi_family\" parcels were selected.\n",
      "22781 parcels remain...\n"
     ]
    }
   ],
   "source": [
    "################\n",
    "# Duplex\n",
    "################\n",
    "\n",
    "tag=\"multi_family\"\n",
    "tag2=\"duplex\"\n",
    "\n",
    "query = (''' PROP_CLASS IN ('112- DUPLEX') ''')\n",
    "\n",
    "arcpy.SelectLayerByAttribute_management(parcels_for_modeling_layer, 'NEW_SELECTION', query)\n",
    "\n",
    "\n",
    "# count the selected features\n",
    "count_type = arcpy.GetCount_management(parcels_for_modeling_layer)\n",
    "\n",
    "# calculate the type field\n",
    "arcpy.CalculateField_management(parcels_for_modeling_layer, field='TYPE_WFRC', expression=\"'{}'\".format(tag),\n",
    "                                expression_type=\"PYTHON3\")\n",
    "\n",
    "# calculate the type field\n",
    "arcpy.CalculateField_management(parcels_for_modeling_layer, field='SUBTYPE_WFRC', expression=\"'{}'\".format(tag2),\n",
    "                                expression_type=\"PYTHON3\")\n",
    "\n",
    "# create the feature class for the parcel type\n",
    "arcpy.FeatureClassToFeatureClass_conversion(parcels_for_modeling_layer, gdb, '_02_{}'.format(tag2))\n",
    "\n",
    "# delete features from working parcels\n",
    "parcels_for_modeling_layer = arcpy.DeleteFeatures_management(parcels_for_modeling_layer)\n",
    "\n",
    "# count remaining features\n",
    "arcpy.SelectLayerByAttribute_management(parcels_for_modeling_layer, \"CLEAR_SELECTION\")\n",
    "count_remaining = arcpy.GetCount_management(parcels_for_modeling_layer)\n",
    "\n",
    "# calculate basebldg field\n",
    "arcpy.CalculateField_management(os.path.join(gdb, '_02_{}'.format(tag)), field='basebldg', expression=\"1\",\n",
    "                                expression_type=\"PYTHON3\")\n",
    "\n",
    "# calculate building_type_id field\n",
    "arcpy.CalculateField_management(os.path.join(gdb, '_02_{}'.format(tag)), field='building_type_id', expression=\"1\",\n",
    "                                expression_type=\"PYTHON3\")\n",
    "\n",
    "# message\n",
    "print('{} \"{}\" parcels were selected.\\n{} parcels remain...'.format(count_type, tag, count_remaining))"
   ]
  },
  {
   "cell_type": "code",
   "execution_count": 14,
   "metadata": {
    "ExecuteTime": {
     "end_time": "2021-08-04T19:56:01.486967Z",
     "start_time": "2021-08-04T19:55:55.544196Z"
    }
   },
   "outputs": [
    {
     "name": "stdout",
     "output_type": "stream",
     "text": [
      "827 \"multi_family\" parcels were selected.\n",
      "21954 parcels remain...\n"
     ]
    }
   ],
   "source": [
    "################\n",
    "# Apartment\n",
    "################\n",
    "\n",
    "query = (''' PROP_CLASS IN ('113- 3-4 UNITS','114- 5-9 UNITS', '115- 10+ UNITS') OR \n",
    "            PARCEL_ID IN ('010600021', '122210002','120840030', '120310022')''')\n",
    "tag=\"multi_family\"\n",
    "tag2=\"apartment\"\n",
    "\n",
    "# select the features\n",
    "arcpy.SelectLayerByAttribute_management(parcels_for_modeling_layer, 'NEW_SELECTION', query)\n",
    "\n",
    "# count the selected features\n",
    "count_type = arcpy.GetCount_management(parcels_for_modeling_layer)\n",
    "\n",
    "# calculate the type field\n",
    "arcpy.CalculateField_management(parcels_for_modeling_layer, field='TYPE_WFRC', expression=\"'{}'\".format(tag),\n",
    "                                expression_type=\"PYTHON3\")\n",
    "\n",
    "# calculate the type field\n",
    "arcpy.CalculateField_management(parcels_for_modeling_layer, field='SUBTYPE_WFRC', expression=\"'{}'\".format(tag2),\n",
    "                                expression_type=\"PYTHON3\")\n",
    "\n",
    "# create the feature class for the parcel type\n",
    "mf2_commons = arcpy.FeatureClassToFeatureClass_conversion(parcels_for_modeling_layer, scratch, '_02_mf2_commons')\n",
    "\n",
    "#################################\n",
    "# get count from address points\n",
    "#################################\n",
    "\n",
    "# summarize address points address_point_count \"ap_count\"\n",
    "target_features = mf2_commons\n",
    "join_features = address_pts_no_base\n",
    "output_features = os.path.join(gdb, \"_02_apartment\")\n",
    "\n",
    "fieldmappings = arcpy.FieldMappings()\n",
    "fieldmappings.addTable(target_features)\n",
    "fieldmappings.addTable(join_features)\n",
    "\n",
    "oug_sj2 = arcpy.SpatialJoin_analysis(target_features, join_features, output_features,'JOIN_ONE_TO_ONE', \"KEEP_ALL\", \n",
    "                           fieldmappings, match_option=\"INTERSECT\")\n",
    "\n",
    "arcpy.CalculateField_management(oug_sj2, field='ap_count', expression=\"!Join_Count!\", expression_type=\"PYTHON3\")\n",
    "arcpy.DeleteField_management(oug_sj2, \"Join_Count\")\n",
    "\n",
    "#################################\n",
    "# WRAP-UP\n",
    "#################################\n",
    "\n",
    "# calculate basebldg field\n",
    "arcpy.CalculateField_management(oug_sj2, field='basebldg', expression=\"1\",\n",
    "                                expression_type=\"PYTHON3\")\n",
    "\n",
    "# calculate building_type_id field\n",
    "arcpy.CalculateField_management(oug_sj2, field='building_type_id', expression=\"2\",\n",
    "                                expression_type=\"PYTHON3\")\n",
    "\n",
    "# delete features from working parcels\n",
    "parcels_for_modeling_layer = arcpy.DeleteFeatures_management(parcels_for_modeling_layer)\n",
    "\n",
    "# count remaining features\n",
    "arcpy.SelectLayerByAttribute_management(parcels_for_modeling_layer, \"CLEAR_SELECTION\")\n",
    "count_remaining = arcpy.GetCount_management(parcels_for_modeling_layer)\n",
    "\n",
    "# message\n",
    "print('{} \"{}\" parcels were selected.\\n{} parcels remain...'.format(count_type, tag, count_remaining))"
   ]
  },
  {
   "cell_type": "code",
   "execution_count": 15,
   "metadata": {
    "ExecuteTime": {
     "end_time": "2021-08-04T19:56:07.062469Z",
     "start_time": "2021-08-04T19:56:01.487965Z"
    }
   },
   "outputs": [
    {
     "name": "stdout",
     "output_type": "stream",
     "text": [
      "30 \"multi_family\" parcels were selected.\n",
      "21924 parcels remain...\n"
     ]
    }
   ],
   "source": [
    "#################\n",
    "# mobile home parks\n",
    "#################\n",
    "\n",
    "tag = \"multi_family\"\n",
    "tag2 = \"mobile_home_park\"\n",
    "\n",
    "# use overlay to select mobile home parks parcels\n",
    "mobile_home_parks = \".\\\\Inputs\\\\Mobile_Home_Parks.shp\"\n",
    "arcpy.SelectLayerByLocation_management(in_layer=parcels_for_modeling_layer,overlap_type=\"HAVE_THEIR_CENTER_IN\",\n",
    "                                       select_features=mobile_home_parks,\n",
    "                                       selection_type='NEW_SELECTION')\n",
    "\n",
    "query= (\"\"\" PROP_CLASS IN ('118- MOBILE HOME') \"\"\")\n",
    "arcpy.SelectLayerByAttribute_management(parcels_for_modeling_layer, 'ADD_TO_SELECTION', query)\n",
    "\n",
    "# count the selected features\n",
    "count_type = arcpy.GetCount_management(parcels_for_modeling_layer)\n",
    "\n",
    "# calculate the type field\n",
    "arcpy.CalculateField_management(parcels_for_modeling_layer, field='TYPE_WFRC', expression=\"'{}'\".format(tag),\n",
    "                                expression_type=\"PYTHON3\")\n",
    "\n",
    "# calculate the type field\n",
    "arcpy.CalculateField_management(parcels_for_modeling_layer, field='SUBTYPE_WFRC', expression=\"'{}'\".format(tag2),\n",
    "                                expression_type=\"PYTHON3\")\n",
    "\n",
    "# create the feature class for the parcel type\n",
    "mhp = arcpy.FeatureClassToFeatureClass_conversion(parcels_for_modeling_layer, scratch, '_07a_{}'.format(tag))\n",
    "\n",
    "# delete features from working parcels\n",
    "parcels_for_modeling_layer = arcpy.DeleteFeatures_management(parcels_for_modeling_layer)\n",
    "\n",
    "# count remaining features\n",
    "arcpy.SelectLayerByAttribute_management(parcels_for_modeling_layer, \"CLEAR_SELECTION\")\n",
    "count_remaining = arcpy.GetCount_management(parcels_for_modeling_layer)\n",
    "\n",
    "# recalc acreage \n",
    "# arcpy.CalculateGeometryAttributes_management(mhp, [[\"PARCEL_ACRES\", \"AREA\"]], area_unit='ACRES')\n",
    "arcpy.CalculateField_management(mhp, \"PARCEL_ACRES\", \"\"\"!SHAPE.area@ACRES!\"\"\", \"PYTHON3\")\n",
    "\n",
    "#################################\n",
    "# get count from address points\n",
    "#################################\n",
    "\n",
    "# summarize address points address_point_count \"ap_count\"\n",
    "target_features = mhp\n",
    "join_features = address_pts_no_base\n",
    "output_features = os.path.join(gdb, \"_02_mobile_home_park\")\n",
    "\n",
    "oug_sj2 = arcpy.SpatialJoin_analysis(target_features, join_features, output_features,'JOIN_ONE_TO_ONE', \"KEEP_ALL\", \n",
    "                           match_option=\"INTERSECT\")\n",
    "\n",
    "arcpy.CalculateField_management(oug_sj2, field='ap_count', expression=\"!Join_Count!\", expression_type=\"PYTHON3\")\n",
    "arcpy.DeleteField_management(oug_sj2, \"Join_Count\")\n",
    "\n",
    "# calculate basebldg field\n",
    "arcpy.CalculateField_management(oug_sj2, field='basebldg', expression=\"1\",\n",
    "                                expression_type=\"PYTHON3\")\n",
    "\n",
    "# message\n",
    "print('{} \"{}\" parcels were selected.\\n{} parcels remain...'.format(count_type, tag, count_remaining))"
   ]
  },
  {
   "cell_type": "markdown",
   "metadata": {},
   "source": [
    "## Merge the residential parcels back to together and format/process using pandas"
   ]
  },
  {
   "cell_type": "code",
   "execution_count": 16,
   "metadata": {
    "ExecuteTime": {
     "end_time": "2021-08-04T19:56:29.318245Z",
     "start_time": "2021-08-04T19:56:07.065467Z"
    }
   },
   "outputs": [],
   "source": [
    "# create paths\n",
    "res_files = ['_02_pud', '_02_single_family','_02_duplex', '_02_mobile_home_park', '_02_multi_family', '_02_apartment']\n",
    "res_files = [os.path.join(gdb, res_file) for res_file in res_files]\n",
    "\n",
    "# merge features\n",
    "rf_merged = arcpy.Merge_management(res_files, os.path.join(scratch, '_10_Housing_Unit_Inventory'), \n",
    "                                   add_source='ADD_SOURCE_INFO')\n",
    "\n",
    "#-----------------------------\n",
    "# add cities as an attribute\n",
    "#-----------------------------\n",
    "\n",
    "cities = r'.\\Inputs\\Cities.shp' \n",
    "target_features = rf_merged\n",
    "join_features = cities\n",
    "output_features = os.path.join(gdb, '_04_Housing_Unit_Inventory')\n",
    "\n",
    "rf_merged = arcpy.SpatialJoin_analysis(target_features, join_features, output_features,'JOIN_ONE_TO_ONE', \"KEEP_ALL\", \n",
    "                           match_option=\"HAVE_THEIR_CENTER_IN\")\n",
    "\n",
    "#---------------------------------\n",
    "# add subcounties as an attribute\n",
    "#---------------------------------\n",
    "subcounties = r'.\\Inputs\\SubCountyArea_2019.shp' \n",
    "target_features = rf_merged\n",
    "join_features = subcounties\n",
    "output_features = os.path.join(scratch, '_10c_Housing_Unit_Inventory_SubCounty')\n",
    "rf_merged = arcpy.SpatialJoin_analysis(target_features, join_features, output_features,'JOIN_ONE_TO_ONE', \"KEEP_ALL\", \n",
    "                           match_option=\"HAVE_THEIR_CENTER_IN\")\n",
    "\n",
    "# convert to dataframe and export\n",
    "rf_merged_df = pd.DataFrame.spatial.from_featureclass(rf_merged)\n",
    "\n",
    "\n",
    "\n",
    "# rf_merged_df = rf_merged_df[['OBJECTID','TYPE_WFRC', 'SUBTYPE_WFRC', 'PARCEL_ID', 'TOTAL_MKT_VALUE', \n",
    "#                              'LAND_MKT_VALUE', 'PARCEL_ACRES', 'PROP_CLASS', 'HOUSE_CNT', 'parcel_count', 'ap_count', \n",
    "#                              'BLDG_SQFT','FLOORS_CNT','BUILT_YR', 'NAME',\"NewSA\",'NOTE','SHAPE']].copy()\n",
    "\n",
    "rf_merged_df = rf_merged_df.rename(columns={\"NAME\": \"CITY\"})\n",
    "rf_merged_df = rf_merged_df.rename(columns={\"NewSA\": \"SUBREGION\"})"
   ]
  },
  {
   "cell_type": "code",
   "execution_count": 17,
   "metadata": {
    "ExecuteTime": {
     "end_time": "2021-08-04T19:56:29.318245Z",
     "start_time": "2021-08-04T19:56:07.065467Z"
    }
   },
   "outputs": [],
   "source": [
    "# calc note column using property class\n",
    "rf_merged_df.loc[(rf_merged_df['NOTE'].isnull() == True ), 'NOTE'] = rf_merged_df['PROP_CLASS']\n",
    "\n",
    "# convert unit count columns to int\n",
    "rf_merged_df.loc[(rf_merged_df['HOUSE_CNT'].isnull() == True ), 'HOUSE_CNT'] = 0\n",
    "rf_merged_df.loc[(rf_merged_df['ap_count'].isnull() == True ), 'ap_count'] = 0\n",
    "rf_merged_df['ap_count'] = rf_merged_df['ap_count'].astype(int)\n",
    "\n",
    "\n",
    "# create new count field and calculate\n",
    "rf_merged_df['UNIT_COUNT'] = rf_merged_df['ap_count']\n",
    "\n",
    "# fix single family (non-pud)\n",
    "rf_merged_df.loc[(rf_merged_df['UNIT_COUNT'] == 0) & \n",
    "                 (rf_merged_df['TYPE_WFRC'] == 'single_family'), \n",
    "                 'UNIT_COUNT'] = 1\n",
    "\n",
    "# fix duplex\n",
    "rf_merged_df.loc[(rf_merged_df['UNIT_COUNT'] == 0) & \n",
    "                 (rf_merged_df['TYPE_WFRC'] == 'duplex'), \n",
    "                 'UNIT_COUNT'] = 2\n",
    "\n",
    "rf_merged_df.loc[(rf_merged_df['SUBTYPE_WFRC'] == 'duplex'), 'UNIT_COUNT'] = 2\n",
    "\n",
    "# fix apts\n",
    "rf_merged_df.loc[(rf_merged_df['UNIT_COUNT'] == 0) & \n",
    "                 (rf_merged_df['PROP_CLASS'] == '115- 10+ UNITS'), \n",
    "                 'UNIT_COUNT'] = 10\n",
    "\n",
    "rf_merged_df.loc[(rf_merged_df['UNIT_COUNT'] == 0) & \n",
    "                 (rf_merged_df['PROP_CLASS'] == '114- 5-9 UNITS'), \n",
    "                 'UNIT_COUNT'] = 5\n",
    "\n",
    "rf_merged_df.loc[(rf_merged_df['UNIT_COUNT'] == 0) & \n",
    "                 (rf_merged_df['PROP_CLASS'] == '113- 3-4 UNITS'), \n",
    "                 'UNIT_COUNT'] = 3\n",
    "\n",
    "# calculate the decade\n",
    "rf_merged_df['BUILT_DECADE'] = 'NA'\n",
    "rf_merged_df.loc[(rf_merged_df['BUILT_YR'] >= 1840) & (rf_merged_df['BUILT_YR'] < 1850), 'BUILT_DECADE'] = \"1840's\"\n",
    "rf_merged_df.loc[(rf_merged_df['BUILT_YR'] >= 1850) & (rf_merged_df['BUILT_YR'] < 1860), 'BUILT_DECADE'] = \"1850's\"\n",
    "rf_merged_df.loc[(rf_merged_df['BUILT_YR'] >= 1860) & (rf_merged_df['BUILT_YR'] < 1870), 'BUILT_DECADE'] = \"1860's\"\n",
    "rf_merged_df.loc[(rf_merged_df['BUILT_YR'] >= 1870) & (rf_merged_df['BUILT_YR'] < 1880), 'BUILT_DECADE'] = \"1870's\"\n",
    "rf_merged_df.loc[(rf_merged_df['BUILT_YR'] >= 1880) & (rf_merged_df['BUILT_YR'] < 1890), 'BUILT_DECADE'] = \"1880's\"\n",
    "rf_merged_df.loc[(rf_merged_df['BUILT_YR'] >= 1890) & (rf_merged_df['BUILT_YR'] < 1900), 'BUILT_DECADE'] = \"1890's\"\n",
    "rf_merged_df.loc[(rf_merged_df['BUILT_YR'] >= 1900) & (rf_merged_df['BUILT_YR'] < 1910), 'BUILT_DECADE'] = \"1900's\"\n",
    "rf_merged_df.loc[(rf_merged_df['BUILT_YR'] >= 1910) & (rf_merged_df['BUILT_YR'] < 1920), 'BUILT_DECADE'] = \"1910's\"\n",
    "rf_merged_df.loc[(rf_merged_df['BUILT_YR'] >= 1920) & (rf_merged_df['BUILT_YR'] < 1930), 'BUILT_DECADE'] = \"1920's\"\n",
    "rf_merged_df.loc[(rf_merged_df['BUILT_YR'] >= 1930) & (rf_merged_df['BUILT_YR'] < 1940), 'BUILT_DECADE'] = \"1930's\"\n",
    "rf_merged_df.loc[(rf_merged_df['BUILT_YR'] >= 1940) & (rf_merged_df['BUILT_YR'] < 1950), 'BUILT_DECADE'] = \"1940's\"\n",
    "rf_merged_df.loc[(rf_merged_df['BUILT_YR'] >= 1950) & (rf_merged_df['BUILT_YR'] < 1960), 'BUILT_DECADE'] = \"1950's\"\n",
    "rf_merged_df.loc[(rf_merged_df['BUILT_YR'] >= 1960) & (rf_merged_df['BUILT_YR'] < 1970), 'BUILT_DECADE'] = \"1960's\"\n",
    "rf_merged_df.loc[(rf_merged_df['BUILT_YR'] >= 1970) & (rf_merged_df['BUILT_YR'] < 1980), 'BUILT_DECADE'] = \"1970's\"\n",
    "rf_merged_df.loc[(rf_merged_df['BUILT_YR'] >= 1980) & (rf_merged_df['BUILT_YR'] < 1990), 'BUILT_DECADE'] = \"1980's\"\n",
    "rf_merged_df.loc[(rf_merged_df['BUILT_YR'] >= 1990) & (rf_merged_df['BUILT_YR'] < 2000), 'BUILT_DECADE'] = \"1990's\"\n",
    "rf_merged_df.loc[(rf_merged_df['BUILT_YR'] >= 2000) & (rf_merged_df['BUILT_YR'] < 2010), 'BUILT_DECADE'] = \"2000's\"\n",
    "rf_merged_df.loc[(rf_merged_df['BUILT_YR'] >= 2010) & (rf_merged_df['BUILT_YR'] < 2020), 'BUILT_DECADE'] = \"2010's\"\n",
    "rf_merged_df.loc[(rf_merged_df['BUILT_YR'] >= 2020) & (rf_merged_df['BUILT_YR'] < 2030), 'BUILT_DECADE'] = \"2020's\"\n",
    "\n",
    "# add county\n",
    "rf_merged_df['COUNTY'] = 'WEBER'\n",
    "\n",
    "# remove data points with zero units\n",
    "rf_merged_df = rf_merged_df[~(rf_merged_df['UNIT_COUNT'] == 0) & ~(rf_merged_df['HOUSE_CNT'] == 0)].copy()"
   ]
  },
  {
   "cell_type": "code",
   "execution_count": 18,
   "metadata": {},
   "outputs": [],
   "source": [
    "# Final ordering and subsetting of fields\n",
    "rf_merged_df = rf_merged_df.rename(columns={\"parcel_count\": \"PARCEL_COUNT\"})\n",
    "\n",
    "rf_merged_df = rf_merged_df[['OBJECTID','PARCEL_ID','TYPE_WFRC','SUBTYPE_WFRC','NOTE',\n",
    "                             'CITY','SUBREGION','COUNTY',\n",
    "                             'UNIT_COUNT','PARCEL_COUNT','FLOORS_CNT',\n",
    "                             'PARCEL_ACRES','BLDG_SQFT','TOTAL_MKT_VALUE',\n",
    "                             'BUILT_YR','BUILT_DECADE','SHAPE']].copy()"
   ]
  },
  {
   "cell_type": "code",
   "execution_count": 19,
   "metadata": {
    "ExecuteTime": {
     "end_time": "2021-08-04T19:56:29.745652Z",
     "start_time": "2021-08-04T19:56:29.320238Z"
    }
   },
   "outputs": [],
   "source": [
    "# export to feature class\n",
    "rf_merged_df.spatial.to_featureclass(location=os.path.join(gdb, '_04_weber_housing_unit_inventory'),sanitize_columns=False)\n",
    "\n",
    "# export the final table\n",
    "del rf_merged_df['SHAPE']\n",
    "rf_merged_df.to_csv(os.path.join(outputs, 'weber_housing_unit_inventory.csv'), index=False)"
   ]
  }
 ],
 "metadata": {
  "kernelspec": {
   "display_name": "Python 3",
   "language": "python",
   "name": "python3"
  },
  "language_info": {
   "codemirror_mode": {
    "name": "ipython",
    "version": 3
   },
   "file_extension": ".py",
   "mimetype": "text/x-python",
   "name": "python",
   "nbconvert_exporter": "python",
   "pygments_lexer": "ipython3",
   "version": "3.7.9"
  },
  "varInspector": {
   "cols": {
    "lenName": 16,
    "lenType": 16,
    "lenVar": 40
   },
   "kernels_config": {
    "python": {
     "delete_cmd_postfix": "",
     "delete_cmd_prefix": "del ",
     "library": "var_list.py",
     "varRefreshCmd": "print(var_dic_list())"
    },
    "r": {
     "delete_cmd_postfix": ") ",
     "delete_cmd_prefix": "rm(",
     "library": "var_list.r",
     "varRefreshCmd": "cat(var_dic_list()) "
    }
   },
   "types_to_exclude": [
    "module",
    "function",
    "builtin_function_or_method",
    "instance",
    "_Feature"
   ],
   "window_display": false
  }
 },
 "nbformat": 4,
 "nbformat_minor": 4
}
